{
  "nbformat": 4,
  "nbformat_minor": 0,
  "metadata": {
    "kernelspec": {
      "display_name": "Python 3",
      "language": "python",
      "name": "python3"
    },
    "colab": {
      "name": "ECG_V2.ipynb",
      "provenance": [],
      "collapsed_sections": []
    },
    "accelerator": "GPU"
  },
  "cells": [
    {
      "cell_type": "code",
      "metadata": {
        "colab": {
          "base_uri": "https://localhost:8080/"
        },
        "id": "2yfiDmzNx-AO",
        "outputId": "c5be684b-b6c7-4f1a-ab67-4b4cfff83cf7"
      },
      "source": [
        "from google.colab import drive\n",
        "drive.mount('/content/drive')"
      ],
      "execution_count": null,
      "outputs": [
        {
          "output_type": "stream",
          "name": "stdout",
          "text": [
            "Mounted at /content/drive\n"
          ]
        }
      ]
    },
    {
      "cell_type": "code",
      "metadata": {
        "id": "hilUj-_3y60V"
      },
      "source": [
        "#!unrar x -Y \"/content/drive/MyDrive/Dataset/EMG_Signals/EMG Physical Action Data Set.rar\" \"/content/drive/MyDrive/Dataset/EMG_Signals/EMG_Dataset\""
      ],
      "execution_count": null,
      "outputs": []
    },
    {
      "cell_type": "code",
      "metadata": {
        "colab": {
          "base_uri": "https://localhost:8080/"
        },
        "id": "v2ZdVhfP0diZ",
        "outputId": "4b607b7b-b6c6-4e5c-a1a9-e48aed4eed35"
      },
      "source": [
        "%tensorflow_version 2.x\n",
        "import tensorflow as tf\n",
        "device_name = tf.test.gpu_device_name()\n",
        "if device_name != '/device:GPU:0':\n",
        "  raise SystemError('GPU device not found')\n",
        "print('Found GPU at: {}'.format(device_name))"
      ],
      "execution_count": null,
      "outputs": [
        {
          "output_type": "stream",
          "name": "stdout",
          "text": [
            "Found GPU at: /device:GPU:0\n"
          ]
        }
      ]
    },
    {
      "cell_type": "code",
      "metadata": {
        "id": "n2oaoFxT0zjl"
      },
      "source": [
        "# %tensorflow_version 2.x\n",
        "# import tensorflow as tf\n",
        "# import timeit\n",
        "\n",
        "# device_name = tf.test.gpu_device_name()\n",
        "# if device_name != '/device:GPU:0':\n",
        "#   print(\n",
        "#       '\\n\\nThis error most likely means that this notebook is not '\n",
        "#       'configured to use a GPU.  Change this in Notebook Settings via the '\n",
        "#       'command palette (cmd/ctrl-shift-P) or the Edit menu.\\n\\n')\n",
        "#   raise SystemError('GPU device not found')\n",
        "\n",
        "# def cpu():\n",
        "#   with tf.device('/cpu:0'):\n",
        "#     random_image_cpu = tf.random.normal((100, 100, 100, 3))\n",
        "#     net_cpu = tf.keras.layers.Conv2D(32, 7)(random_image_cpu)\n",
        "#     return tf.math.reduce_sum(net_cpu)\n",
        "\n",
        "# def gpu():\n",
        "#   with tf.device('/device:GPU:0'):\n",
        "#     random_image_gpu = tf.random.normal((100, 100, 100, 3))\n",
        "#     net_gpu = tf.keras.layers.Conv2D(32, 7)(random_image_gpu)\n",
        "#     return tf.math.reduce_sum(net_gpu)\n",
        "  \n",
        "# cpu()\n",
        "# gpu()\n",
        "\n",
        "# print('Time (s) to convolve 32x7x7x3 filter over random 100x100x100x3 images '\n",
        "#       '(batch x height x width x channel). Sum of ten runs.')\n",
        "# print('CPU (s):')\n",
        "# cpu_time = timeit.timeit('cpu()', number=10, setup=\"from __main__ import cpu\")\n",
        "# print(cpu_time)\n",
        "# print('GPU (s):')\n",
        "# gpu_time = timeit.timeit('gpu()', number=10, setup=\"from __main__ import gpu\")\n",
        "# print(gpu_time)\n",
        "# print('GPU speedup over CPU: {}x'.format(int(cpu_time/gpu_time)))"
      ],
      "execution_count": null,
      "outputs": []
    },
    {
      "cell_type": "code",
      "metadata": {
        "pycharm": {
          "name": "#%%\n"
        },
        "id": "HtkRjQe4xsKP"
      },
      "source": [
        "import os\n",
        "import pandas as pd\n",
        "import numpy as np\n",
        "import matplotlib.pyplot as plt"
      ],
      "execution_count": null,
      "outputs": []
    },
    {
      "cell_type": "code",
      "metadata": {
        "pycharm": {
          "name": "#%%\n"
        },
        "colab": {
          "base_uri": "https://localhost:8080/"
        },
        "id": "Kk_VQjFVxsKg",
        "outputId": "2a97adb8-0ae4-4395-d64f-f182422014d3"
      },
      "source": [
        "dataset_root = os.path.join('.', \"/content/drive/MyDrive/Dataset/EMG_Signals/EMG_Dataset\")\n",
        "print(dataset_root)"
      ],
      "execution_count": null,
      "outputs": [
        {
          "output_type": "stream",
          "name": "stdout",
          "text": [
            "/content/drive/MyDrive/Dataset/EMG_Signals/EMG_Dataset\n"
          ]
        }
      ]
    },
    {
      "cell_type": "markdown",
      "metadata": {
        "id": "iSkwQI5k0B4m"
      },
      "source": [
        ""
      ]
    },
    {
      "cell_type": "code",
      "metadata": {
        "pycharm": {
          "name": "#%%\n"
        },
        "colab": {
          "base_uri": "https://localhost:8080/"
        },
        "id": "QFzrXZ2oxsKk",
        "outputId": "35f77bd8-5e08-4923-c77e-2e824d4ec9a2"
      },
      "source": [
        "data_sub_folders = [\"sub1\", \"sub2\", \"sub3\", \"sub4\"] \n",
        "print(data_sub_folders)\n",
        "\n",
        "agg_classes_dict = {\n",
        "    \"Elbowing\": 0,\n",
        "    \"Frontkicking\": 1,\n",
        "    \"Hamering\": 2,\n",
        "    \"Headering\": 3,\n",
        "    \"Kneeing\": 4,\n",
        "    \"Pulling\": 5,\n",
        "    \"Punching\": 6,\n",
        "    \"Pushing\": 7,\n",
        "    \"Sidekicking\": 8,\n",
        "    \"Slapping\": 9\n",
        "}\n",
        "norm_classes_dict = {\n",
        "    \"Bowing\": 10,\n",
        "    \"Clapping\": 11,\n",
        "    \"Handshaking\": 12,\n",
        "    \"Hugging\": 13,\n",
        "    \"Jumping\": 14,\n",
        "    \"Running\": 15,\n",
        "    \"Seating\": 16,\n",
        "    \"Standing\": 17,\n",
        "    \"Walking\": 18,\n",
        "    \"Waving\": 19\n",
        "}\n",
        "col_names = ['R-Bic', 'R-Tri', 'L-Bic', 'L-Tri', 'R-Thi', 'R-Ham', 'L-Thi', 'L-Ham']\n",
        "col_dtypes = dict()\n",
        "for col in col_names:\n",
        "    col_dtypes[col] = np.int32\n",
        "\n",
        "data_classes_files_dict = dict()"
      ],
      "execution_count": null,
      "outputs": [
        {
          "output_type": "stream",
          "name": "stdout",
          "text": [
            "['sub1', 'sub2', 'sub3', 'sub4']\n"
          ]
        }
      ]
    },
    {
      "cell_type": "code",
      "metadata": {
        "pycharm": {
          "name": "#%%\n"
        },
        "colab": {
          "base_uri": "https://localhost:8080/"
        },
        "id": "_SD0YMwgxsKo",
        "outputId": "199be6cf-6d47-43f1-847f-061df6793e7e"
      },
      "source": [
        "\n",
        "df = pd.DataFrame()\n",
        "\n",
        "for type_, category_folder, category_dict in zip([\"Aggressive\", \"Normal\"], [\"Aggressive/txt/\", \"Normal/txt/\"],\n",
        "                                                 [agg_classes_dict, norm_classes_dict]):\n",
        "    for cls, id in category_dict.items():\n",
        "        for folder in data_sub_folders:\n",
        "            txt_file = os.path.join(dataset_root, folder, category_folder, cls + '.txt')\n",
        "            print(\"Processing txt_file: {}\".format(txt_file))\n",
        "            df_cur = pd.read_csv(txt_file, delim_whitespace=True,\n",
        "                                 header=None,\n",
        "                                 names=col_names,\n",
        "                                 dtype=col_dtypes)\n",
        "            df_cur = df_cur.assign(type=type_)\n",
        "            df_cur = df_cur.assign(cls_id=id)\n",
        "            df_cur = df_cur.assign(cls_name=cls)\n",
        "            df_cur = df_cur.assign(sub_id=folder)\n",
        "            df = df.append(df_cur, ignore_index=True, verify_integrity=True)"
      ],
      "execution_count": null,
      "outputs": [
        {
          "output_type": "stream",
          "name": "stdout",
          "text": [
            "Processing txt_file: /content/drive/MyDrive/Dataset/EMG_Signals/EMG_Dataset/sub1/Aggressive/txt/Elbowing.txt\n",
            "Processing txt_file: /content/drive/MyDrive/Dataset/EMG_Signals/EMG_Dataset/sub2/Aggressive/txt/Elbowing.txt\n",
            "Processing txt_file: /content/drive/MyDrive/Dataset/EMG_Signals/EMG_Dataset/sub3/Aggressive/txt/Elbowing.txt\n",
            "Processing txt_file: /content/drive/MyDrive/Dataset/EMG_Signals/EMG_Dataset/sub4/Aggressive/txt/Elbowing.txt\n",
            "Processing txt_file: /content/drive/MyDrive/Dataset/EMG_Signals/EMG_Dataset/sub1/Aggressive/txt/Frontkicking.txt\n",
            "Processing txt_file: /content/drive/MyDrive/Dataset/EMG_Signals/EMG_Dataset/sub2/Aggressive/txt/Frontkicking.txt\n",
            "Processing txt_file: /content/drive/MyDrive/Dataset/EMG_Signals/EMG_Dataset/sub3/Aggressive/txt/Frontkicking.txt\n",
            "Processing txt_file: /content/drive/MyDrive/Dataset/EMG_Signals/EMG_Dataset/sub4/Aggressive/txt/Frontkicking.txt\n",
            "Processing txt_file: /content/drive/MyDrive/Dataset/EMG_Signals/EMG_Dataset/sub1/Aggressive/txt/Hamering.txt\n",
            "Processing txt_file: /content/drive/MyDrive/Dataset/EMG_Signals/EMG_Dataset/sub2/Aggressive/txt/Hamering.txt\n",
            "Processing txt_file: /content/drive/MyDrive/Dataset/EMG_Signals/EMG_Dataset/sub3/Aggressive/txt/Hamering.txt\n",
            "Processing txt_file: /content/drive/MyDrive/Dataset/EMG_Signals/EMG_Dataset/sub4/Aggressive/txt/Hamering.txt\n",
            "Processing txt_file: /content/drive/MyDrive/Dataset/EMG_Signals/EMG_Dataset/sub1/Aggressive/txt/Headering.txt\n",
            "Processing txt_file: /content/drive/MyDrive/Dataset/EMG_Signals/EMG_Dataset/sub2/Aggressive/txt/Headering.txt\n",
            "Processing txt_file: /content/drive/MyDrive/Dataset/EMG_Signals/EMG_Dataset/sub3/Aggressive/txt/Headering.txt\n",
            "Processing txt_file: /content/drive/MyDrive/Dataset/EMG_Signals/EMG_Dataset/sub4/Aggressive/txt/Headering.txt\n",
            "Processing txt_file: /content/drive/MyDrive/Dataset/EMG_Signals/EMG_Dataset/sub1/Aggressive/txt/Kneeing.txt\n",
            "Processing txt_file: /content/drive/MyDrive/Dataset/EMG_Signals/EMG_Dataset/sub2/Aggressive/txt/Kneeing.txt\n",
            "Processing txt_file: /content/drive/MyDrive/Dataset/EMG_Signals/EMG_Dataset/sub3/Aggressive/txt/Kneeing.txt\n",
            "Processing txt_file: /content/drive/MyDrive/Dataset/EMG_Signals/EMG_Dataset/sub4/Aggressive/txt/Kneeing.txt\n",
            "Processing txt_file: /content/drive/MyDrive/Dataset/EMG_Signals/EMG_Dataset/sub1/Aggressive/txt/Pulling.txt\n",
            "Processing txt_file: /content/drive/MyDrive/Dataset/EMG_Signals/EMG_Dataset/sub2/Aggressive/txt/Pulling.txt\n",
            "Processing txt_file: /content/drive/MyDrive/Dataset/EMG_Signals/EMG_Dataset/sub3/Aggressive/txt/Pulling.txt\n",
            "Processing txt_file: /content/drive/MyDrive/Dataset/EMG_Signals/EMG_Dataset/sub4/Aggressive/txt/Pulling.txt\n",
            "Processing txt_file: /content/drive/MyDrive/Dataset/EMG_Signals/EMG_Dataset/sub1/Aggressive/txt/Punching.txt\n",
            "Processing txt_file: /content/drive/MyDrive/Dataset/EMG_Signals/EMG_Dataset/sub2/Aggressive/txt/Punching.txt\n",
            "Processing txt_file: /content/drive/MyDrive/Dataset/EMG_Signals/EMG_Dataset/sub3/Aggressive/txt/Punching.txt\n",
            "Processing txt_file: /content/drive/MyDrive/Dataset/EMG_Signals/EMG_Dataset/sub4/Aggressive/txt/Punching.txt\n",
            "Processing txt_file: /content/drive/MyDrive/Dataset/EMG_Signals/EMG_Dataset/sub1/Aggressive/txt/Pushing.txt\n",
            "Processing txt_file: /content/drive/MyDrive/Dataset/EMG_Signals/EMG_Dataset/sub2/Aggressive/txt/Pushing.txt\n",
            "Processing txt_file: /content/drive/MyDrive/Dataset/EMG_Signals/EMG_Dataset/sub3/Aggressive/txt/Pushing.txt\n",
            "Processing txt_file: /content/drive/MyDrive/Dataset/EMG_Signals/EMG_Dataset/sub4/Aggressive/txt/Pushing.txt\n",
            "Processing txt_file: /content/drive/MyDrive/Dataset/EMG_Signals/EMG_Dataset/sub1/Aggressive/txt/Sidekicking.txt\n",
            "Processing txt_file: /content/drive/MyDrive/Dataset/EMG_Signals/EMG_Dataset/sub2/Aggressive/txt/Sidekicking.txt\n",
            "Processing txt_file: /content/drive/MyDrive/Dataset/EMG_Signals/EMG_Dataset/sub3/Aggressive/txt/Sidekicking.txt\n",
            "Processing txt_file: /content/drive/MyDrive/Dataset/EMG_Signals/EMG_Dataset/sub4/Aggressive/txt/Sidekicking.txt\n",
            "Processing txt_file: /content/drive/MyDrive/Dataset/EMG_Signals/EMG_Dataset/sub1/Aggressive/txt/Slapping.txt\n",
            "Processing txt_file: /content/drive/MyDrive/Dataset/EMG_Signals/EMG_Dataset/sub2/Aggressive/txt/Slapping.txt\n",
            "Processing txt_file: /content/drive/MyDrive/Dataset/EMG_Signals/EMG_Dataset/sub3/Aggressive/txt/Slapping.txt\n",
            "Processing txt_file: /content/drive/MyDrive/Dataset/EMG_Signals/EMG_Dataset/sub4/Aggressive/txt/Slapping.txt\n",
            "Processing txt_file: /content/drive/MyDrive/Dataset/EMG_Signals/EMG_Dataset/sub1/Normal/txt/Bowing.txt\n",
            "Processing txt_file: /content/drive/MyDrive/Dataset/EMG_Signals/EMG_Dataset/sub2/Normal/txt/Bowing.txt\n",
            "Processing txt_file: /content/drive/MyDrive/Dataset/EMG_Signals/EMG_Dataset/sub3/Normal/txt/Bowing.txt\n",
            "Processing txt_file: /content/drive/MyDrive/Dataset/EMG_Signals/EMG_Dataset/sub4/Normal/txt/Bowing.txt\n",
            "Processing txt_file: /content/drive/MyDrive/Dataset/EMG_Signals/EMG_Dataset/sub1/Normal/txt/Clapping.txt\n",
            "Processing txt_file: /content/drive/MyDrive/Dataset/EMG_Signals/EMG_Dataset/sub2/Normal/txt/Clapping.txt\n",
            "Processing txt_file: /content/drive/MyDrive/Dataset/EMG_Signals/EMG_Dataset/sub3/Normal/txt/Clapping.txt\n",
            "Processing txt_file: /content/drive/MyDrive/Dataset/EMG_Signals/EMG_Dataset/sub4/Normal/txt/Clapping.txt\n",
            "Processing txt_file: /content/drive/MyDrive/Dataset/EMG_Signals/EMG_Dataset/sub1/Normal/txt/Handshaking.txt\n",
            "Processing txt_file: /content/drive/MyDrive/Dataset/EMG_Signals/EMG_Dataset/sub2/Normal/txt/Handshaking.txt\n",
            "Processing txt_file: /content/drive/MyDrive/Dataset/EMG_Signals/EMG_Dataset/sub3/Normal/txt/Handshaking.txt\n",
            "Processing txt_file: /content/drive/MyDrive/Dataset/EMG_Signals/EMG_Dataset/sub4/Normal/txt/Handshaking.txt\n",
            "Processing txt_file: /content/drive/MyDrive/Dataset/EMG_Signals/EMG_Dataset/sub1/Normal/txt/Hugging.txt\n",
            "Processing txt_file: /content/drive/MyDrive/Dataset/EMG_Signals/EMG_Dataset/sub2/Normal/txt/Hugging.txt\n",
            "Processing txt_file: /content/drive/MyDrive/Dataset/EMG_Signals/EMG_Dataset/sub3/Normal/txt/Hugging.txt\n",
            "Processing txt_file: /content/drive/MyDrive/Dataset/EMG_Signals/EMG_Dataset/sub4/Normal/txt/Hugging.txt\n",
            "Processing txt_file: /content/drive/MyDrive/Dataset/EMG_Signals/EMG_Dataset/sub1/Normal/txt/Jumping.txt\n",
            "Processing txt_file: /content/drive/MyDrive/Dataset/EMG_Signals/EMG_Dataset/sub2/Normal/txt/Jumping.txt\n",
            "Processing txt_file: /content/drive/MyDrive/Dataset/EMG_Signals/EMG_Dataset/sub3/Normal/txt/Jumping.txt\n",
            "Processing txt_file: /content/drive/MyDrive/Dataset/EMG_Signals/EMG_Dataset/sub4/Normal/txt/Jumping.txt\n",
            "Processing txt_file: /content/drive/MyDrive/Dataset/EMG_Signals/EMG_Dataset/sub1/Normal/txt/Running.txt\n",
            "Processing txt_file: /content/drive/MyDrive/Dataset/EMG_Signals/EMG_Dataset/sub2/Normal/txt/Running.txt\n",
            "Processing txt_file: /content/drive/MyDrive/Dataset/EMG_Signals/EMG_Dataset/sub3/Normal/txt/Running.txt\n",
            "Processing txt_file: /content/drive/MyDrive/Dataset/EMG_Signals/EMG_Dataset/sub4/Normal/txt/Running.txt\n",
            "Processing txt_file: /content/drive/MyDrive/Dataset/EMG_Signals/EMG_Dataset/sub1/Normal/txt/Seating.txt\n",
            "Processing txt_file: /content/drive/MyDrive/Dataset/EMG_Signals/EMG_Dataset/sub2/Normal/txt/Seating.txt\n",
            "Processing txt_file: /content/drive/MyDrive/Dataset/EMG_Signals/EMG_Dataset/sub3/Normal/txt/Seating.txt\n",
            "Processing txt_file: /content/drive/MyDrive/Dataset/EMG_Signals/EMG_Dataset/sub4/Normal/txt/Seating.txt\n",
            "Processing txt_file: /content/drive/MyDrive/Dataset/EMG_Signals/EMG_Dataset/sub1/Normal/txt/Standing.txt\n",
            "Processing txt_file: /content/drive/MyDrive/Dataset/EMG_Signals/EMG_Dataset/sub2/Normal/txt/Standing.txt\n",
            "Processing txt_file: /content/drive/MyDrive/Dataset/EMG_Signals/EMG_Dataset/sub3/Normal/txt/Standing.txt\n",
            "Processing txt_file: /content/drive/MyDrive/Dataset/EMG_Signals/EMG_Dataset/sub4/Normal/txt/Standing.txt\n",
            "Processing txt_file: /content/drive/MyDrive/Dataset/EMG_Signals/EMG_Dataset/sub1/Normal/txt/Walking.txt\n",
            "Processing txt_file: /content/drive/MyDrive/Dataset/EMG_Signals/EMG_Dataset/sub2/Normal/txt/Walking.txt\n",
            "Processing txt_file: /content/drive/MyDrive/Dataset/EMG_Signals/EMG_Dataset/sub3/Normal/txt/Walking.txt\n",
            "Processing txt_file: /content/drive/MyDrive/Dataset/EMG_Signals/EMG_Dataset/sub4/Normal/txt/Walking.txt\n",
            "Processing txt_file: /content/drive/MyDrive/Dataset/EMG_Signals/EMG_Dataset/sub1/Normal/txt/Waving.txt\n",
            "Processing txt_file: /content/drive/MyDrive/Dataset/EMG_Signals/EMG_Dataset/sub2/Normal/txt/Waving.txt\n",
            "Processing txt_file: /content/drive/MyDrive/Dataset/EMG_Signals/EMG_Dataset/sub3/Normal/txt/Waving.txt\n",
            "Processing txt_file: /content/drive/MyDrive/Dataset/EMG_Signals/EMG_Dataset/sub4/Normal/txt/Waving.txt\n"
          ]
        }
      ]
    },
    {
      "cell_type": "code",
      "metadata": {
        "pycharm": {
          "name": "#%%\n"
        },
        "colab": {
          "base_uri": "https://localhost:8080/"
        },
        "id": "0ftpD9w7xsKq",
        "outputId": "2458c314-77eb-4a3e-ccd2-3e3d9a977b85"
      },
      "source": [
        "df.info()"
      ],
      "execution_count": null,
      "outputs": [
        {
          "output_type": "stream",
          "name": "stdout",
          "text": [
            "<class 'pandas.core.frame.DataFrame'>\n",
            "RangeIndex: 797426 entries, 0 to 797425\n",
            "Data columns (total 12 columns):\n",
            " #   Column    Non-Null Count   Dtype \n",
            "---  ------    --------------   ----- \n",
            " 0   R-Bic     797426 non-null  int32 \n",
            " 1   R-Tri     797426 non-null  int32 \n",
            " 2   L-Bic     797426 non-null  int32 \n",
            " 3   L-Tri     797426 non-null  int32 \n",
            " 4   R-Thi     797426 non-null  int32 \n",
            " 5   R-Ham     797426 non-null  int32 \n",
            " 6   L-Thi     797426 non-null  int32 \n",
            " 7   L-Ham     797426 non-null  int32 \n",
            " 8   type      797426 non-null  object\n",
            " 9   cls_id    797426 non-null  int64 \n",
            " 10  cls_name  797426 non-null  object\n",
            " 11  sub_id    797426 non-null  object\n",
            "dtypes: int32(8), int64(1), object(3)\n",
            "memory usage: 48.7+ MB\n"
          ]
        }
      ]
    },
    {
      "cell_type": "code",
      "metadata": {
        "pycharm": {
          "name": "#%%\n"
        },
        "colab": {
          "base_uri": "https://localhost:8080/",
          "height": 424
        },
        "id": "_uvRe36xxsKs",
        "outputId": "254498bc-0156-4123-8e48-019ee881534b"
      },
      "source": [
        "sub = \"sub1\"\n",
        "action = \"Elbowing\"\n",
        "action_type = \"Aggressive\"\n",
        "channel = \"L-Thi\"\n",
        "\n",
        "mask = (df[\"sub_id\"] == sub) & (df[\"cls_name\"] == action) & (df[\"type\"] == action_type)\n",
        "sub_sample_df = df[mask]\n",
        "\n",
        "sub_sample_df"
      ],
      "execution_count": null,
      "outputs": [
        {
          "output_type": "execute_result",
          "data": {
            "text/html": [
              "\n",
              "  <div id=\"df-b38d121d-a7f4-4311-957f-c018af6e400c\">\n",
              "    <div class=\"colab-df-container\">\n",
              "      <div>\n",
              "<style scoped>\n",
              "    .dataframe tbody tr th:only-of-type {\n",
              "        vertical-align: middle;\n",
              "    }\n",
              "\n",
              "    .dataframe tbody tr th {\n",
              "        vertical-align: top;\n",
              "    }\n",
              "\n",
              "    .dataframe thead th {\n",
              "        text-align: right;\n",
              "    }\n",
              "</style>\n",
              "<table border=\"1\" class=\"dataframe\">\n",
              "  <thead>\n",
              "    <tr style=\"text-align: right;\">\n",
              "      <th></th>\n",
              "      <th>R-Bic</th>\n",
              "      <th>R-Tri</th>\n",
              "      <th>L-Bic</th>\n",
              "      <th>L-Tri</th>\n",
              "      <th>R-Thi</th>\n",
              "      <th>R-Ham</th>\n",
              "      <th>L-Thi</th>\n",
              "      <th>L-Ham</th>\n",
              "      <th>type</th>\n",
              "      <th>cls_id</th>\n",
              "      <th>cls_name</th>\n",
              "      <th>sub_id</th>\n",
              "    </tr>\n",
              "  </thead>\n",
              "  <tbody>\n",
              "    <tr>\n",
              "      <th>0</th>\n",
              "      <td>-245</td>\n",
              "      <td>266</td>\n",
              "      <td>2615</td>\n",
              "      <td>-29</td>\n",
              "      <td>-4000</td>\n",
              "      <td>-549</td>\n",
              "      <td>-4000</td>\n",
              "      <td>4000</td>\n",
              "      <td>Aggressive</td>\n",
              "      <td>0</td>\n",
              "      <td>Elbowing</td>\n",
              "      <td>sub1</td>\n",
              "    </tr>\n",
              "    <tr>\n",
              "      <th>1</th>\n",
              "      <td>-814</td>\n",
              "      <td>391</td>\n",
              "      <td>-22</td>\n",
              "      <td>-277</td>\n",
              "      <td>-4000</td>\n",
              "      <td>-130</td>\n",
              "      <td>-4000</td>\n",
              "      <td>4000</td>\n",
              "      <td>Aggressive</td>\n",
              "      <td>0</td>\n",
              "      <td>Elbowing</td>\n",
              "      <td>sub1</td>\n",
              "    </tr>\n",
              "    <tr>\n",
              "      <th>2</th>\n",
              "      <td>-445</td>\n",
              "      <td>257</td>\n",
              "      <td>-3628</td>\n",
              "      <td>-428</td>\n",
              "      <td>-4000</td>\n",
              "      <td>97</td>\n",
              "      <td>-4000</td>\n",
              "      <td>4000</td>\n",
              "      <td>Aggressive</td>\n",
              "      <td>0</td>\n",
              "      <td>Elbowing</td>\n",
              "      <td>sub1</td>\n",
              "    </tr>\n",
              "    <tr>\n",
              "      <th>3</th>\n",
              "      <td>-844</td>\n",
              "      <td>201</td>\n",
              "      <td>-4000</td>\n",
              "      <td>-498</td>\n",
              "      <td>-4000</td>\n",
              "      <td>62</td>\n",
              "      <td>-4000</td>\n",
              "      <td>4000</td>\n",
              "      <td>Aggressive</td>\n",
              "      <td>0</td>\n",
              "      <td>Elbowing</td>\n",
              "      <td>sub1</td>\n",
              "    </tr>\n",
              "    <tr>\n",
              "      <th>4</th>\n",
              "      <td>-1996</td>\n",
              "      <td>233</td>\n",
              "      <td>-4000</td>\n",
              "      <td>-552</td>\n",
              "      <td>-4000</td>\n",
              "      <td>109</td>\n",
              "      <td>-4000</td>\n",
              "      <td>4000</td>\n",
              "      <td>Aggressive</td>\n",
              "      <td>0</td>\n",
              "      <td>Elbowing</td>\n",
              "      <td>sub1</td>\n",
              "    </tr>\n",
              "    <tr>\n",
              "      <th>...</th>\n",
              "      <td>...</td>\n",
              "      <td>...</td>\n",
              "      <td>...</td>\n",
              "      <td>...</td>\n",
              "      <td>...</td>\n",
              "      <td>...</td>\n",
              "      <td>...</td>\n",
              "      <td>...</td>\n",
              "      <td>...</td>\n",
              "      <td>...</td>\n",
              "      <td>...</td>\n",
              "      <td>...</td>\n",
              "    </tr>\n",
              "    <tr>\n",
              "      <th>9767</th>\n",
              "      <td>-1858</td>\n",
              "      <td>256</td>\n",
              "      <td>3137</td>\n",
              "      <td>12</td>\n",
              "      <td>692</td>\n",
              "      <td>-501</td>\n",
              "      <td>-4000</td>\n",
              "      <td>-2003</td>\n",
              "      <td>Aggressive</td>\n",
              "      <td>0</td>\n",
              "      <td>Elbowing</td>\n",
              "      <td>sub1</td>\n",
              "    </tr>\n",
              "    <tr>\n",
              "      <th>9768</th>\n",
              "      <td>-1019</td>\n",
              "      <td>269</td>\n",
              "      <td>2486</td>\n",
              "      <td>-85</td>\n",
              "      <td>600</td>\n",
              "      <td>-487</td>\n",
              "      <td>-4000</td>\n",
              "      <td>-2087</td>\n",
              "      <td>Aggressive</td>\n",
              "      <td>0</td>\n",
              "      <td>Elbowing</td>\n",
              "      <td>sub1</td>\n",
              "    </tr>\n",
              "    <tr>\n",
              "      <th>9769</th>\n",
              "      <td>-54</td>\n",
              "      <td>250</td>\n",
              "      <td>1619</td>\n",
              "      <td>-141</td>\n",
              "      <td>1032</td>\n",
              "      <td>-615</td>\n",
              "      <td>-4000</td>\n",
              "      <td>-2116</td>\n",
              "      <td>Aggressive</td>\n",
              "      <td>0</td>\n",
              "      <td>Elbowing</td>\n",
              "      <td>sub1</td>\n",
              "    </tr>\n",
              "    <tr>\n",
              "      <th>9770</th>\n",
              "      <td>425</td>\n",
              "      <td>298</td>\n",
              "      <td>-697</td>\n",
              "      <td>-173</td>\n",
              "      <td>2363</td>\n",
              "      <td>-631</td>\n",
              "      <td>-3924</td>\n",
              "      <td>-2140</td>\n",
              "      <td>Aggressive</td>\n",
              "      <td>0</td>\n",
              "      <td>Elbowing</td>\n",
              "      <td>sub1</td>\n",
              "    </tr>\n",
              "    <tr>\n",
              "      <th>9771</th>\n",
              "      <td>855</td>\n",
              "      <td>273</td>\n",
              "      <td>-4000</td>\n",
              "      <td>-173</td>\n",
              "      <td>2363</td>\n",
              "      <td>-631</td>\n",
              "      <td>-3924</td>\n",
              "      <td>-2140</td>\n",
              "      <td>Aggressive</td>\n",
              "      <td>0</td>\n",
              "      <td>Elbowing</td>\n",
              "      <td>sub1</td>\n",
              "    </tr>\n",
              "  </tbody>\n",
              "</table>\n",
              "<p>9772 rows × 12 columns</p>\n",
              "</div>\n",
              "      <button class=\"colab-df-convert\" onclick=\"convertToInteractive('df-b38d121d-a7f4-4311-957f-c018af6e400c')\"\n",
              "              title=\"Convert this dataframe to an interactive table.\"\n",
              "              style=\"display:none;\">\n",
              "        \n",
              "  <svg xmlns=\"http://www.w3.org/2000/svg\" height=\"24px\"viewBox=\"0 0 24 24\"\n",
              "       width=\"24px\">\n",
              "    <path d=\"M0 0h24v24H0V0z\" fill=\"none\"/>\n",
              "    <path d=\"M18.56 5.44l.94 2.06.94-2.06 2.06-.94-2.06-.94-.94-2.06-.94 2.06-2.06.94zm-11 1L8.5 8.5l.94-2.06 2.06-.94-2.06-.94L8.5 2.5l-.94 2.06-2.06.94zm10 10l.94 2.06.94-2.06 2.06-.94-2.06-.94-.94-2.06-.94 2.06-2.06.94z\"/><path d=\"M17.41 7.96l-1.37-1.37c-.4-.4-.92-.59-1.43-.59-.52 0-1.04.2-1.43.59L10.3 9.45l-7.72 7.72c-.78.78-.78 2.05 0 2.83L4 21.41c.39.39.9.59 1.41.59.51 0 1.02-.2 1.41-.59l7.78-7.78 2.81-2.81c.8-.78.8-2.07 0-2.86zM5.41 20L4 18.59l7.72-7.72 1.47 1.35L5.41 20z\"/>\n",
              "  </svg>\n",
              "      </button>\n",
              "      \n",
              "  <style>\n",
              "    .colab-df-container {\n",
              "      display:flex;\n",
              "      flex-wrap:wrap;\n",
              "      gap: 12px;\n",
              "    }\n",
              "\n",
              "    .colab-df-convert {\n",
              "      background-color: #E8F0FE;\n",
              "      border: none;\n",
              "      border-radius: 50%;\n",
              "      cursor: pointer;\n",
              "      display: none;\n",
              "      fill: #1967D2;\n",
              "      height: 32px;\n",
              "      padding: 0 0 0 0;\n",
              "      width: 32px;\n",
              "    }\n",
              "\n",
              "    .colab-df-convert:hover {\n",
              "      background-color: #E2EBFA;\n",
              "      box-shadow: 0px 1px 2px rgba(60, 64, 67, 0.3), 0px 1px 3px 1px rgba(60, 64, 67, 0.15);\n",
              "      fill: #174EA6;\n",
              "    }\n",
              "\n",
              "    [theme=dark] .colab-df-convert {\n",
              "      background-color: #3B4455;\n",
              "      fill: #D2E3FC;\n",
              "    }\n",
              "\n",
              "    [theme=dark] .colab-df-convert:hover {\n",
              "      background-color: #434B5C;\n",
              "      box-shadow: 0px 1px 3px 1px rgba(0, 0, 0, 0.15);\n",
              "      filter: drop-shadow(0px 1px 2px rgba(0, 0, 0, 0.3));\n",
              "      fill: #FFFFFF;\n",
              "    }\n",
              "  </style>\n",
              "\n",
              "      <script>\n",
              "        const buttonEl =\n",
              "          document.querySelector('#df-b38d121d-a7f4-4311-957f-c018af6e400c button.colab-df-convert');\n",
              "        buttonEl.style.display =\n",
              "          google.colab.kernel.accessAllowed ? 'block' : 'none';\n",
              "\n",
              "        async function convertToInteractive(key) {\n",
              "          const element = document.querySelector('#df-b38d121d-a7f4-4311-957f-c018af6e400c');\n",
              "          const dataTable =\n",
              "            await google.colab.kernel.invokeFunction('convertToInteractive',\n",
              "                                                     [key], {});\n",
              "          if (!dataTable) return;\n",
              "\n",
              "          const docLinkHtml = 'Like what you see? Visit the ' +\n",
              "            '<a target=\"_blank\" href=https://colab.research.google.com/notebooks/data_table.ipynb>data table notebook</a>'\n",
              "            + ' to learn more about interactive tables.';\n",
              "          element.innerHTML = '';\n",
              "          dataTable['output_type'] = 'display_data';\n",
              "          await google.colab.output.renderOutput(dataTable, element);\n",
              "          const docLink = document.createElement('div');\n",
              "          docLink.innerHTML = docLinkHtml;\n",
              "          element.appendChild(docLink);\n",
              "        }\n",
              "      </script>\n",
              "    </div>\n",
              "  </div>\n",
              "  "
            ],
            "text/plain": [
              "      R-Bic  R-Tri  L-Bic  L-Tri  ...        type  cls_id  cls_name  sub_id\n",
              "0      -245    266   2615    -29  ...  Aggressive       0  Elbowing    sub1\n",
              "1      -814    391    -22   -277  ...  Aggressive       0  Elbowing    sub1\n",
              "2      -445    257  -3628   -428  ...  Aggressive       0  Elbowing    sub1\n",
              "3      -844    201  -4000   -498  ...  Aggressive       0  Elbowing    sub1\n",
              "4     -1996    233  -4000   -552  ...  Aggressive       0  Elbowing    sub1\n",
              "...     ...    ...    ...    ...  ...         ...     ...       ...     ...\n",
              "9767  -1858    256   3137     12  ...  Aggressive       0  Elbowing    sub1\n",
              "9768  -1019    269   2486    -85  ...  Aggressive       0  Elbowing    sub1\n",
              "9769    -54    250   1619   -141  ...  Aggressive       0  Elbowing    sub1\n",
              "9770    425    298   -697   -173  ...  Aggressive       0  Elbowing    sub1\n",
              "9771    855    273  -4000   -173  ...  Aggressive       0  Elbowing    sub1\n",
              "\n",
              "[9772 rows x 12 columns]"
            ]
          },
          "metadata": {},
          "execution_count": 10
        }
      ]
    },
    {
      "cell_type": "code",
      "metadata": {
        "pycharm": {
          "name": "#%%\n"
        },
        "id": "zoScCwsgxsKv"
      },
      "source": [
        ""
      ],
      "execution_count": null,
      "outputs": []
    },
    {
      "cell_type": "code",
      "metadata": {
        "pycharm": {
          "name": "#%%\n"
        },
        "colab": {
          "base_uri": "https://localhost:8080/",
          "height": 923
        },
        "id": "DIqNLR8ZxsKw",
        "outputId": "7adeca5d-dc94-446b-80ae-cbd4560779d8"
      },
      "source": [
        "num_rows = 4\n",
        "num_cols = 2\n",
        "fig, axs = plt.subplots(num_rows, num_cols, figsize=(20,20))\n",
        "\n",
        "i=0\n",
        "j=0\n",
        "for index, col in enumerate(col_names):\n",
        "    axs[i, j].plot(sub_sample_df[col])\n",
        "    axs[i, j].set_title(col)\n",
        "    j+=1\n",
        "    if j%num_cols == 0:\n",
        "        j=0\n",
        "        i+=1"
      ],
      "execution_count": null,
      "outputs": [
        {
          "output_type": "display_data",
          "data": {
            "image/png": "[encoded data removed]",
            "text/plain": [
              "<Figure size 1440x1440 with 8 Axes>"
            ]
          },
          "metadata": {
            "needs_background": "light"
          }
        }
      ]
    },
    {
      "cell_type": "code",
      "metadata": {
        "pycharm": {
          "name": "#%%\n"
        },
        "id": "QNbMfV7_xsKz"
      },
      "source": [
        "df[\"type_cls_name\"] = df[\"type\"]+\"_\"+df[\"cls_name\"]"
      ],
      "execution_count": null,
      "outputs": []
    },
    {
      "cell_type": "code",
      "metadata": {
        "pycharm": {
          "name": "#%%\n"
        },
        "colab": {
          "base_uri": "https://localhost:8080/",
          "height": 468
        },
        "id": "fAAAiS_VxsK2",
        "outputId": "9f8c745c-ddb6-4681-8dca-db154f9818ef"
      },
      "source": [
        "df"
      ],
      "execution_count": null,
      "outputs": [
        {
          "output_type": "execute_result",
          "data": {
            "text/html": [
              "\n",
              "  <div id=\"df-34f085c4-00b9-4c47-a7e5-0aa7758cf009\">\n",
              "    <div class=\"colab-df-container\">\n",
              "      <div>\n",
              "<style scoped>\n",
              "    .dataframe tbody tr th:only-of-type {\n",
              "        vertical-align: middle;\n",
              "    }\n",
              "\n",
              "    .dataframe tbody tr th {\n",
              "        vertical-align: top;\n",
              "    }\n",
              "\n",
              "    .dataframe thead th {\n",
              "        text-align: right;\n",
              "    }\n",
              "</style>\n",
              "<table border=\"1\" class=\"dataframe\">\n",
              "  <thead>\n",
              "    <tr style=\"text-align: right;\">\n",
              "      <th></th>\n",
              "      <th>R-Bic</th>\n",
              "      <th>R-Tri</th>\n",
              "      <th>L-Bic</th>\n",
              "      <th>L-Tri</th>\n",
              "      <th>R-Thi</th>\n",
              "      <th>R-Ham</th>\n",
              "      <th>L-Thi</th>\n",
              "      <th>L-Ham</th>\n",
              "      <th>type</th>\n",
              "      <th>cls_id</th>\n",
              "      <th>cls_name</th>\n",
              "      <th>sub_id</th>\n",
              "      <th>type_cls_name</th>\n",
              "    </tr>\n",
              "  </thead>\n",
              "  <tbody>\n",
              "    <tr>\n",
              "      <th>0</th>\n",
              "      <td>-245</td>\n",
              "      <td>266</td>\n",
              "      <td>2615</td>\n",
              "      <td>-29</td>\n",
              "      <td>-4000</td>\n",
              "      <td>-549</td>\n",
              "      <td>-4000</td>\n",
              "      <td>4000</td>\n",
              "      <td>Aggressive</td>\n",
              "      <td>0</td>\n",
              "      <td>Elbowing</td>\n",
              "      <td>sub1</td>\n",
              "      <td>Aggressive_Elbowing</td>\n",
              "    </tr>\n",
              "    <tr>\n",
              "      <th>1</th>\n",
              "      <td>-814</td>\n",
              "      <td>391</td>\n",
              "      <td>-22</td>\n",
              "      <td>-277</td>\n",
              "      <td>-4000</td>\n",
              "      <td>-130</td>\n",
              "      <td>-4000</td>\n",
              "      <td>4000</td>\n",
              "      <td>Aggressive</td>\n",
              "      <td>0</td>\n",
              "      <td>Elbowing</td>\n",
              "      <td>sub1</td>\n",
              "      <td>Aggressive_Elbowing</td>\n",
              "    </tr>\n",
              "    <tr>\n",
              "      <th>2</th>\n",
              "      <td>-445</td>\n",
              "      <td>257</td>\n",
              "      <td>-3628</td>\n",
              "      <td>-428</td>\n",
              "      <td>-4000</td>\n",
              "      <td>97</td>\n",
              "      <td>-4000</td>\n",
              "      <td>4000</td>\n",
              "      <td>Aggressive</td>\n",
              "      <td>0</td>\n",
              "      <td>Elbowing</td>\n",
              "      <td>sub1</td>\n",
              "      <td>Aggressive_Elbowing</td>\n",
              "    </tr>\n",
              "    <tr>\n",
              "      <th>3</th>\n",
              "      <td>-844</td>\n",
              "      <td>201</td>\n",
              "      <td>-4000</td>\n",
              "      <td>-498</td>\n",
              "      <td>-4000</td>\n",
              "      <td>62</td>\n",
              "      <td>-4000</td>\n",
              "      <td>4000</td>\n",
              "      <td>Aggressive</td>\n",
              "      <td>0</td>\n",
              "      <td>Elbowing</td>\n",
              "      <td>sub1</td>\n",
              "      <td>Aggressive_Elbowing</td>\n",
              "    </tr>\n",
              "    <tr>\n",
              "      <th>4</th>\n",
              "      <td>-1996</td>\n",
              "      <td>233</td>\n",
              "      <td>-4000</td>\n",
              "      <td>-552</td>\n",
              "      <td>-4000</td>\n",
              "      <td>109</td>\n",
              "      <td>-4000</td>\n",
              "      <td>4000</td>\n",
              "      <td>Aggressive</td>\n",
              "      <td>0</td>\n",
              "      <td>Elbowing</td>\n",
              "      <td>sub1</td>\n",
              "      <td>Aggressive_Elbowing</td>\n",
              "    </tr>\n",
              "    <tr>\n",
              "      <th>...</th>\n",
              "      <td>...</td>\n",
              "      <td>...</td>\n",
              "      <td>...</td>\n",
              "      <td>...</td>\n",
              "      <td>...</td>\n",
              "      <td>...</td>\n",
              "      <td>...</td>\n",
              "      <td>...</td>\n",
              "      <td>...</td>\n",
              "      <td>...</td>\n",
              "      <td>...</td>\n",
              "      <td>...</td>\n",
              "      <td>...</td>\n",
              "    </tr>\n",
              "    <tr>\n",
              "      <th>797421</th>\n",
              "      <td>-284</td>\n",
              "      <td>-13</td>\n",
              "      <td>10</td>\n",
              "      <td>-60</td>\n",
              "      <td>13</td>\n",
              "      <td>-5</td>\n",
              "      <td>13</td>\n",
              "      <td>-13</td>\n",
              "      <td>Normal</td>\n",
              "      <td>19</td>\n",
              "      <td>Waving</td>\n",
              "      <td>sub4</td>\n",
              "      <td>Normal_Waving</td>\n",
              "    </tr>\n",
              "    <tr>\n",
              "      <th>797422</th>\n",
              "      <td>-431</td>\n",
              "      <td>10</td>\n",
              "      <td>4</td>\n",
              "      <td>-45</td>\n",
              "      <td>11</td>\n",
              "      <td>5</td>\n",
              "      <td>12</td>\n",
              "      <td>-13</td>\n",
              "      <td>Normal</td>\n",
              "      <td>19</td>\n",
              "      <td>Waving</td>\n",
              "      <td>sub4</td>\n",
              "      <td>Normal_Waving</td>\n",
              "    </tr>\n",
              "    <tr>\n",
              "      <th>797423</th>\n",
              "      <td>-562</td>\n",
              "      <td>9</td>\n",
              "      <td>1</td>\n",
              "      <td>-32</td>\n",
              "      <td>15</td>\n",
              "      <td>5</td>\n",
              "      <td>-11</td>\n",
              "      <td>-10</td>\n",
              "      <td>Normal</td>\n",
              "      <td>19</td>\n",
              "      <td>Waving</td>\n",
              "      <td>sub4</td>\n",
              "      <td>Normal_Waving</td>\n",
              "    </tr>\n",
              "    <tr>\n",
              "      <th>797424</th>\n",
              "      <td>-826</td>\n",
              "      <td>-12</td>\n",
              "      <td>2</td>\n",
              "      <td>-40</td>\n",
              "      <td>9</td>\n",
              "      <td>16</td>\n",
              "      <td>-50</td>\n",
              "      <td>-20</td>\n",
              "      <td>Normal</td>\n",
              "      <td>19</td>\n",
              "      <td>Waving</td>\n",
              "      <td>sub4</td>\n",
              "      <td>Normal_Waving</td>\n",
              "    </tr>\n",
              "    <tr>\n",
              "      <th>797425</th>\n",
              "      <td>-814</td>\n",
              "      <td>4</td>\n",
              "      <td>0</td>\n",
              "      <td>-57</td>\n",
              "      <td>21</td>\n",
              "      <td>22</td>\n",
              "      <td>-15</td>\n",
              "      <td>-19</td>\n",
              "      <td>Normal</td>\n",
              "      <td>19</td>\n",
              "      <td>Waving</td>\n",
              "      <td>sub4</td>\n",
              "      <td>Normal_Waving</td>\n",
              "    </tr>\n",
              "  </tbody>\n",
              "</table>\n",
              "<p>797426 rows × 13 columns</p>\n",
              "</div>\n",
              "      <button class=\"colab-df-convert\" onclick=\"convertToInteractive('df-34f085c4-00b9-4c47-a7e5-0aa7758cf009')\"\n",
              "              title=\"Convert this dataframe to an interactive table.\"\n",
              "              style=\"display:none;\">\n",
              "        \n",
              "  <svg xmlns=\"http://www.w3.org/2000/svg\" height=\"24px\"viewBox=\"0 0 24 24\"\n",
              "       width=\"24px\">\n",
              "    <path d=\"M0 0h24v24H0V0z\" fill=\"none\"/>\n",
              "    <path d=\"M18.56 5.44l.94 2.06.94-2.06 2.06-.94-2.06-.94-.94-2.06-.94 2.06-2.06.94zm-11 1L8.5 8.5l.94-2.06 2.06-.94-2.06-.94L8.5 2.5l-.94 2.06-2.06.94zm10 10l.94 2.06.94-2.06 2.06-.94-2.06-.94-.94-2.06-.94 2.06-2.06.94z\"/><path d=\"M17.41 7.96l-1.37-1.37c-.4-.4-.92-.59-1.43-.59-.52 0-1.04.2-1.43.59L10.3 9.45l-7.72 7.72c-.78.78-.78 2.05 0 2.83L4 21.41c.39.39.9.59 1.41.59.51 0 1.02-.2 1.41-.59l7.78-7.78 2.81-2.81c.8-.78.8-2.07 0-2.86zM5.41 20L4 18.59l7.72-7.72 1.47 1.35L5.41 20z\"/>\n",
              "  </svg>\n",
              "      </button>\n",
              "      \n",
              "  <style>\n",
              "    .colab-df-container {\n",
              "      display:flex;\n",
              "      flex-wrap:wrap;\n",
              "      gap: 12px;\n",
              "    }\n",
              "\n",
              "    .colab-df-convert {\n",
              "      background-color: #E8F0FE;\n",
              "      border: none;\n",
              "      border-radius: 50%;\n",
              "      cursor: pointer;\n",
              "      display: none;\n",
              "      fill: #1967D2;\n",
              "      height: 32px;\n",
              "      padding: 0 0 0 0;\n",
              "      width: 32px;\n",
              "    }\n",
              "\n",
              "    .colab-df-convert:hover {\n",
              "      background-color: #E2EBFA;\n",
              "      box-shadow: 0px 1px 2px rgba(60, 64, 67, 0.3), 0px 1px 3px 1px rgba(60, 64, 67, 0.15);\n",
              "      fill: #174EA6;\n",
              "    }\n",
              "\n",
              "    [theme=dark] .colab-df-convert {\n",
              "      background-color: #3B4455;\n",
              "      fill: #D2E3FC;\n",
              "    }\n",
              "\n",
              "    [theme=dark] .colab-df-convert:hover {\n",
              "      background-color: #434B5C;\n",
              "      box-shadow: 0px 1px 3px 1px rgba(0, 0, 0, 0.15);\n",
              "      filter: drop-shadow(0px 1px 2px rgba(0, 0, 0, 0.3));\n",
              "      fill: #FFFFFF;\n",
              "    }\n",
              "  </style>\n",
              "\n",
              "      <script>\n",
              "        const buttonEl =\n",
              "          document.querySelector('#df-34f085c4-00b9-4c47-a7e5-0aa7758cf009 button.colab-df-convert');\n",
              "        buttonEl.style.display =\n",
              "          google.colab.kernel.accessAllowed ? 'block' : 'none';\n",
              "\n",
              "        async function convertToInteractive(key) {\n",
              "          const element = document.querySelector('#df-34f085c4-00b9-4c47-a7e5-0aa7758cf009');\n",
              "          const dataTable =\n",
              "            await google.colab.kernel.invokeFunction('convertToInteractive',\n",
              "                                                     [key], {});\n",
              "          if (!dataTable) return;\n",
              "\n",
              "          const docLinkHtml = 'Like what you see? Visit the ' +\n",
              "            '<a target=\"_blank\" href=https://colab.research.google.com/notebooks/data_table.ipynb>data table notebook</a>'\n",
              "            + ' to learn more about interactive tables.';\n",
              "          element.innerHTML = '';\n",
              "          dataTable['output_type'] = 'display_data';\n",
              "          await google.colab.output.renderOutput(dataTable, element);\n",
              "          const docLink = document.createElement('div');\n",
              "          docLink.innerHTML = docLinkHtml;\n",
              "          element.appendChild(docLink);\n",
              "        }\n",
              "      </script>\n",
              "    </div>\n",
              "  </div>\n",
              "  "
            ],
            "text/plain": [
              "        R-Bic  R-Tri  L-Bic  ...  cls_name  sub_id        type_cls_name\n",
              "0        -245    266   2615  ...  Elbowing    sub1  Aggressive_Elbowing\n",
              "1        -814    391    -22  ...  Elbowing    sub1  Aggressive_Elbowing\n",
              "2        -445    257  -3628  ...  Elbowing    sub1  Aggressive_Elbowing\n",
              "3        -844    201  -4000  ...  Elbowing    sub1  Aggressive_Elbowing\n",
              "4       -1996    233  -4000  ...  Elbowing    sub1  Aggressive_Elbowing\n",
              "...       ...    ...    ...  ...       ...     ...                  ...\n",
              "797421   -284    -13     10  ...    Waving    sub4        Normal_Waving\n",
              "797422   -431     10      4  ...    Waving    sub4        Normal_Waving\n",
              "797423   -562      9      1  ...    Waving    sub4        Normal_Waving\n",
              "797424   -826    -12      2  ...    Waving    sub4        Normal_Waving\n",
              "797425   -814      4      0  ...    Waving    sub4        Normal_Waving\n",
              "\n",
              "[797426 rows x 13 columns]"
            ]
          },
          "metadata": {},
          "execution_count": 13
        }
      ]
    },
    {
      "cell_type": "code",
      "metadata": {
        "pycharm": {
          "name": "#%%\n"
        },
        "id": "XVqgFhtMxsK4"
      },
      "source": [
        "from sklearn.preprocessing import MinMaxScaler\n",
        "\n",
        "scaler = MinMaxScaler(feature_range=(0,1))\n",
        "df[col_names] = scaler.fit_transform(df[col_names])"
      ],
      "execution_count": null,
      "outputs": []
    },
    {
      "cell_type": "code",
      "metadata": {
        "pycharm": {
          "name": "#%%\n"
        },
        "colab": {
          "base_uri": "https://localhost:8080/",
          "height": 488
        },
        "id": "VVYKRz41xsK5",
        "outputId": "a6df7523-4479-4933-a2c3-024e79fe9a66"
      },
      "source": [
        "df"
      ],
      "execution_count": null,
      "outputs": [
        {
          "output_type": "execute_result",
          "data": {
            "text/html": [
              "\n",
              "  <div id=\"df-f41ba745-a599-46d3-93a3-1430626be1bf\">\n",
              "    <div class=\"colab-df-container\">\n",
              "      <div>\n",
              "<style scoped>\n",
              "    .dataframe tbody tr th:only-of-type {\n",
              "        vertical-align: middle;\n",
              "    }\n",
              "\n",
              "    .dataframe tbody tr th {\n",
              "        vertical-align: top;\n",
              "    }\n",
              "\n",
              "    .dataframe thead th {\n",
              "        text-align: right;\n",
              "    }\n",
              "</style>\n",
              "<table border=\"1\" class=\"dataframe\">\n",
              "  <thead>\n",
              "    <tr style=\"text-align: right;\">\n",
              "      <th></th>\n",
              "      <th>R-Bic</th>\n",
              "      <th>R-Tri</th>\n",
              "      <th>L-Bic</th>\n",
              "      <th>L-Tri</th>\n",
              "      <th>R-Thi</th>\n",
              "      <th>R-Ham</th>\n",
              "      <th>L-Thi</th>\n",
              "      <th>L-Ham</th>\n",
              "      <th>type</th>\n",
              "      <th>cls_id</th>\n",
              "      <th>cls_name</th>\n",
              "      <th>sub_id</th>\n",
              "      <th>type_cls_name</th>\n",
              "    </tr>\n",
              "  </thead>\n",
              "  <tbody>\n",
              "    <tr>\n",
              "      <th>0</th>\n",
              "      <td>0.469375</td>\n",
              "      <td>0.533250</td>\n",
              "      <td>0.826875</td>\n",
              "      <td>0.496375</td>\n",
              "      <td>0.000000</td>\n",
              "      <td>0.431375</td>\n",
              "      <td>0.000000</td>\n",
              "      <td>1.000000</td>\n",
              "      <td>Aggressive</td>\n",
              "      <td>0</td>\n",
              "      <td>Elbowing</td>\n",
              "      <td>sub1</td>\n",
              "      <td>Aggressive_Elbowing</td>\n",
              "    </tr>\n",
              "    <tr>\n",
              "      <th>1</th>\n",
              "      <td>0.398250</td>\n",
              "      <td>0.548875</td>\n",
              "      <td>0.497250</td>\n",
              "      <td>0.465375</td>\n",
              "      <td>0.000000</td>\n",
              "      <td>0.483750</td>\n",
              "      <td>0.000000</td>\n",
              "      <td>1.000000</td>\n",
              "      <td>Aggressive</td>\n",
              "      <td>0</td>\n",
              "      <td>Elbowing</td>\n",
              "      <td>sub1</td>\n",
              "      <td>Aggressive_Elbowing</td>\n",
              "    </tr>\n",
              "    <tr>\n",
              "      <th>2</th>\n",
              "      <td>0.444375</td>\n",
              "      <td>0.532125</td>\n",
              "      <td>0.046500</td>\n",
              "      <td>0.446500</td>\n",
              "      <td>0.000000</td>\n",
              "      <td>0.512125</td>\n",
              "      <td>0.000000</td>\n",
              "      <td>1.000000</td>\n",
              "      <td>Aggressive</td>\n",
              "      <td>0</td>\n",
              "      <td>Elbowing</td>\n",
              "      <td>sub1</td>\n",
              "      <td>Aggressive_Elbowing</td>\n",
              "    </tr>\n",
              "    <tr>\n",
              "      <th>3</th>\n",
              "      <td>0.394500</td>\n",
              "      <td>0.525125</td>\n",
              "      <td>0.000000</td>\n",
              "      <td>0.437750</td>\n",
              "      <td>0.000000</td>\n",
              "      <td>0.507750</td>\n",
              "      <td>0.000000</td>\n",
              "      <td>1.000000</td>\n",
              "      <td>Aggressive</td>\n",
              "      <td>0</td>\n",
              "      <td>Elbowing</td>\n",
              "      <td>sub1</td>\n",
              "      <td>Aggressive_Elbowing</td>\n",
              "    </tr>\n",
              "    <tr>\n",
              "      <th>4</th>\n",
              "      <td>0.250500</td>\n",
              "      <td>0.529125</td>\n",
              "      <td>0.000000</td>\n",
              "      <td>0.431000</td>\n",
              "      <td>0.000000</td>\n",
              "      <td>0.513625</td>\n",
              "      <td>0.000000</td>\n",
              "      <td>1.000000</td>\n",
              "      <td>Aggressive</td>\n",
              "      <td>0</td>\n",
              "      <td>Elbowing</td>\n",
              "      <td>sub1</td>\n",
              "      <td>Aggressive_Elbowing</td>\n",
              "    </tr>\n",
              "    <tr>\n",
              "      <th>...</th>\n",
              "      <td>...</td>\n",
              "      <td>...</td>\n",
              "      <td>...</td>\n",
              "      <td>...</td>\n",
              "      <td>...</td>\n",
              "      <td>...</td>\n",
              "      <td>...</td>\n",
              "      <td>...</td>\n",
              "      <td>...</td>\n",
              "      <td>...</td>\n",
              "      <td>...</td>\n",
              "      <td>...</td>\n",
              "      <td>...</td>\n",
              "    </tr>\n",
              "    <tr>\n",
              "      <th>797421</th>\n",
              "      <td>0.464500</td>\n",
              "      <td>0.498375</td>\n",
              "      <td>0.501250</td>\n",
              "      <td>0.492500</td>\n",
              "      <td>0.501625</td>\n",
              "      <td>0.499375</td>\n",
              "      <td>0.501625</td>\n",
              "      <td>0.498375</td>\n",
              "      <td>Normal</td>\n",
              "      <td>19</td>\n",
              "      <td>Waving</td>\n",
              "      <td>sub4</td>\n",
              "      <td>Normal_Waving</td>\n",
              "    </tr>\n",
              "    <tr>\n",
              "      <th>797422</th>\n",
              "      <td>0.446125</td>\n",
              "      <td>0.501250</td>\n",
              "      <td>0.500500</td>\n",
              "      <td>0.494375</td>\n",
              "      <td>0.501375</td>\n",
              "      <td>0.500625</td>\n",
              "      <td>0.501500</td>\n",
              "      <td>0.498375</td>\n",
              "      <td>Normal</td>\n",
              "      <td>19</td>\n",
              "      <td>Waving</td>\n",
              "      <td>sub4</td>\n",
              "      <td>Normal_Waving</td>\n",
              "    </tr>\n",
              "    <tr>\n",
              "      <th>797423</th>\n",
              "      <td>0.429750</td>\n",
              "      <td>0.501125</td>\n",
              "      <td>0.500125</td>\n",
              "      <td>0.496000</td>\n",
              "      <td>0.501875</td>\n",
              "      <td>0.500625</td>\n",
              "      <td>0.498625</td>\n",
              "      <td>0.498750</td>\n",
              "      <td>Normal</td>\n",
              "      <td>19</td>\n",
              "      <td>Waving</td>\n",
              "      <td>sub4</td>\n",
              "      <td>Normal_Waving</td>\n",
              "    </tr>\n",
              "    <tr>\n",
              "      <th>797424</th>\n",
              "      <td>0.396750</td>\n",
              "      <td>0.498500</td>\n",
              "      <td>0.500250</td>\n",
              "      <td>0.495000</td>\n",
              "      <td>0.501125</td>\n",
              "      <td>0.502000</td>\n",
              "      <td>0.493750</td>\n",
              "      <td>0.497500</td>\n",
              "      <td>Normal</td>\n",
              "      <td>19</td>\n",
              "      <td>Waving</td>\n",
              "      <td>sub4</td>\n",
              "      <td>Normal_Waving</td>\n",
              "    </tr>\n",
              "    <tr>\n",
              "      <th>797425</th>\n",
              "      <td>0.398250</td>\n",
              "      <td>0.500500</td>\n",
              "      <td>0.500000</td>\n",
              "      <td>0.492875</td>\n",
              "      <td>0.502625</td>\n",
              "      <td>0.502750</td>\n",
              "      <td>0.498125</td>\n",
              "      <td>0.497625</td>\n",
              "      <td>Normal</td>\n",
              "      <td>19</td>\n",
              "      <td>Waving</td>\n",
              "      <td>sub4</td>\n",
              "      <td>Normal_Waving</td>\n",
              "    </tr>\n",
              "  </tbody>\n",
              "</table>\n",
              "<p>797426 rows × 13 columns</p>\n",
              "</div>\n",
              "      <button class=\"colab-df-convert\" onclick=\"convertToInteractive('df-f41ba745-a599-46d3-93a3-1430626be1bf')\"\n",
              "              title=\"Convert this dataframe to an interactive table.\"\n",
              "              style=\"display:none;\">\n",
              "        \n",
              "  <svg xmlns=\"http://www.w3.org/2000/svg\" height=\"24px\"viewBox=\"0 0 24 24\"\n",
              "       width=\"24px\">\n",
              "    <path d=\"M0 0h24v24H0V0z\" fill=\"none\"/>\n",
              "    <path d=\"M18.56 5.44l.94 2.06.94-2.06 2.06-.94-2.06-.94-.94-2.06-.94 2.06-2.06.94zm-11 1L8.5 8.5l.94-2.06 2.06-.94-2.06-.94L8.5 2.5l-.94 2.06-2.06.94zm10 10l.94 2.06.94-2.06 2.06-.94-2.06-.94-.94-2.06-.94 2.06-2.06.94z\"/><path d=\"M17.41 7.96l-1.37-1.37c-.4-.4-.92-.59-1.43-.59-.52 0-1.04.2-1.43.59L10.3 9.45l-7.72 7.72c-.78.78-.78 2.05 0 2.83L4 21.41c.39.39.9.59 1.41.59.51 0 1.02-.2 1.41-.59l7.78-7.78 2.81-2.81c.8-.78.8-2.07 0-2.86zM5.41 20L4 18.59l7.72-7.72 1.47 1.35L5.41 20z\"/>\n",
              "  </svg>\n",
              "      </button>\n",
              "      \n",
              "  <style>\n",
              "    .colab-df-container {\n",
              "      display:flex;\n",
              "      flex-wrap:wrap;\n",
              "      gap: 12px;\n",
              "    }\n",
              "\n",
              "    .colab-df-convert {\n",
              "      background-color: #E8F0FE;\n",
              "      border: none;\n",
              "      border-radius: 50%;\n",
              "      cursor: pointer;\n",
              "      display: none;\n",
              "      fill: #1967D2;\n",
              "      height: 32px;\n",
              "      padding: 0 0 0 0;\n",
              "      width: 32px;\n",
              "    }\n",
              "\n",
              "    .colab-df-convert:hover {\n",
              "      background-color: #E2EBFA;\n",
              "      box-shadow: 0px 1px 2px rgba(60, 64, 67, 0.3), 0px 1px 3px 1px rgba(60, 64, 67, 0.15);\n",
              "      fill: #174EA6;\n",
              "    }\n",
              "\n",
              "    [theme=dark] .colab-df-convert {\n",
              "      background-color: #3B4455;\n",
              "      fill: #D2E3FC;\n",
              "    }\n",
              "\n",
              "    [theme=dark] .colab-df-convert:hover {\n",
              "      background-color: #434B5C;\n",
              "      box-shadow: 0px 1px 3px 1px rgba(0, 0, 0, 0.15);\n",
              "      filter: drop-shadow(0px 1px 2px rgba(0, 0, 0, 0.3));\n",
              "      fill: #FFFFFF;\n",
              "    }\n",
              "  </style>\n",
              "\n",
              "      <script>\n",
              "        const buttonEl =\n",
              "          document.querySelector('#df-f41ba745-a599-46d3-93a3-1430626be1bf button.colab-df-convert');\n",
              "        buttonEl.style.display =\n",
              "          google.colab.kernel.accessAllowed ? 'block' : 'none';\n",
              "\n",
              "        async function convertToInteractive(key) {\n",
              "          const element = document.querySelector('#df-f41ba745-a599-46d3-93a3-1430626be1bf');\n",
              "          const dataTable =\n",
              "            await google.colab.kernel.invokeFunction('convertToInteractive',\n",
              "                                                     [key], {});\n",
              "          if (!dataTable) return;\n",
              "\n",
              "          const docLinkHtml = 'Like what you see? Visit the ' +\n",
              "            '<a target=\"_blank\" href=https://colab.research.google.com/notebooks/data_table.ipynb>data table notebook</a>'\n",
              "            + ' to learn more about interactive tables.';\n",
              "          element.innerHTML = '';\n",
              "          dataTable['output_type'] = 'display_data';\n",
              "          await google.colab.output.renderOutput(dataTable, element);\n",
              "          const docLink = document.createElement('div');\n",
              "          docLink.innerHTML = docLinkHtml;\n",
              "          element.appendChild(docLink);\n",
              "        }\n",
              "      </script>\n",
              "    </div>\n",
              "  </div>\n",
              "  "
            ],
            "text/plain": [
              "           R-Bic     R-Tri     L-Bic  ...  cls_name  sub_id        type_cls_name\n",
              "0       0.469375  0.533250  0.826875  ...  Elbowing    sub1  Aggressive_Elbowing\n",
              "1       0.398250  0.548875  0.497250  ...  Elbowing    sub1  Aggressive_Elbowing\n",
              "2       0.444375  0.532125  0.046500  ...  Elbowing    sub1  Aggressive_Elbowing\n",
              "3       0.394500  0.525125  0.000000  ...  Elbowing    sub1  Aggressive_Elbowing\n",
              "4       0.250500  0.529125  0.000000  ...  Elbowing    sub1  Aggressive_Elbowing\n",
              "...          ...       ...       ...  ...       ...     ...                  ...\n",
              "797421  0.464500  0.498375  0.501250  ...    Waving    sub4        Normal_Waving\n",
              "797422  0.446125  0.501250  0.500500  ...    Waving    sub4        Normal_Waving\n",
              "797423  0.429750  0.501125  0.500125  ...    Waving    sub4        Normal_Waving\n",
              "797424  0.396750  0.498500  0.500250  ...    Waving    sub4        Normal_Waving\n",
              "797425  0.398250  0.500500  0.500000  ...    Waving    sub4        Normal_Waving\n",
              "\n",
              "[797426 rows x 13 columns]"
            ]
          },
          "metadata": {},
          "execution_count": 15
        }
      ]
    },
    {
      "cell_type": "code",
      "metadata": {
        "pycharm": {
          "name": "#%%\n"
        },
        "id": "dZrEDO6HxsK7"
      },
      "source": [
        "df.to_csv(\"/content/drive/MyDrive/Dataset/EMG_Signals/EMG_Dataset/emg_dataset.csv\")"
      ],
      "execution_count": null,
      "outputs": []
    },
    {
      "cell_type": "code",
      "metadata": {
        "pycharm": {
          "name": "#%%\n"
        },
        "id": "gbDYHM_bxsK8"
      },
      "source": [
        "df = pd.read_csv(\"/content/drive/MyDrive/Dataset/EMG_Signals/EMG_Dataset/emg_dataset.csv\")"
      ],
      "execution_count": null,
      "outputs": []
    },
    {
      "cell_type": "code",
      "metadata": {
        "id": "AFnsRpjcj2sP"
      },
      "source": [
        "################################################### ONLY ON ONE SUB TILL MORE MEMORY\n",
        "df = df[df[\"sub_id\"]==\"sub1\"]\n",
        "################################################### ONLY ON ONE SUB TILL MORE MEMORY"
      ],
      "execution_count": null,
      "outputs": []
    },
    {
      "cell_type": "code",
      "metadata": {
        "id": "rVw_7lPL9luL",
        "colab": {
          "base_uri": "https://localhost:8080/"
        },
        "outputId": "08c16e54-3849-408e-806d-d58ed58fc8a0"
      },
      "source": [
        "from collections import Counter\n",
        "\n",
        "Counter(df[\"type_cls_name\"])"
      ],
      "execution_count": null,
      "outputs": [
        {
          "output_type": "execute_result",
          "data": {
            "text/plain": [
              "Counter({'Aggressive_Elbowing': 9772,\n",
              "         'Aggressive_Frontkicking': 9811,\n",
              "         'Aggressive_Hamering': 10000,\n",
              "         'Aggressive_Headering': 10000,\n",
              "         'Aggressive_Kneeing': 10000,\n",
              "         'Aggressive_Pulling': 9659,\n",
              "         'Aggressive_Punching': 9637,\n",
              "         'Aggressive_Pushing': 9676,\n",
              "         'Aggressive_Sidekicking': 9829,\n",
              "         'Aggressive_Slapping': 9788,\n",
              "         'Normal_Bowing': 9830,\n",
              "         'Normal_Clapping': 10000,\n",
              "         'Normal_Handshaking': 9611,\n",
              "         'Normal_Hugging': 9756,\n",
              "         'Normal_Jumping': 10000,\n",
              "         'Normal_Running': 9964,\n",
              "         'Normal_Seating': 10000,\n",
              "         'Normal_Standing': 9725,\n",
              "         'Normal_Walking': 10000,\n",
              "         'Normal_Waving': 10000})"
            ]
          },
          "metadata": {},
          "execution_count": 19
        }
      ]
    },
    {
      "cell_type": "code",
      "metadata": {
        "id": "2gVwD_mhNCFJ"
      },
      "source": [
        ""
      ],
      "execution_count": null,
      "outputs": []
    },
    {
      "cell_type": "code",
      "metadata": {
        "id": "GDBjPM25O3uG",
        "colab": {
          "base_uri": "https://localhost:8080/"
        },
        "outputId": "3d5969f7-467b-4ec2-9ebd-adc1d39dc7da"
      },
      "source": [
        "dataset_root = os.path.join('.', \"/content/drive/MyDrive/Dataset/EMG_Signals/EMG_Dataset\")\n",
        "\n",
        "data_sub_folders = [\"sub1\", \"sub2\", \"sub3\", \"sub4\"] \n",
        "print(data_sub_folders)\n",
        "\n",
        "agg_classes_dict = {\n",
        "    \"Elbowing\": 0,\n",
        "    \"Frontkicking\": 1,\n",
        "    \"Hamering\": 2,\n",
        "    \"Headering\": 3,\n",
        "    \"Kneeing\": 4,\n",
        "    \"Pulling\": 5,\n",
        "    \"Punching\": 6,\n",
        "    \"Pushing\": 7,\n",
        "    \"Sidekicking\": 8,\n",
        "    \"Slapping\": 9\n",
        "}\n",
        "norm_classes_dict = {\n",
        "    \"Bowing\": 10,\n",
        "    \"Clapping\": 11,\n",
        "    \"Handshaking\": 12,\n",
        "    \"Hugging\": 13,\n",
        "    \"Jumping\": 14,\n",
        "    \"Running\": 15,\n",
        "    \"Seating\": 16,\n",
        "    \"Standing\": 17,\n",
        "    \"Walking\": 18,\n",
        "    \"Waving\": 19\n",
        "}"
      ],
      "execution_count": null,
      "outputs": [
        {
          "output_type": "stream",
          "name": "stdout",
          "text": [
            "['sub1', 'sub2', 'sub3', 'sub4']\n"
          ]
        }
      ]
    },
    {
      "cell_type": "code",
      "metadata": {
        "pycharm": {
          "name": "#%%\n"
        },
        "id": "DBUnwwmfxsK8"
      },
      "source": [
        "y_col = \"type_cls_name\"\n",
        "type_cls_name_unique = np.unique(df[y_col].values)\n",
        "sub_id_unique = np.unique(df[\"sub_id\"].values)\n",
        "\n",
        "x_cols = [\"R-Bic\", \"R-Tri\", \"L-Bic\", \"L-Tri\", \"R-Thi\", \"R-Ham\", \"L-Thi\", \"L-Ham\"]\n",
        "\n",
        "n_steps_in = 256"
      ],
      "execution_count": null,
      "outputs": []
    },
    {
      "cell_type": "code",
      "metadata": {
        "id": "4Z18HN4VMK65"
      },
      "source": [
        ""
      ],
      "execution_count": null,
      "outputs": []
    },
    {
      "cell_type": "code",
      "metadata": {
        "pycharm": {
          "name": "#%%\n"
        },
        "id": "w8e440jfxsK9"
      },
      "source": [
        "def split_sequence(sequence, label, n_steps_in):\n",
        "  data_x, data_y = [], []\n",
        "  for i in range(len(sequence)):\n",
        "    end_ix = i + n_steps_in\n",
        "    if end_ix > len(sequence):\n",
        "        break\n",
        "\n",
        "    seq_x = sequence[i:end_ix]\n",
        "    data_x.append(seq_x)\n",
        "    data_y.append(label)\n",
        "  return np.array(data_x), np.array(data_y)"
      ],
      "execution_count": null,
      "outputs": []
    },
    {
      "cell_type": "code",
      "metadata": {
        "id": "kMdcGm9RNCJK"
      },
      "source": [
        "def get_samples(n_steps_in):\n",
        "  X_dataset = []\n",
        "  y_dataset = []\n",
        "  for type_, category_folder, category_dict in zip([\"Aggressive\", \"Normal\"], [\"Aggressive/txt/\", \"Normal/txt/\"],\n",
        "                                                   [agg_classes_dict, norm_classes_dict]):\n",
        "      for cls, id in category_dict.items():\n",
        "          for folder in data_sub_folders:\n",
        "              txt_file = os.path.join(dataset_root, folder, category_folder, cls + '.txt')\n",
        "              print(\"Processing txt_file: {}\".format(txt_file))\n",
        "              sequence = pd.read_csv(txt_file, delim_whitespace=True,\n",
        "                                     header=None,\n",
        "                                     dtype=col_dtypes).values\n",
        "              label = type_+\"_\"+cls\n",
        "              x, y = split_sequence(sequence, label, n_steps_in)\n",
        "              X_dataset.extend(x)\n",
        "              y_dataset.extend(y)\n",
        "  return np.array(X_dataset), np.array(y_dataset)"
      ],
      "execution_count": null,
      "outputs": []
    },
    {
      "cell_type": "code",
      "metadata": {
        "pycharm": {
          "name": "#%%\n"
        },
        "id": "ffAOHNZTxsK-"
      },
      "source": [
        ""
      ],
      "execution_count": null,
      "outputs": []
    },
    {
      "cell_type": "code",
      "metadata": {
        "id": "jZ02EEirg1wP"
      },
      "source": [
        "def load_x_y_dataset_windowing(tmp_df, n_steps_in):\n",
        "  X_dataset = []\n",
        "  y_dataset = []\n",
        "\n",
        "  for s in sub_id_unique:\n",
        "      for tc in type_cls_name_unique:\n",
        "          mask = (tmp_df[\"sub_id\"] == s) & (tmp_df[\"type_cls_name\"] == tc)\n",
        "          sub_values = tmp_df[mask][x_cols].values\n",
        "          x, y = split_sequence(sub_values, tc, n_steps_in)\n",
        "          X_dataset.extend(x)\n",
        "          y_dataset.extend(y)\n",
        "  return np.array(X_dataset), np.array(y_dataset)"
      ],
      "execution_count": null,
      "outputs": []
    },
    {
      "cell_type": "code",
      "metadata": {
        "id": "Vr8vLRiH2ERc"
      },
      "source": [
        "with tf.device('/device:GPU:0'):\n",
        "  X_dataset, y_dataset = load_x_y_dataset_windowing(df, n_steps_in)\n",
        "  #X_dataset, y_dataset = load_x_y_dataset(df, n_steps_in)\n",
        "  X_dataset = X_dataset.reshape(-1, X_dataset.shape[2], X_dataset.shape[1])"
      ],
      "execution_count": null,
      "outputs": []
    },
    {
      "cell_type": "code",
      "metadata": {
        "id": "OdPU-ZSi4fEw"
      },
      "source": [
        "#del df"
      ],
      "execution_count": null,
      "outputs": []
    },
    {
      "cell_type": "code",
      "metadata": {
        "pycharm": {
          "name": "#%%\n"
        },
        "colab": {
          "base_uri": "https://localhost:8080/"
        },
        "id": "VX8s9JiAxsLA",
        "outputId": "dcf02545-0c9b-447a-d717-09a0878b1cb8"
      },
      "source": [
        "X_dataset.shape, y_dataset.shape"
      ],
      "execution_count": null,
      "outputs": [
        {
          "output_type": "execute_result",
          "data": {
            "text/plain": [
              "((191958, 8, 256), (191958,))"
            ]
          },
          "metadata": {},
          "execution_count": 57
        }
      ]
    },
    {
      "cell_type": "code",
      "metadata": {
        "pycharm": {
          "name": "#%%\n"
        },
        "id": "_ZWP9us8xsLB"
      },
      "source": [
        "from sklearn.model_selection import train_test_split\n",
        "\n",
        "X_train, X_test, y_train, y_test = train_test_split(X_dataset, y_dataset, shuffle=True, \n",
        "                                                    test_size=0.2, random_state=1, stratify=y_dataset)"
      ],
      "execution_count": null,
      "outputs": []
    },
    {
      "cell_type": "code",
      "metadata": {
        "id": "F-IcJ2AxxsLC"
      },
      "source": [
        "del X_dataset\n",
        "del y_dataset"
      ],
      "execution_count": null,
      "outputs": []
    },
    {
      "cell_type": "code",
      "metadata": {
        "pycharm": {
          "name": "#%%\n"
        },
        "colab": {
          "base_uri": "https://localhost:8080/"
        },
        "id": "y7eoe7_ZxsLD",
        "outputId": "b2237ae8-38ff-4358-c2e0-d0e23d08419e"
      },
      "source": [
        "X_train.shape, y_train.shape, X_test.shape, y_test.shape"
      ],
      "execution_count": null,
      "outputs": [
        {
          "output_type": "execute_result",
          "data": {
            "text/plain": [
              "((153566, 8, 256), (153566,), (38392, 8, 256), (38392,))"
            ]
          },
          "metadata": {},
          "execution_count": 60
        }
      ]
    },
    {
      "cell_type": "code",
      "source": [
        "# X_train = X_train.reshape(-1, X_train.shape[1], X_train.shape[2], 1)\n",
        "# X_test = X_train.reshape(-1, X_test.shape[1], X_test.shape[2], 1)"
      ],
      "metadata": {
        "id": "Zn3To_LH8SCH"
      },
      "execution_count": null,
      "outputs": []
    },
    {
      "cell_type": "code",
      "source": [
        "X_train.shape, y_train.shape, X_test.shape, y_test.shape"
      ],
      "metadata": {
        "colab": {
          "base_uri": "https://localhost:8080/"
        },
        "id": "FO41tR708rkx",
        "outputId": "8eb9066d-5275-42f2-a48a-64a39b5df306"
      },
      "execution_count": null,
      "outputs": [
        {
          "output_type": "execute_result",
          "data": {
            "text/plain": [
              "((153566, 8, 256), (153566,), (38392, 8, 256), (38392,))"
            ]
          },
          "metadata": {},
          "execution_count": 62
        }
      ]
    },
    {
      "cell_type": "code",
      "metadata": {
        "pycharm": {
          "name": "#%%\n"
        },
        "id": "AY1xWU6SxsLE"
      },
      "source": [
        "from sklearn.preprocessing import LabelEncoder\n",
        "\n",
        "label_encoder = LabelEncoder()\n",
        "y_train = label_encoder.fit_transform(y_train)\n",
        "y_test = label_encoder.transform(y_test)"
      ],
      "execution_count": null,
      "outputs": []
    },
    {
      "cell_type": "code",
      "metadata": {
        "id": "4jbKEcFC3eWy"
      },
      "source": [
        ""
      ],
      "execution_count": null,
      "outputs": []
    },
    {
      "cell_type": "code",
      "metadata": {
        "pycharm": {
          "name": "#%%\n"
        },
        "colab": {
          "base_uri": "https://localhost:8080/"
        },
        "id": "X0S5n9tKxsLE",
        "outputId": "ab6f539f-6215-4904-c746-00881123521f"
      },
      "source": [
        "num_classes = len(np.unique(y_train))\n",
        "num_classes"
      ],
      "execution_count": null,
      "outputs": [
        {
          "output_type": "execute_result",
          "data": {
            "text/plain": [
              "20"
            ]
          },
          "metadata": {},
          "execution_count": 64
        }
      ]
    },
    {
      "cell_type": "code",
      "metadata": {
        "pycharm": {
          "name": "#%%\n"
        },
        "id": "pfxSiPfVxsLF"
      },
      "source": [
        "from tensorflow.keras.utils import to_categorical\n",
        "y_train = to_categorical(y_train, num_classes=num_classes)\n",
        "y_test = to_categorical(y_test, num_classes=num_classes)"
      ],
      "execution_count": null,
      "outputs": []
    },
    {
      "cell_type": "code",
      "metadata": {
        "pycharm": {
          "name": "#%%\n"
        },
        "colab": {
          "base_uri": "https://localhost:8080/"
        },
        "id": "QeRGuE4LxsLG",
        "outputId": "e19bd179-208b-4f99-8efa-02401455d91f"
      },
      "source": [
        "y_train.shape, y_test.shape"
      ],
      "execution_count": null,
      "outputs": [
        {
          "output_type": "execute_result",
          "data": {
            "text/plain": [
              "((153566, 20), (38392, 20))"
            ]
          },
          "metadata": {},
          "execution_count": 66
        }
      ]
    },
    {
      "cell_type": "code",
      "metadata": {
        "pycharm": {
          "name": "#%%\n"
        },
        "id": "GXr-SglqxsLH",
        "colab": {
          "base_uri": "https://localhost:8080/"
        },
        "outputId": "dcc14a44-6bd6-4097-e58c-68f3e506fe85"
      },
      "source": [
        "input_shape = (1, X_train.shape[2])\n",
        "input_shape"
      ],
      "execution_count": null,
      "outputs": [
        {
          "output_type": "execute_result",
          "data": {
            "text/plain": [
              "(1, 256)"
            ]
          },
          "metadata": {},
          "execution_count": 67
        }
      ]
    },
    {
      "cell_type": "code",
      "metadata": {
        "pycharm": {
          "name": "#%%\n"
        },
        "id": "X9bJANnRxsLI",
        "colab": {
          "base_uri": "https://localhost:8080/"
        },
        "outputId": "774140f7-8d39-4656-90f1-fe7006cc625c"
      },
      "source": [
        "from tensorflow.keras.models import Sequential\n",
        "from tensorflow.keras.optimizers import RMSprop, Adam\n",
        "from tensorflow.keras.layers import LSTM, Dense, Input, Dropout\n",
        "\n",
        "optimizer = Adam()\n",
        "\n",
        "#num_models = 3\n",
        "num_models = X_train.shape[1]\n",
        "num_models"
      ],
      "execution_count": null,
      "outputs": [
        {
          "output_type": "execute_result",
          "data": {
            "text/plain": [
              "8"
            ]
          },
          "metadata": {},
          "execution_count": 68
        }
      ]
    },
    {
      "cell_type": "code",
      "metadata": {
        "pycharm": {
          "name": "#%%\n"
        },
        "id": "UDxMXpB_xsLJ"
      },
      "source": [
        "def build_model_list(num_models):\n",
        "    model_lst = [0] *num_models\n",
        "    for i in range(num_models):\n",
        "        model_lst[i] = Sequential()\n",
        "        model_lst[i].add(LSTM(64, input_shape=input_shape, return_sequences=True))\n",
        "        model_lst[i].add(LSTM(64))\n",
        "        # model_lst[i].add(LSTM(16))\n",
        "        # model_lst[i].add(LSTM(16))\n",
        "        model_lst[i].add(Dense(8, activation='relu'))\n",
        "\n",
        "        #model_lst[i].add(Dense(num_classes, activation='softmax'))\n",
        "        #model_lst[i].compile(optimizer=optimizer, loss=\"categorical_crossentropy\", metrics=[\"accuracy\"])\n",
        "\n",
        "    print('All Models Defined')\n",
        "    return model_lst"
      ],
      "execution_count": null,
      "outputs": []
    },
    {
      "cell_type": "code",
      "metadata": {
        "pycharm": {
          "name": "#%%\n"
        },
        "colab": {
          "base_uri": "https://localhost:8080/"
        },
        "id": "3mPfmcC3xsLJ",
        "outputId": "e694adaf-cb1d-40cf-c3cb-96a6fcb7c016"
      },
      "source": [
        "model_list = build_model_list(num_models)"
      ],
      "execution_count": null,
      "outputs": [
        {
          "output_type": "stream",
          "name": "stdout",
          "text": [
            "All Models Defined\n"
          ]
        }
      ]
    },
    {
      "cell_type": "code",
      "metadata": {
        "pycharm": {
          "name": "#%%\n"
        },
        "colab": {
          "base_uri": "https://localhost:8080/"
        },
        "id": "sJqa0OWixsLJ",
        "outputId": "e393d0f4-64a7-4e58-ba11-67323b894de0"
      },
      "source": [
        "model_list"
      ],
      "execution_count": null,
      "outputs": [
        {
          "output_type": "execute_result",
          "data": {
            "text/plain": [
              "[<keras.engine.sequential.Sequential at 0x7f3248389390>,\n",
              " <keras.engine.sequential.Sequential at 0x7f3223fc8550>,\n",
              " <keras.engine.sequential.Sequential at 0x7f3247d5ecd0>,\n",
              " <keras.engine.sequential.Sequential at 0x7f32246d6f50>,\n",
              " <keras.engine.sequential.Sequential at 0x7f3223f31410>,\n",
              " <keras.engine.sequential.Sequential at 0x7f3223a4b110>,\n",
              " <keras.engine.sequential.Sequential at 0x7f32239bd090>,\n",
              " <keras.engine.sequential.Sequential at 0x7f322360cd90>]"
            ]
          },
          "metadata": {},
          "execution_count": 72
        }
      ]
    },
    {
      "cell_type": "code",
      "metadata": {
        "pycharm": {
          "name": "#%%\n"
        },
        "id": "i3W61c7QxsLK"
      },
      "source": [
        "from keras.layers.merge import concatenate\n",
        "from tensorflow.keras.models import Model\n",
        "from tensorflow.keras.utils import plot_model\n",
        "\n",
        "def build_ensamble_model(model_lst):\n",
        "    \n",
        "    ensemble_inputs = [model.input for model in model_lst]\n",
        "    ensemble_outputs = [model.output for model in model_lst]\n",
        "\n",
        "    merge = concatenate(ensemble_outputs)\n",
        "    hidden = Dense(128, activation='relu')(merge)\n",
        "    hidden = Dense(64, activation='relu')(hidden)\n",
        "    hidden = Dense(32, activation='relu')(hidden)\n",
        "    hidden = Dropout(0.2)(hidden)\n",
        "    output = Dense(num_classes, activation='softmax')(hidden)\n",
        "    model = Model(inputs=ensemble_inputs, outputs=output)\n",
        "\n",
        "    plot_model(model, show_shapes=True, to_file='model_graph.png')\n",
        "    model.compile(loss='categorical_crossentropy', optimizer=optimizer, metrics=['accuracy'])\n",
        "    return model"
      ],
      "execution_count": null,
      "outputs": []
    },
    {
      "cell_type": "code",
      "metadata": {
        "pycharm": {
          "name": "#%%\n"
        },
        "id": "yd2UDuuuxsLK"
      },
      "source": [
        "model = build_ensamble_model(model_list)"
      ],
      "execution_count": null,
      "outputs": []
    },
    {
      "cell_type": "code",
      "metadata": {
        "pycharm": {
          "name": "#%%\n"
        },
        "colab": {
          "base_uri": "https://localhost:8080/"
        },
        "id": "c59DxdTpxsLM",
        "outputId": "adba7129-9735-4d56-aa50-9db79bfe19ab"
      },
      "source": [
        "model.summary()"
      ],
      "execution_count": null,
      "outputs": [
        {
          "output_type": "stream",
          "name": "stdout",
          "text": [
            "Model: \"model_1\"\n",
            "__________________________________________________________________________________________________\n",
            " Layer (type)                   Output Shape         Param #     Connected to                     \n",
            "==================================================================================================\n",
            " lstm_16_input (InputLayer)     [(None, 1, 256)]     0           []                               \n",
            "                                                                                                  \n",
            " lstm_18_input (InputLayer)     [(None, 1, 256)]     0           []                               \n",
            "                                                                                                  \n",
            " lstm_20_input (InputLayer)     [(None, 1, 256)]     0           []                               \n",
            "                                                                                                  \n",
            " lstm_22_input (InputLayer)     [(None, 1, 256)]     0           []                               \n",
            "                                                                                                  \n",
            " lstm_24_input (InputLayer)     [(None, 1, 256)]     0           []                               \n",
            "                                                                                                  \n",
            " lstm_26_input (InputLayer)     [(None, 1, 256)]     0           []                               \n",
            "                                                                                                  \n",
            " lstm_28_input (InputLayer)     [(None, 1, 256)]     0           []                               \n",
            "                                                                                                  \n",
            " lstm_30_input (InputLayer)     [(None, 1, 256)]     0           []                               \n",
            "                                                                                                  \n",
            " lstm_16 (LSTM)                 (None, 1, 64)        82176       ['lstm_16_input[0][0]']          \n",
            "                                                                                                  \n",
            " lstm_18 (LSTM)                 (None, 1, 64)        82176       ['lstm_18_input[0][0]']          \n",
            "                                                                                                  \n",
            " lstm_20 (LSTM)                 (None, 1, 64)        82176       ['lstm_20_input[0][0]']          \n",
            "                                                                                                  \n",
            " lstm_22 (LSTM)                 (None, 1, 64)        82176       ['lstm_22_input[0][0]']          \n",
            "                                                                                                  \n",
            " lstm_24 (LSTM)                 (None, 1, 64)        82176       ['lstm_24_input[0][0]']          \n",
            "                                                                                                  \n",
            " lstm_26 (LSTM)                 (None, 1, 64)        82176       ['lstm_26_input[0][0]']          \n",
            "                                                                                                  \n",
            " lstm_28 (LSTM)                 (None, 1, 64)        82176       ['lstm_28_input[0][0]']          \n",
            "                                                                                                  \n",
            " lstm_30 (LSTM)                 (None, 1, 64)        82176       ['lstm_30_input[0][0]']          \n",
            "                                                                                                  \n",
            " lstm_17 (LSTM)                 (None, 64)           33024       ['lstm_16[0][0]']                \n",
            "                                                                                                  \n",
            " lstm_19 (LSTM)                 (None, 64)           33024       ['lstm_18[0][0]']                \n",
            "                                                                                                  \n",
            " lstm_21 (LSTM)                 (None, 64)           33024       ['lstm_20[0][0]']                \n",
            "                                                                                                  \n",
            " lstm_23 (LSTM)                 (None, 64)           33024       ['lstm_22[0][0]']                \n",
            "                                                                                                  \n",
            " lstm_25 (LSTM)                 (None, 64)           33024       ['lstm_24[0][0]']                \n",
            "                                                                                                  \n",
            " lstm_27 (LSTM)                 (None, 64)           33024       ['lstm_26[0][0]']                \n",
            "                                                                                                  \n",
            " lstm_29 (LSTM)                 (None, 64)           33024       ['lstm_28[0][0]']                \n",
            "                                                                                                  \n",
            " lstm_31 (LSTM)                 (None, 64)           33024       ['lstm_30[0][0]']                \n",
            "                                                                                                  \n",
            " dense_12 (Dense)               (None, 8)            520         ['lstm_17[0][0]']                \n",
            "                                                                                                  \n",
            " dense_13 (Dense)               (None, 8)            520         ['lstm_19[0][0]']                \n",
            "                                                                                                  \n",
            " dense_14 (Dense)               (None, 8)            520         ['lstm_21[0][0]']                \n",
            "                                                                                                  \n",
            " dense_15 (Dense)               (None, 8)            520         ['lstm_23[0][0]']                \n",
            "                                                                                                  \n",
            " dense_16 (Dense)               (None, 8)            520         ['lstm_25[0][0]']                \n",
            "                                                                                                  \n",
            " dense_17 (Dense)               (None, 8)            520         ['lstm_27[0][0]']                \n",
            "                                                                                                  \n",
            " dense_18 (Dense)               (None, 8)            520         ['lstm_29[0][0]']                \n",
            "                                                                                                  \n",
            " dense_19 (Dense)               (None, 8)            520         ['lstm_31[0][0]']                \n",
            "                                                                                                  \n",
            " concatenate_1 (Concatenate)    (None, 64)           0           ['dense_12[0][0]',               \n",
            "                                                                  'dense_13[0][0]',               \n",
            "                                                                  'dense_14[0][0]',               \n",
            "                                                                  'dense_15[0][0]',               \n",
            "                                                                  'dense_16[0][0]',               \n",
            "                                                                  'dense_17[0][0]',               \n",
            "                                                                  'dense_18[0][0]',               \n",
            "                                                                  'dense_19[0][0]']               \n",
            "                                                                                                  \n",
            " dense_20 (Dense)               (None, 128)          8320        ['concatenate_1[0][0]']          \n",
            "                                                                                                  \n",
            " dense_21 (Dense)               (None, 64)           8256        ['dense_20[0][0]']               \n",
            "                                                                                                  \n",
            " dense_22 (Dense)               (None, 32)           2080        ['dense_21[0][0]']               \n",
            "                                                                                                  \n",
            " dropout_1 (Dropout)            (None, 32)           0           ['dense_22[0][0]']               \n",
            "                                                                                                  \n",
            " dense_23 (Dense)               (None, 20)           660         ['dropout_1[0][0]']              \n",
            "                                                                                                  \n",
            "==================================================================================================\n",
            "Total params: 945,076\n",
            "Trainable params: 945,076\n",
            "Non-trainable params: 0\n",
            "__________________________________________________________________________________________________\n"
          ]
        }
      ]
    },
    {
      "cell_type": "code",
      "metadata": {
        "colab": {
          "base_uri": "https://localhost:8080/",
          "height": 310
        },
        "id": "-JzdqQ_U50ZI",
        "outputId": "9e80a4dc-e661-44da-f42b-85e72c12f29b"
      },
      "source": [
        "plt.figure(figsize=(20,20))\n",
        "model_img = plt.imread(\"model_graph.png\")\n",
        "plt.imshow(model_img)"
      ],
      "execution_count": null,
      "outputs": [
        {
          "output_type": "execute_result",
          "data": {
            "text/plain": [
              "<matplotlib.image.AxesImage at 0x7f32482adb50>"
            ]
          },
          "metadata": {},
          "execution_count": 76
        },
        {
          "output_type": "display_data",
          "data": {
            "image/png": "[encoded data removed]",
            "text/plain": [
              "<Figure size 1440x1440 with 1 Axes>"
            ]
          },
          "metadata": {
            "needs_background": "light"
          }
        }
      ]
    },
    {
      "cell_type": "code",
      "metadata": {
        "pycharm": {
          "name": "#%%\n"
        },
        "id": "r8aviSlrxsLN"
      },
      "source": [
        "model_weights_file_path = \"best_model_weights.hdf5\"\n",
        "num_epochs = 100\n",
        "batch_size = 256\n",
        "validation_ratio = 0.2"
      ],
      "execution_count": null,
      "outputs": []
    },
    {
      "cell_type": "code",
      "metadata": {
        "pycharm": {
          "name": "#%%\n"
        },
        "id": "RPvWsN45xsLN"
      },
      "source": [
        "from keras.callbacks import ModelCheckpoint, EarlyStopping, ReduceLROnPlateau\n",
        "\n",
        "checkpoint = ModelCheckpoint(filepath=model_weights_file_path, monitor=\"val_accuracy\", verbose=1, save_best_only=True, mode=\"max\", save_weights_only=True)\n",
        "early_stopping = EarlyStopping(monitor=\"val_accuracy\", mode=\"max\", verbose=1, patience=20)\n",
        "lr_reduce = ReduceLROnPlateau(monitor='val_accuracy', factor=0.1, patience=5, verbose=0, mode='max', min_delta=0.0001, cooldown=0, min_lr=0)\n",
        "\n",
        "call_backs = [checkpoint, early_stopping, lr_reduce]"
      ],
      "execution_count": null,
      "outputs": []
    },
    {
      "cell_type": "code",
      "metadata": {
        "pycharm": {
          "name": "#%%\n"
        },
        "id": "3dYlGt4txsLO"
      },
      "source": [
        "def plot_loss_accuracy(history):\n",
        "    plt.figure(figsize=[8,6])\n",
        "    plt.plot(history.history['loss'],'r',linewidth=3.0)\n",
        "    plt.plot(history.history['val_loss'],'b',linewidth=3.0)\n",
        "    plt.legend(['Training loss', 'Validation Loss'],fontsize=18)\n",
        "    plt.xlabel('Epochs ',fontsize=16)\n",
        "    plt.ylabel('Loss',fontsize=16)\n",
        "    plt.title('Loss Curves',fontsize=16)\n",
        "\n",
        "    plt.figure(figsize=[8,6])\n",
        "    plt.plot(history.history['accuracy'],'g',linewidth=3.0)\n",
        "    plt.plot(history.history['val_accuracy'],'b',linewidth=3.0)\n",
        "    plt.legend(['Training Accuracy', 'Validation Accuracy'],fontsize=18)\n",
        "    plt.xlabel('Epochs ',fontsize=16)\n",
        "    plt.ylabel('Accuracy',fontsize=16)\n",
        "    plt.title('Accuracy Curves',fontsize=16)"
      ],
      "execution_count": null,
      "outputs": []
    },
    {
      "cell_type": "code",
      "metadata": {
        "id": "4SfAj_gqbOER"
      },
      "source": [
        ""
      ],
      "execution_count": null,
      "outputs": []
    },
    {
      "cell_type": "code",
      "metadata": {
        "pycharm": {
          "name": "#%%\n"
        },
        "id": "eFIPkQelxsLP"
      },
      "source": [
        "def fit_stacked_model(model, \n",
        "                      input_x, \n",
        "                      input_y,\n",
        "                      validation_ratio,\n",
        "                      epochs,\n",
        "                      batch_size,\n",
        "                      call_backs):\n",
        "    X = []\n",
        "    for channle in range(input_x.shape[1]):\n",
        "      X.append(input_x[:, channle].reshape(-1,1,input_x.shape[2]))\n",
        "\n",
        "    history = model.fit(X, \n",
        "                        input_y,\n",
        "                        validation_split=validation_ratio,\n",
        "                        epochs=epochs, \n",
        "                        batch_size=batch_size,\n",
        "                        callbacks=call_backs, \n",
        "                        verbose=1)\n",
        "    return history"
      ],
      "execution_count": null,
      "outputs": []
    },
    {
      "cell_type": "code",
      "metadata": {
        "pycharm": {
          "name": "#%%\n"
        },
        "colab": {
          "base_uri": "https://localhost:8080/"
        },
        "id": "G0kZcSF8xsLP",
        "outputId": "0b3658ac-ea32-43c4-84d7-939892957288"
      },
      "source": [
        "import tensorflow as tf\n",
        "\n",
        "with tf.device('/device:GPU:0'):\n",
        "  history = fit_stacked_model(model, \n",
        "                              X_train,\n",
        "                              y_train,\n",
        "                              validation_ratio,\n",
        "                              num_epochs,\n",
        "                              batch_size,\n",
        "                              call_backs)"
      ],
      "execution_count": null,
      "outputs": [
        {
          "output_type": "stream",
          "name": "stdout",
          "text": [
            "Epoch 1/100\n",
            "479/480 [============================>.] - ETA: 0s - loss: 0.7377 - accuracy: 0.6981\n",
            "Epoch 00001: val_accuracy improved from -inf to 0.74715, saving model to best_model_weights.hdf5\n",
            "480/480 [==============================] - 22s 46ms/step - loss: 0.7374 - accuracy: 0.6982 - val_loss: 0.6283 - val_accuracy: 0.7472 - lr: 0.0010\n",
            "Epoch 2/100\n",
            "480/480 [==============================] - ETA: 0s - loss: 0.6412 - accuracy: 0.7290\n",
            "Epoch 00002: val_accuracy did not improve from 0.74715\n",
            "480/480 [==============================] - 22s 46ms/step - loss: 0.6412 - accuracy: 0.7290 - val_loss: 0.6709 - val_accuracy: 0.7406 - lr: 0.0010\n",
            "Epoch 3/100\n",
            "480/480 [==============================] - ETA: 0s - loss: 0.6416 - accuracy: 0.7312\n",
            "Epoch 00003: val_accuracy did not improve from 0.74715\n",
            "480/480 [==============================] - 22s 46ms/step - loss: 0.6416 - accuracy: 0.7312 - val_loss: 0.6298 - val_accuracy: 0.7315 - lr: 0.0010\n",
            "Epoch 4/100\n",
            "480/480 [==============================] - ETA: 0s - loss: 0.7730 - accuracy: 0.6902\n",
            "Epoch 00004: val_accuracy did not improve from 0.74715\n",
            "480/480 [==============================] - 22s 47ms/step - loss: 0.7730 - accuracy: 0.6902 - val_loss: 0.7230 - val_accuracy: 0.7143 - lr: 0.0010\n",
            "Epoch 5/100\n",
            "480/480 [==============================] - ETA: 0s - loss: 0.7031 - accuracy: 0.7110\n",
            "Epoch 00005: val_accuracy improved from 0.74715 to 0.80354, saving model to best_model_weights.hdf5\n",
            "480/480 [==============================] - 22s 47ms/step - loss: 0.7031 - accuracy: 0.7110 - val_loss: 0.5055 - val_accuracy: 0.8035 - lr: 0.0010\n",
            "Epoch 6/100\n",
            "479/480 [============================>.] - ETA: 0s - loss: 0.6143 - accuracy: 0.7441\n",
            "Epoch 00006: val_accuracy did not improve from 0.80354\n",
            "480/480 [==============================] - 22s 46ms/step - loss: 0.6143 - accuracy: 0.7440 - val_loss: 0.5939 - val_accuracy: 0.7402 - lr: 0.0010\n",
            "Epoch 7/100\n",
            "480/480 [==============================] - ETA: 0s - loss: 0.6220 - accuracy: 0.7408\n",
            "Epoch 00007: val_accuracy did not improve from 0.80354\n",
            "480/480 [==============================] - 22s 46ms/step - loss: 0.6220 - accuracy: 0.7408 - val_loss: 0.6329 - val_accuracy: 0.7427 - lr: 0.0010\n",
            "Epoch 8/100\n",
            "479/480 [============================>.] - ETA: 0s - loss: 0.5831 - accuracy: 0.7525\n",
            "Epoch 00008: val_accuracy did not improve from 0.80354\n",
            "480/480 [==============================] - 22s 47ms/step - loss: 0.5829 - accuracy: 0.7525 - val_loss: 0.5163 - val_accuracy: 0.7685 - lr: 0.0010\n",
            "Epoch 9/100\n",
            "479/480 [============================>.] - ETA: 0s - loss: 0.5983 - accuracy: 0.7459\n",
            "Epoch 00009: val_accuracy did not improve from 0.80354\n",
            "480/480 [==============================] - 22s 46ms/step - loss: 0.5982 - accuracy: 0.7460 - val_loss: 0.6144 - val_accuracy: 0.7391 - lr: 0.0010\n",
            "Epoch 10/100\n",
            "479/480 [============================>.] - ETA: 0s - loss: 0.6696 - accuracy: 0.7259\n",
            "Epoch 00010: val_accuracy did not improve from 0.80354\n",
            "480/480 [==============================] - 23s 48ms/step - loss: 0.6693 - accuracy: 0.7260 - val_loss: 0.5936 - val_accuracy: 0.7380 - lr: 0.0010\n",
            "Epoch 11/100\n",
            "480/480 [==============================] - ETA: 0s - loss: 0.4380 - accuracy: 0.8181\n",
            "Epoch 00011: val_accuracy improved from 0.80354 to 0.82415, saving model to best_model_weights.hdf5\n",
            "480/480 [==============================] - 23s 47ms/step - loss: 0.4380 - accuracy: 0.8181 - val_loss: 0.4310 - val_accuracy: 0.8242 - lr: 1.0000e-04\n",
            "Epoch 12/100\n",
            "479/480 [============================>.] - ETA: 0s - loss: 0.3941 - accuracy: 0.8359\n",
            "Epoch 00012: val_accuracy did not improve from 0.82415\n",
            "480/480 [==============================] - 22s 47ms/step - loss: 0.3943 - accuracy: 0.8359 - val_loss: 0.4097 - val_accuracy: 0.8101 - lr: 1.0000e-04\n",
            "Epoch 13/100\n",
            "479/480 [============================>.] - ETA: 0s - loss: 0.3788 - accuracy: 0.8383\n",
            "Epoch 00013: val_accuracy did not improve from 0.82415\n",
            "480/480 [==============================] - 22s 47ms/step - loss: 0.3788 - accuracy: 0.8382 - val_loss: 0.3932 - val_accuracy: 0.8172 - lr: 1.0000e-04\n",
            "Epoch 14/100\n",
            "479/480 [============================>.] - ETA: 0s - loss: 0.3623 - accuracy: 0.8453\n",
            "Epoch 00014: val_accuracy improved from 0.82415 to 0.86241, saving model to best_model_weights.hdf5\n",
            "480/480 [==============================] - 23s 47ms/step - loss: 0.3622 - accuracy: 0.8454 - val_loss: 0.3769 - val_accuracy: 0.8624 - lr: 1.0000e-04\n",
            "Epoch 15/100\n",
            "479/480 [============================>.] - ETA: 0s - loss: 0.3474 - accuracy: 0.8515\n",
            "Epoch 00015: val_accuracy did not improve from 0.86241\n",
            "480/480 [==============================] - 23s 47ms/step - loss: 0.3474 - accuracy: 0.8515 - val_loss: 0.3780 - val_accuracy: 0.8430 - lr: 1.0000e-04\n",
            "Epoch 16/100\n",
            "479/480 [============================>.] - ETA: 0s - loss: 0.3386 - accuracy: 0.8536\n",
            "Epoch 00016: val_accuracy did not improve from 0.86241\n",
            "480/480 [==============================] - 23s 47ms/step - loss: 0.3386 - accuracy: 0.8536 - val_loss: 0.3747 - val_accuracy: 0.8343 - lr: 1.0000e-04\n",
            "Epoch 17/100\n",
            "480/480 [==============================] - ETA: 0s - loss: 0.3236 - accuracy: 0.8604\n",
            "Epoch 00017: val_accuracy improved from 0.86241 to 0.88331, saving model to best_model_weights.hdf5\n",
            "480/480 [==============================] - 23s 48ms/step - loss: 0.3236 - accuracy: 0.8604 - val_loss: 0.3400 - val_accuracy: 0.8833 - lr: 1.0000e-04\n",
            "Epoch 18/100\n",
            "479/480 [============================>.] - ETA: 0s - loss: 0.3195 - accuracy: 0.8615\n",
            "Epoch 00018: val_accuracy did not improve from 0.88331\n",
            "480/480 [==============================] - 23s 47ms/step - loss: 0.3195 - accuracy: 0.8616 - val_loss: 0.3355 - val_accuracy: 0.8500 - lr: 1.0000e-04\n",
            "Epoch 19/100\n",
            "480/480 [==============================] - ETA: 0s - loss: 0.3101 - accuracy: 0.8666\n",
            "Epoch 00019: val_accuracy improved from 0.88331 to 0.89060, saving model to best_model_weights.hdf5\n",
            "480/480 [==============================] - 22s 47ms/step - loss: 0.3101 - accuracy: 0.8666 - val_loss: 0.3173 - val_accuracy: 0.8906 - lr: 1.0000e-04\n",
            "Epoch 20/100\n",
            "479/480 [============================>.] - ETA: 0s - loss: 0.3040 - accuracy: 0.8693\n",
            "Epoch 00020: val_accuracy did not improve from 0.89060\n",
            "480/480 [==============================] - 23s 47ms/step - loss: 0.3040 - accuracy: 0.8694 - val_loss: 0.3109 - val_accuracy: 0.8802 - lr: 1.0000e-04\n",
            "Epoch 21/100\n",
            "480/480 [==============================] - ETA: 0s - loss: 0.2905 - accuracy: 0.8781\n",
            "Epoch 00021: val_accuracy did not improve from 0.89060\n",
            "480/480 [==============================] - 23s 47ms/step - loss: 0.2905 - accuracy: 0.8781 - val_loss: 0.3207 - val_accuracy: 0.8707 - lr: 1.0000e-04\n",
            "Epoch 22/100\n",
            "480/480 [==============================] - ETA: 0s - loss: 0.2817 - accuracy: 0.8816\n",
            "Epoch 00022: val_accuracy improved from 0.89060 to 0.89913, saving model to best_model_weights.hdf5\n",
            "480/480 [==============================] - 23s 47ms/step - loss: 0.2817 - accuracy: 0.8816 - val_loss: 0.2949 - val_accuracy: 0.8991 - lr: 1.0000e-04\n",
            "Epoch 23/100\n",
            "480/480 [==============================] - ETA: 0s - loss: 0.2826 - accuracy: 0.8780\n",
            "Epoch 00023: val_accuracy improved from 0.89913 to 0.90773, saving model to best_model_weights.hdf5\n",
            "480/480 [==============================] - 23s 47ms/step - loss: 0.2826 - accuracy: 0.8780 - val_loss: 0.2936 - val_accuracy: 0.9077 - lr: 1.0000e-04\n",
            "Epoch 24/100\n",
            "480/480 [==============================] - ETA: 0s - loss: 0.2681 - accuracy: 0.8861\n",
            "Epoch 00024: val_accuracy did not improve from 0.90773\n",
            "480/480 [==============================] - 22s 47ms/step - loss: 0.2681 - accuracy: 0.8861 - val_loss: 0.2901 - val_accuracy: 0.8833 - lr: 1.0000e-04\n",
            "Epoch 25/100\n",
            "479/480 [============================>.] - ETA: 0s - loss: 0.2645 - accuracy: 0.8861\n",
            "Epoch 00025: val_accuracy did not improve from 0.90773\n",
            "480/480 [==============================] - 23s 47ms/step - loss: 0.2645 - accuracy: 0.8861 - val_loss: 0.2828 - val_accuracy: 0.8975 - lr: 1.0000e-04\n",
            "Epoch 26/100\n",
            "480/480 [==============================] - ETA: 0s - loss: 0.2623 - accuracy: 0.8869\n",
            "Epoch 00026: val_accuracy did not improve from 0.90773\n",
            "480/480 [==============================] - 23s 47ms/step - loss: 0.2623 - accuracy: 0.8869 - val_loss: 0.2818 - val_accuracy: 0.8942 - lr: 1.0000e-04\n",
            "Epoch 27/100\n",
            "480/480 [==============================] - ETA: 0s - loss: 0.2521 - accuracy: 0.8911\n",
            "Epoch 00027: val_accuracy did not improve from 0.90773\n",
            "480/480 [==============================] - 23s 47ms/step - loss: 0.2521 - accuracy: 0.8911 - val_loss: 0.2809 - val_accuracy: 0.9011 - lr: 1.0000e-04\n",
            "Epoch 28/100\n",
            "480/480 [==============================] - ETA: 0s - loss: 0.2474 - accuracy: 0.8944\n",
            "Epoch 00028: val_accuracy did not improve from 0.90773\n",
            "480/480 [==============================] - 23s 48ms/step - loss: 0.2474 - accuracy: 0.8944 - val_loss: 0.2631 - val_accuracy: 0.9025 - lr: 1.0000e-04\n",
            "Epoch 29/100\n",
            "479/480 [============================>.] - ETA: 0s - loss: 0.2258 - accuracy: 0.9116\n",
            "Epoch 00029: val_accuracy improved from 0.90773 to 0.91069, saving model to best_model_weights.hdf5\n",
            "480/480 [==============================] - 23s 47ms/step - loss: 0.2258 - accuracy: 0.9117 - val_loss: 0.2530 - val_accuracy: 0.9107 - lr: 1.0000e-05\n",
            "Epoch 30/100\n",
            "479/480 [============================>.] - ETA: 0s - loss: 0.2237 - accuracy: 0.9139\n",
            "Epoch 00030: val_accuracy improved from 0.91069 to 0.91167, saving model to best_model_weights.hdf5\n",
            "480/480 [==============================] - 23s 48ms/step - loss: 0.2237 - accuracy: 0.9138 - val_loss: 0.2520 - val_accuracy: 0.9117 - lr: 1.0000e-05\n",
            "Epoch 31/100\n",
            "480/480 [==============================] - ETA: 0s - loss: 0.2231 - accuracy: 0.9135\n",
            "Epoch 00031: val_accuracy improved from 0.91167 to 0.91932, saving model to best_model_weights.hdf5\n",
            "480/480 [==============================] - 23s 47ms/step - loss: 0.2231 - accuracy: 0.9135 - val_loss: 0.2495 - val_accuracy: 0.9193 - lr: 1.0000e-05\n",
            "Epoch 32/100\n",
            "480/480 [==============================] - ETA: 0s - loss: 0.2239 - accuracy: 0.9129\n",
            "Epoch 00032: val_accuracy did not improve from 0.91932\n",
            "480/480 [==============================] - 23s 47ms/step - loss: 0.2239 - accuracy: 0.9129 - val_loss: 0.2493 - val_accuracy: 0.9134 - lr: 1.0000e-05\n",
            "Epoch 33/100\n",
            "480/480 [==============================] - ETA: 0s - loss: 0.2219 - accuracy: 0.9145\n",
            "Epoch 00033: val_accuracy did not improve from 0.91932\n",
            "480/480 [==============================] - 23s 47ms/step - loss: 0.2219 - accuracy: 0.9145 - val_loss: 0.2521 - val_accuracy: 0.9171 - lr: 1.0000e-05\n",
            "Epoch 34/100\n",
            "479/480 [============================>.] - ETA: 0s - loss: 0.2205 - accuracy: 0.9154\n",
            "Epoch 00034: val_accuracy did not improve from 0.91932\n",
            "480/480 [==============================] - 23s 47ms/step - loss: 0.2205 - accuracy: 0.9154 - val_loss: 0.2476 - val_accuracy: 0.9140 - lr: 1.0000e-05\n",
            "Epoch 35/100\n",
            "480/480 [==============================] - ETA: 0s - loss: 0.2204 - accuracy: 0.9151\n",
            "Epoch 00035: val_accuracy did not improve from 0.91932\n",
            "480/480 [==============================] - 23s 48ms/step - loss: 0.2204 - accuracy: 0.9151 - val_loss: 0.2497 - val_accuracy: 0.9073 - lr: 1.0000e-05\n",
            "Epoch 36/100\n",
            "480/480 [==============================] - ETA: 0s - loss: 0.2189 - accuracy: 0.9157\n",
            "Epoch 00036: val_accuracy did not improve from 0.91932\n",
            "480/480 [==============================] - 23s 48ms/step - loss: 0.2189 - accuracy: 0.9157 - val_loss: 0.2472 - val_accuracy: 0.9125 - lr: 1.0000e-05\n",
            "Epoch 37/100\n",
            "479/480 [============================>.] - ETA: 0s - loss: 0.2174 - accuracy: 0.9173\n",
            "Epoch 00037: val_accuracy did not improve from 0.91932\n",
            "480/480 [==============================] - 23s 47ms/step - loss: 0.2175 - accuracy: 0.9173 - val_loss: 0.2446 - val_accuracy: 0.9174 - lr: 1.0000e-06\n",
            "Epoch 38/100\n",
            "479/480 [============================>.] - ETA: 0s - loss: 0.2174 - accuracy: 0.9187\n",
            "Epoch 00038: val_accuracy did not improve from 0.91932\n",
            "480/480 [==============================] - 23s 47ms/step - loss: 0.2174 - accuracy: 0.9187 - val_loss: 0.2445 - val_accuracy: 0.9179 - lr: 1.0000e-06\n",
            "Epoch 39/100\n",
            "480/480 [==============================] - ETA: 0s - loss: 0.2160 - accuracy: 0.9190\n",
            "Epoch 00039: val_accuracy did not improve from 0.91932\n",
            "480/480 [==============================] - 23s 47ms/step - loss: 0.2160 - accuracy: 0.9190 - val_loss: 0.2442 - val_accuracy: 0.9191 - lr: 1.0000e-06\n",
            "Epoch 40/100\n",
            "480/480 [==============================] - ETA: 0s - loss: 0.2173 - accuracy: 0.9182\n",
            "Epoch 00040: val_accuracy did not improve from 0.91932\n",
            "480/480 [==============================] - 23s 47ms/step - loss: 0.2173 - accuracy: 0.9182 - val_loss: 0.2440 - val_accuracy: 0.9191 - lr: 1.0000e-06\n",
            "Epoch 41/100\n",
            "479/480 [============================>.] - ETA: 0s - loss: 0.2179 - accuracy: 0.9173\n",
            "Epoch 00041: val_accuracy improved from 0.91932 to 0.92010, saving model to best_model_weights.hdf5\n",
            "480/480 [==============================] - 23s 49ms/step - loss: 0.2178 - accuracy: 0.9173 - val_loss: 0.2439 - val_accuracy: 0.9201 - lr: 1.0000e-06\n",
            "Epoch 42/100\n",
            "480/480 [==============================] - ETA: 0s - loss: 0.2172 - accuracy: 0.9181\n",
            "Epoch 00042: val_accuracy did not improve from 0.92010\n",
            "480/480 [==============================] - 23s 48ms/step - loss: 0.2172 - accuracy: 0.9181 - val_loss: 0.2439 - val_accuracy: 0.9188 - lr: 1.0000e-06\n",
            "Epoch 43/100\n",
            "479/480 [============================>.] - ETA: 0s - loss: 0.2172 - accuracy: 0.9182\n",
            "Epoch 00043: val_accuracy did not improve from 0.92010\n",
            "480/480 [==============================] - 23s 48ms/step - loss: 0.2172 - accuracy: 0.9182 - val_loss: 0.2437 - val_accuracy: 0.9191 - lr: 1.0000e-06\n",
            "Epoch 44/100\n",
            "479/480 [============================>.] - ETA: 0s - loss: 0.2173 - accuracy: 0.9182\n",
            "Epoch 00044: val_accuracy did not improve from 0.92010\n",
            "480/480 [==============================] - 23s 48ms/step - loss: 0.2172 - accuracy: 0.9183 - val_loss: 0.2439 - val_accuracy: 0.9180 - lr: 1.0000e-06\n",
            "Epoch 45/100\n",
            "479/480 [============================>.] - ETA: 0s - loss: 0.2169 - accuracy: 0.9188\n",
            "Epoch 00045: val_accuracy did not improve from 0.92010\n",
            "480/480 [==============================] - 23s 48ms/step - loss: 0.2169 - accuracy: 0.9188 - val_loss: 0.2439 - val_accuracy: 0.9174 - lr: 1.0000e-06\n",
            "Epoch 46/100\n",
            "479/480 [============================>.] - ETA: 0s - loss: 0.2167 - accuracy: 0.9188\n",
            "Epoch 00046: val_accuracy did not improve from 0.92010\n",
            "480/480 [==============================] - 23s 48ms/step - loss: 0.2167 - accuracy: 0.9188 - val_loss: 0.2435 - val_accuracy: 0.9190 - lr: 1.0000e-06\n",
            "Epoch 47/100\n",
            "479/480 [============================>.] - ETA: 0s - loss: 0.2153 - accuracy: 0.9190\n",
            "Epoch 00047: val_accuracy did not improve from 0.92010\n",
            "480/480 [==============================] - 23s 48ms/step - loss: 0.2153 - accuracy: 0.9190 - val_loss: 0.2436 - val_accuracy: 0.9185 - lr: 1.0000e-07\n",
            "Epoch 48/100\n",
            "479/480 [============================>.] - ETA: 0s - loss: 0.2173 - accuracy: 0.9182\n",
            "Epoch 00048: val_accuracy did not improve from 0.92010\n",
            "480/480 [==============================] - 23s 47ms/step - loss: 0.2173 - accuracy: 0.9181 - val_loss: 0.2434 - val_accuracy: 0.9190 - lr: 1.0000e-07\n",
            "Epoch 49/100\n",
            "480/480 [==============================] - ETA: 0s - loss: 0.2185 - accuracy: 0.9185\n",
            "Epoch 00049: val_accuracy did not improve from 0.92010\n",
            "480/480 [==============================] - 23s 48ms/step - loss: 0.2185 - accuracy: 0.9185 - val_loss: 0.2435 - val_accuracy: 0.9190 - lr: 1.0000e-07\n",
            "Epoch 50/100\n",
            "479/480 [============================>.] - ETA: 0s - loss: 0.2158 - accuracy: 0.9189\n",
            "Epoch 00050: val_accuracy did not improve from 0.92010\n",
            "480/480 [==============================] - 23s 47ms/step - loss: 0.2159 - accuracy: 0.9189 - val_loss: 0.2436 - val_accuracy: 0.9185 - lr: 1.0000e-07\n",
            "Epoch 51/100\n",
            "479/480 [============================>.] - ETA: 0s - loss: 0.2159 - accuracy: 0.9184\n",
            "Epoch 00051: val_accuracy did not improve from 0.92010\n",
            "480/480 [==============================] - 23s 47ms/step - loss: 0.2159 - accuracy: 0.9184 - val_loss: 0.2434 - val_accuracy: 0.9192 - lr: 1.0000e-07\n",
            "Epoch 52/100\n",
            "480/480 [==============================] - ETA: 0s - loss: 0.2173 - accuracy: 0.9184\n",
            "Epoch 00052: val_accuracy did not improve from 0.92010\n",
            "480/480 [==============================] - 23s 47ms/step - loss: 0.2173 - accuracy: 0.9184 - val_loss: 0.2435 - val_accuracy: 0.9190 - lr: 1.0000e-08\n",
            "Epoch 53/100\n",
            "479/480 [============================>.] - ETA: 0s - loss: 0.2157 - accuracy: 0.9199\n",
            "Epoch 00053: val_accuracy did not improve from 0.92010\n",
            "480/480 [==============================] - 23s 47ms/step - loss: 0.2156 - accuracy: 0.9199 - val_loss: 0.2435 - val_accuracy: 0.9190 - lr: 1.0000e-08\n",
            "Epoch 54/100\n",
            "480/480 [==============================] - ETA: 0s - loss: 0.2180 - accuracy: 0.9187\n",
            "Epoch 00054: val_accuracy did not improve from 0.92010\n",
            "480/480 [==============================] - 23s 49ms/step - loss: 0.2180 - accuracy: 0.9187 - val_loss: 0.2435 - val_accuracy: 0.9189 - lr: 1.0000e-08\n",
            "Epoch 55/100\n",
            "479/480 [============================>.] - ETA: 0s - loss: 0.2157 - accuracy: 0.9196\n",
            "Epoch 00055: val_accuracy did not improve from 0.92010\n",
            "480/480 [==============================] - 24s 50ms/step - loss: 0.2158 - accuracy: 0.9196 - val_loss: 0.2435 - val_accuracy: 0.9189 - lr: 1.0000e-08\n",
            "Epoch 56/100\n",
            "480/480 [==============================] - ETA: 0s - loss: 0.2163 - accuracy: 0.9186\n",
            "Epoch 00056: val_accuracy did not improve from 0.92010\n",
            "480/480 [==============================] - 23s 47ms/step - loss: 0.2163 - accuracy: 0.9186 - val_loss: 0.2435 - val_accuracy: 0.9188 - lr: 1.0000e-08\n",
            "Epoch 57/100\n",
            "480/480 [==============================] - ETA: 0s - loss: 0.2174 - accuracy: 0.9184\n",
            "Epoch 00057: val_accuracy did not improve from 0.92010\n",
            "480/480 [==============================] - 22s 47ms/step - loss: 0.2174 - accuracy: 0.9184 - val_loss: 0.2435 - val_accuracy: 0.9188 - lr: 1.0000e-09\n",
            "Epoch 58/100\n",
            "480/480 [==============================] - ETA: 0s - loss: 0.2166 - accuracy: 0.9189\n",
            "Epoch 00058: val_accuracy did not improve from 0.92010\n",
            "480/480 [==============================] - 23s 47ms/step - loss: 0.2166 - accuracy: 0.9189 - val_loss: 0.2435 - val_accuracy: 0.9188 - lr: 1.0000e-09\n",
            "Epoch 59/100\n",
            "480/480 [==============================] - ETA: 0s - loss: 0.2174 - accuracy: 0.9185\n",
            "Epoch 00059: val_accuracy did not improve from 0.92010\n",
            "480/480 [==============================] - 23s 48ms/step - loss: 0.2174 - accuracy: 0.9185 - val_loss: 0.2435 - val_accuracy: 0.9188 - lr: 1.0000e-09\n",
            "Epoch 60/100\n",
            "479/480 [============================>.] - ETA: 0s - loss: 0.2173 - accuracy: 0.9193\n",
            "Epoch 00060: val_accuracy did not improve from 0.92010\n",
            "480/480 [==============================] - 23s 48ms/step - loss: 0.2174 - accuracy: 0.9193 - val_loss: 0.2435 - val_accuracy: 0.9188 - lr: 1.0000e-09\n",
            "Epoch 61/100\n",
            "479/480 [============================>.] - ETA: 0s - loss: 0.2158 - accuracy: 0.9193\n",
            "Epoch 00061: val_accuracy did not improve from 0.92010\n",
            "480/480 [==============================] - 23s 47ms/step - loss: 0.2159 - accuracy: 0.9193 - val_loss: 0.2435 - val_accuracy: 0.9188 - lr: 1.0000e-09\n",
            "Epoch 00061: early stopping\n"
          ]
        }
      ]
    },
    {
      "cell_type": "code",
      "metadata": {
        "colab": {
          "base_uri": "https://localhost:8080/",
          "height": 805
        },
        "id": "dO31DezzBKS3",
        "outputId": "c40a8acc-763d-4a99-895a-df91ee11e1e5"
      },
      "source": [
        "plot_loss_accuracy(history)"
      ],
      "execution_count": null,
      "outputs": [
        {
          "output_type": "display_data",
          "data": {
            "image/png": "[encoded data removed]",
            "text/plain": [
              "<Figure size 576x432 with 1 Axes>"
            ]
          },
          "metadata": {
            "needs_background": "light"
          }
        },
        {
          "output_type": "display_data",
          "data": {
            "image/png": "[encoded data removed]",
            "text/plain": [
              "<Figure size 576x432 with 1 Axes>"
            ]
          },
          "metadata": {
            "needs_background": "light"
          }
        }
      ]
    },
    {
      "cell_type": "code",
      "metadata": {
        "pycharm": {
          "name": "#%%\n"
        },
        "id": "LJ9AlCF4xsLQ"
      },
      "source": [
        "def predict_model(model, tmp_X_dataset):\n",
        "    X = []\n",
        "    for channle in range(len(model.input)):\n",
        "      X.append(tmp_X_dataset[:, channle].reshape(-1,1,tmp_X_dataset.shape[2]))\n",
        "    return model.predict(X, verbose=1)"
      ],
      "execution_count": null,
      "outputs": []
    },
    {
      "cell_type": "code",
      "metadata": {
        "pycharm": {
          "name": "#%%\n"
        },
        "colab": {
          "base_uri": "https://localhost:8080/"
        },
        "id": "-B9Hvw2TxsLR",
        "outputId": "fe63c4ce-63d5-485c-d037-d893138fbc89"
      },
      "source": [
        "model_list = build_model_list(num_models)\n",
        "saved_model = build_ensamble_model(model_list)\n",
        "saved_model.load_weights(model_weights_file_path)"
      ],
      "execution_count": null,
      "outputs": [
        {
          "output_type": "stream",
          "name": "stdout",
          "text": [
            "All Models Defined\n"
          ]
        }
      ]
    },
    {
      "cell_type": "code",
      "metadata": {
        "id": "4EVZa_QyB1ry"
      },
      "source": [
        "def evaluate_model(tmp_model, tmp_X_dataset, tmp_y_dataset):\n",
        "  X = []\n",
        "  for channle in range(len(model.input)):\n",
        "    X.append(tmp_X_dataset[:, channle].reshape(-1,1,tmp_X_dataset.shape[2]))\n",
        "  return tmp_model.evaluate(X, tmp_y_dataset, verbose=1)"
      ],
      "execution_count": null,
      "outputs": []
    },
    {
      "cell_type": "code",
      "metadata": {
        "pycharm": {
          "name": "#%%\n"
        },
        "colab": {
          "base_uri": "https://localhost:8080/"
        },
        "id": "wGU560kixsLS",
        "outputId": "62542fd1-aea9-4784-e8b6-2127bc87967b"
      },
      "source": [
        "with tf.device('/device:GPU:0'):\n",
        "  evaluate_model(saved_model, X_train, y_train)"
      ],
      "execution_count": null,
      "outputs": [
        {
          "output_type": "stream",
          "name": "stdout",
          "text": [
            "4799/4799 [==============================] - 131s 15ms/step - loss: 0.1890 - accuracy: 0.9365\n"
          ]
        }
      ]
    },
    {
      "cell_type": "code",
      "metadata": {
        "pycharm": {
          "name": "#%%\n"
        },
        "id": "XaSBnAAVxsLS",
        "colab": {
          "base_uri": "https://localhost:8080/"
        },
        "outputId": "5ac0a49e-d780-4b1e-d33c-b56365accdb6"
      },
      "source": [
        "with tf.device('/device:GPU:0'):\n",
        "  evaluate_model(saved_model, X_test, y_test)"
      ],
      "execution_count": null,
      "outputs": [
        {
          "output_type": "stream",
          "name": "stdout",
          "text": [
            "1200/1200 [==============================] - 18s 15ms/step - loss: 0.2364 - accuracy: 0.9238\n"
          ]
        }
      ]
    },
    {
      "cell_type": "code",
      "metadata": {
        "pycharm": {
          "name": "#%%\n"
        },
        "id": "_h1EcWfPxsLT"
      },
      "source": [
        "y_hat = None\n",
        "with tf.device('/device:GPU:0'):\n",
        "  y_hat = predict_model(saved_model, X_test)"
      ],
      "execution_count": null,
      "outputs": []
    },
    {
      "cell_type": "code",
      "metadata": {
        "pycharm": {
          "name": "#%%\n"
        },
        "id": "tVIDifMkxsLT"
      },
      "source": [
        "from sklearn.metrics import classification_report\n",
        "\n",
        "def get_classification_report(y_true, y_hat):\n",
        "    print(classification_report(y_true, y_hat))"
      ],
      "execution_count": null,
      "outputs": []
    },
    {
      "cell_type": "code",
      "metadata": {
        "pycharm": {
          "name": "#%%\n"
        },
        "id": "BhmRcUBUxsLT"
      },
      "source": [
        "y_hat = np.argmax(y_hat, axis=1)\n",
        "y_hat"
      ],
      "execution_count": null,
      "outputs": []
    },
    {
      "cell_type": "code",
      "metadata": {
        "id": "WHO5OfnoGpae"
      },
      "source": [
        "y_test = np.argmax(y_test, axis=1)"
      ],
      "execution_count": null,
      "outputs": []
    },
    {
      "cell_type": "code",
      "metadata": {
        "colab": {
          "base_uri": "https://localhost:8080/"
        },
        "id": "lsirqbg7D1M4",
        "outputId": "7b900f0e-578b-4183-ef51-e25642231ba3"
      },
      "source": [
        "get_classification_report(y_test, y_hat)"
      ],
      "execution_count": null,
      "outputs": [
        {
          "output_type": "stream",
          "name": "stdout",
          "text": [
            "              precision    recall  f1-score   support\n",
            "\n",
            "           0       0.99      0.98      0.99      1904\n",
            "           1       0.96      0.94      0.95      1911\n",
            "           2       0.98      0.97      0.98      1949\n",
            "           3       0.94      0.94      0.94      1949\n",
            "           4       0.95      0.95      0.95      1949\n",
            "           5       0.99      0.98      0.98      1881\n",
            "           6       0.96      0.98      0.97      1876\n",
            "           7       0.99      0.98      0.99      1884\n",
            "           8       0.96      0.96      0.96      1915\n",
            "           9       0.97      0.97      0.97      1907\n",
            "          10       0.95      0.93      0.94      1915\n",
            "          11       1.00      1.00      1.00      1949\n",
            "          12       0.78      0.86      0.82      1871\n",
            "          13       0.99      0.99      0.99      1900\n",
            "          14       0.99      1.00      0.99      1949\n",
            "          15       0.96      0.98      0.97      1942\n",
            "          16       0.72      0.52      0.60      1949\n",
            "          17       0.62      0.87      0.72      1894\n",
            "          18       0.99      0.99      0.99      1949\n",
            "          19       0.87      0.69      0.77      1949\n",
            "\n",
            "    accuracy                           0.92     38392\n",
            "   macro avg       0.93      0.92      0.92     38392\n",
            "weighted avg       0.93      0.92      0.92     38392\n",
            "\n"
          ]
        }
      ]
    },
    {
      "cell_type": "code",
      "metadata": {
        "id": "bxvWjFp0D592"
      },
      "source": [
        "def get_label_str(y_numeric):\n",
        "  res = []\n",
        "  for y in y_hat:\n",
        "    res.append(label_encoder.classes_[y])\n",
        "  return res"
      ],
      "execution_count": null,
      "outputs": []
    },
    {
      "cell_type": "code",
      "metadata": {
        "id": "mhg4MoaPHCLJ"
      },
      "source": [
        "y_hat = get_label_str(y_hat)"
      ],
      "execution_count": null,
      "outputs": []
    },
    {
      "cell_type": "code",
      "metadata": {
        "colab": {
          "base_uri": "https://localhost:8080/"
        },
        "id": "oPXKnCpKHE7P",
        "outputId": "34a033bb-7bfe-4564-ba3c-ce5ce0aab6b4"
      },
      "source": [
        "y_hat"
      ],
      "execution_count": null,
      "outputs": [
        {
          "output_type": "execute_result",
          "data": {
            "text/plain": [
              "['Aggressive_Frontkicking',\n",
              " 'Normal_Bowing',\n",
              " 'Aggressive_Headering',\n",
              " 'Normal_Handshaking',\n",
              " 'Normal_Running',\n",
              " 'Normal_Handshaking',\n",
              " 'Aggressive_Kneeing',\n",
              " 'Aggressive_Sidekicking',\n",
              " 'Aggressive_Elbowing',\n",
              " 'Aggressive_Kneeing',\n",
              " 'Normal_Seating',\n",
              " 'Normal_Standing',\n",
              " 'Aggressive_Frontkicking',\n",
              " 'Normal_Waving',\n",
              " 'Aggressive_Frontkicking',\n",
              " 'Normal_Hugging',\n",
              " 'Normal_Clapping',\n",
              " 'Normal_Running',\n",
              " 'Aggressive_Sidekicking',\n",
              " 'Aggressive_Elbowing',\n",
              " 'Aggressive_Elbowing',\n",
              " 'Aggressive_Frontkicking',\n",
              " 'Normal_Seating',\n",
              " 'Aggressive_Hamering',\n",
              " 'Normal_Jumping',\n",
              " 'Normal_Handshaking',\n",
              " 'Aggressive_Punching',\n",
              " 'Normal_Waving',\n",
              " 'Normal_Standing',\n",
              " 'Aggressive_Kneeing',\n",
              " 'Aggressive_Elbowing',\n",
              " 'Aggressive_Frontkicking',\n",
              " 'Normal_Seating',\n",
              " 'Aggressive_Pulling',\n",
              " 'Normal_Running',\n",
              " 'Normal_Walking',\n",
              " 'Aggressive_Frontkicking',\n",
              " 'Aggressive_Pulling',\n",
              " 'Normal_Bowing',\n",
              " 'Normal_Handshaking',\n",
              " 'Aggressive_Elbowing',\n",
              " 'Normal_Running',\n",
              " 'Aggressive_Slapping',\n",
              " 'Normal_Running',\n",
              " 'Aggressive_Frontkicking',\n",
              " 'Aggressive_Headering',\n",
              " 'Normal_Clapping',\n",
              " 'Normal_Bowing',\n",
              " 'Normal_Hugging',\n",
              " 'Aggressive_Kneeing',\n",
              " 'Normal_Jumping',\n",
              " 'Aggressive_Pulling',\n",
              " 'Normal_Bowing',\n",
              " 'Normal_Handshaking',\n",
              " 'Normal_Handshaking',\n",
              " 'Aggressive_Pushing',\n",
              " 'Normal_Jumping',\n",
              " 'Normal_Standing',\n",
              " 'Aggressive_Pushing',\n",
              " 'Normal_Standing',\n",
              " 'Aggressive_Sidekicking',\n",
              " 'Aggressive_Sidekicking',\n",
              " 'Aggressive_Headering',\n",
              " 'Aggressive_Punching',\n",
              " 'Normal_Running',\n",
              " 'Normal_Handshaking',\n",
              " 'Normal_Seating',\n",
              " 'Aggressive_Pushing',\n",
              " 'Normal_Jumping',\n",
              " 'Aggressive_Pulling',\n",
              " 'Aggressive_Sidekicking',\n",
              " 'Normal_Running',\n",
              " 'Aggressive_Headering',\n",
              " 'Normal_Bowing',\n",
              " 'Normal_Clapping',\n",
              " 'Normal_Waving',\n",
              " 'Normal_Jumping',\n",
              " 'Normal_Walking',\n",
              " 'Normal_Waving',\n",
              " 'Aggressive_Elbowing',\n",
              " 'Aggressive_Headering',\n",
              " 'Normal_Bowing',\n",
              " 'Normal_Walking',\n",
              " 'Aggressive_Punching',\n",
              " 'Normal_Walking',\n",
              " 'Normal_Hugging',\n",
              " 'Aggressive_Headering',\n",
              " 'Normal_Handshaking',\n",
              " 'Normal_Running',\n",
              " 'Normal_Running',\n",
              " 'Normal_Hugging',\n",
              " 'Aggressive_Kneeing',\n",
              " 'Normal_Walking',\n",
              " 'Aggressive_Pulling',\n",
              " 'Normal_Bowing',\n",
              " 'Aggressive_Sidekicking',\n",
              " 'Aggressive_Slapping',\n",
              " 'Aggressive_Headering',\n",
              " 'Aggressive_Punching',\n",
              " 'Normal_Walking',\n",
              " 'Aggressive_Elbowing',\n",
              " 'Aggressive_Kneeing',\n",
              " 'Aggressive_Hamering',\n",
              " 'Normal_Waving',\n",
              " 'Normal_Jumping',\n",
              " 'Aggressive_Kneeing',\n",
              " 'Aggressive_Slapping',\n",
              " 'Normal_Clapping',\n",
              " 'Normal_Standing',\n",
              " 'Normal_Jumping',\n",
              " 'Normal_Jumping',\n",
              " 'Normal_Jumping',\n",
              " 'Aggressive_Pushing',\n",
              " 'Normal_Running',\n",
              " 'Aggressive_Headering',\n",
              " 'Normal_Bowing',\n",
              " 'Normal_Waving',\n",
              " 'Normal_Hugging',\n",
              " 'Normal_Waving',\n",
              " 'Normal_Walking',\n",
              " 'Normal_Running',\n",
              " 'Normal_Clapping',\n",
              " 'Normal_Clapping',\n",
              " 'Aggressive_Hamering',\n",
              " 'Normal_Waving',\n",
              " 'Normal_Standing',\n",
              " 'Normal_Standing',\n",
              " 'Aggressive_Elbowing',\n",
              " 'Normal_Walking',\n",
              " 'Normal_Bowing',\n",
              " 'Normal_Hugging',\n",
              " 'Aggressive_Hamering',\n",
              " 'Normal_Walking',\n",
              " 'Aggressive_Headering',\n",
              " 'Aggressive_Kneeing',\n",
              " 'Aggressive_Hamering',\n",
              " 'Normal_Waving',\n",
              " 'Aggressive_Headering',\n",
              " 'Aggressive_Elbowing',\n",
              " 'Aggressive_Slapping',\n",
              " 'Normal_Clapping',\n",
              " 'Normal_Handshaking',\n",
              " 'Aggressive_Pulling',\n",
              " 'Aggressive_Frontkicking',\n",
              " 'Aggressive_Sidekicking',\n",
              " 'Aggressive_Pushing',\n",
              " 'Aggressive_Punching',\n",
              " 'Normal_Waving',\n",
              " 'Normal_Handshaking',\n",
              " 'Normal_Handshaking',\n",
              " 'Aggressive_Pushing',\n",
              " 'Aggressive_Headering',\n",
              " 'Aggressive_Elbowing',\n",
              " 'Normal_Bowing',\n",
              " 'Aggressive_Pushing',\n",
              " 'Normal_Walking',\n",
              " 'Aggressive_Headering',\n",
              " 'Aggressive_Pulling',\n",
              " 'Normal_Bowing',\n",
              " 'Normal_Handshaking',\n",
              " 'Normal_Walking',\n",
              " 'Normal_Seating',\n",
              " 'Normal_Hugging',\n",
              " 'Normal_Jumping',\n",
              " 'Normal_Running',\n",
              " 'Aggressive_Slapping',\n",
              " 'Aggressive_Pushing',\n",
              " 'Normal_Standing',\n",
              " 'Normal_Standing',\n",
              " 'Normal_Jumping',\n",
              " 'Aggressive_Kneeing',\n",
              " 'Normal_Bowing',\n",
              " 'Normal_Running',\n",
              " 'Aggressive_Headering',\n",
              " 'Normal_Jumping',\n",
              " 'Normal_Clapping',\n",
              " 'Normal_Jumping',\n",
              " 'Aggressive_Pushing',\n",
              " 'Normal_Handshaking',\n",
              " 'Normal_Running',\n",
              " 'Aggressive_Punching',\n",
              " 'Aggressive_Slapping',\n",
              " 'Aggressive_Elbowing',\n",
              " 'Aggressive_Hamering',\n",
              " 'Aggressive_Pulling',\n",
              " 'Aggressive_Sidekicking',\n",
              " 'Aggressive_Elbowing',\n",
              " 'Normal_Clapping',\n",
              " 'Aggressive_Pushing',\n",
              " 'Normal_Standing',\n",
              " 'Normal_Waving',\n",
              " 'Aggressive_Frontkicking',\n",
              " 'Aggressive_Sidekicking',\n",
              " 'Normal_Hugging',\n",
              " 'Normal_Standing',\n",
              " 'Aggressive_Sidekicking',\n",
              " 'Normal_Hugging',\n",
              " 'Normal_Waving',\n",
              " 'Aggressive_Elbowing',\n",
              " 'Aggressive_Frontkicking',\n",
              " 'Aggressive_Punching',\n",
              " 'Aggressive_Sidekicking',\n",
              " 'Normal_Standing',\n",
              " 'Aggressive_Frontkicking',\n",
              " 'Aggressive_Slapping',\n",
              " 'Aggressive_Frontkicking',\n",
              " 'Normal_Seating',\n",
              " 'Normal_Running',\n",
              " 'Normal_Standing',\n",
              " 'Normal_Waving',\n",
              " 'Aggressive_Hamering',\n",
              " 'Normal_Standing',\n",
              " 'Normal_Running',\n",
              " 'Aggressive_Sidekicking',\n",
              " 'Normal_Running',\n",
              " 'Aggressive_Punching',\n",
              " 'Normal_Handshaking',\n",
              " 'Aggressive_Hamering',\n",
              " 'Aggressive_Headering',\n",
              " 'Normal_Waving',\n",
              " 'Normal_Waving',\n",
              " 'Aggressive_Elbowing',\n",
              " 'Aggressive_Kneeing',\n",
              " 'Normal_Walking',\n",
              " 'Normal_Handshaking',\n",
              " 'Aggressive_Headering',\n",
              " 'Aggressive_Punching',\n",
              " 'Aggressive_Frontkicking',\n",
              " 'Aggressive_Punching',\n",
              " 'Aggressive_Hamering',\n",
              " 'Normal_Clapping',\n",
              " 'Aggressive_Headering',\n",
              " 'Normal_Running',\n",
              " 'Normal_Bowing',\n",
              " 'Normal_Running',\n",
              " 'Aggressive_Slapping',\n",
              " 'Aggressive_Sidekicking',\n",
              " 'Aggressive_Sidekicking',\n",
              " 'Normal_Clapping',\n",
              " 'Normal_Bowing',\n",
              " 'Aggressive_Elbowing',\n",
              " 'Normal_Bowing',\n",
              " 'Normal_Clapping',\n",
              " 'Aggressive_Hamering',\n",
              " 'Aggressive_Pushing',\n",
              " 'Normal_Jumping',\n",
              " 'Normal_Bowing',\n",
              " 'Aggressive_Elbowing',\n",
              " 'Aggressive_Headering',\n",
              " 'Normal_Clapping',\n",
              " 'Aggressive_Hamering',\n",
              " 'Normal_Handshaking',\n",
              " 'Aggressive_Slapping',\n",
              " 'Normal_Jumping',\n",
              " 'Normal_Handshaking',\n",
              " 'Aggressive_Kneeing',\n",
              " 'Normal_Walking',\n",
              " 'Normal_Seating',\n",
              " 'Normal_Running',\n",
              " 'Aggressive_Kneeing',\n",
              " 'Aggressive_Elbowing',\n",
              " 'Aggressive_Pushing',\n",
              " 'Aggressive_Kneeing',\n",
              " 'Aggressive_Hamering',\n",
              " 'Aggressive_Pushing',\n",
              " 'Normal_Bowing',\n",
              " 'Aggressive_Hamering',\n",
              " 'Normal_Waving',\n",
              " 'Aggressive_Sidekicking',\n",
              " 'Aggressive_Kneeing',\n",
              " 'Normal_Jumping',\n",
              " 'Aggressive_Slapping',\n",
              " 'Aggressive_Headering',\n",
              " 'Normal_Clapping',\n",
              " 'Normal_Bowing',\n",
              " 'Normal_Seating',\n",
              " 'Aggressive_Kneeing',\n",
              " 'Aggressive_Headering',\n",
              " 'Normal_Waving',\n",
              " 'Normal_Standing',\n",
              " 'Aggressive_Headering',\n",
              " 'Aggressive_Elbowing',\n",
              " 'Aggressive_Punching',\n",
              " 'Normal_Waving',\n",
              " 'Normal_Waving',\n",
              " 'Aggressive_Sidekicking',\n",
              " 'Normal_Clapping',\n",
              " 'Normal_Hugging',\n",
              " 'Aggressive_Sidekicking',\n",
              " 'Normal_Clapping',\n",
              " 'Aggressive_Frontkicking',\n",
              " 'Aggressive_Pulling',\n",
              " 'Aggressive_Slapping',\n",
              " 'Aggressive_Elbowing',\n",
              " 'Aggressive_Slapping',\n",
              " 'Normal_Seating',\n",
              " 'Aggressive_Headering',\n",
              " 'Aggressive_Elbowing',\n",
              " 'Aggressive_Slapping',\n",
              " 'Normal_Bowing',\n",
              " 'Normal_Seating',\n",
              " 'Normal_Hugging',\n",
              " 'Aggressive_Pushing',\n",
              " 'Aggressive_Pulling',\n",
              " 'Aggressive_Punching',\n",
              " 'Normal_Clapping',\n",
              " 'Aggressive_Sidekicking',\n",
              " 'Normal_Hugging',\n",
              " 'Normal_Standing',\n",
              " 'Aggressive_Sidekicking',\n",
              " 'Aggressive_Pushing',\n",
              " 'Normal_Bowing',\n",
              " 'Aggressive_Frontkicking',\n",
              " 'Normal_Running',\n",
              " 'Normal_Standing',\n",
              " 'Aggressive_Headering',\n",
              " 'Normal_Bowing',\n",
              " 'Normal_Standing',\n",
              " 'Normal_Standing',\n",
              " 'Aggressive_Elbowing',\n",
              " 'Aggressive_Headering',\n",
              " 'Normal_Jumping',\n",
              " 'Normal_Jumping',\n",
              " 'Aggressive_Slapping',\n",
              " 'Aggressive_Punching',\n",
              " 'Normal_Standing',\n",
              " 'Aggressive_Sidekicking',\n",
              " 'Aggressive_Hamering',\n",
              " 'Aggressive_Hamering',\n",
              " 'Aggressive_Elbowing',\n",
              " 'Normal_Running',\n",
              " 'Normal_Hugging',\n",
              " 'Aggressive_Pulling',\n",
              " 'Aggressive_Pulling',\n",
              " 'Normal_Jumping',\n",
              " 'Normal_Handshaking',\n",
              " 'Normal_Handshaking',\n",
              " 'Aggressive_Punching',\n",
              " 'Normal_Waving',\n",
              " 'Normal_Hugging',\n",
              " 'Aggressive_Pushing',\n",
              " 'Aggressive_Punching',\n",
              " 'Normal_Standing',\n",
              " 'Aggressive_Sidekicking',\n",
              " 'Normal_Bowing',\n",
              " 'Normal_Waving',\n",
              " 'Normal_Bowing',\n",
              " 'Normal_Standing',\n",
              " 'Normal_Walking',\n",
              " 'Normal_Seating',\n",
              " 'Normal_Walking',\n",
              " 'Normal_Hugging',\n",
              " 'Aggressive_Punching',\n",
              " 'Aggressive_Hamering',\n",
              " 'Aggressive_Headering',\n",
              " 'Normal_Jumping',\n",
              " 'Aggressive_Kneeing',\n",
              " 'Aggressive_Hamering',\n",
              " 'Aggressive_Slapping',\n",
              " 'Aggressive_Hamering',\n",
              " 'Aggressive_Kneeing',\n",
              " 'Aggressive_Pushing',\n",
              " 'Normal_Standing',\n",
              " 'Aggressive_Headering',\n",
              " 'Aggressive_Hamering',\n",
              " 'Normal_Standing',\n",
              " 'Normal_Walking',\n",
              " 'Normal_Walking',\n",
              " 'Aggressive_Frontkicking',\n",
              " 'Normal_Bowing',\n",
              " 'Aggressive_Hamering',\n",
              " 'Aggressive_Elbowing',\n",
              " 'Aggressive_Pulling',\n",
              " 'Normal_Standing',\n",
              " 'Aggressive_Pulling',\n",
              " 'Normal_Jumping',\n",
              " 'Aggressive_Sidekicking',\n",
              " 'Normal_Clapping',\n",
              " 'Aggressive_Punching',\n",
              " 'Normal_Clapping',\n",
              " 'Normal_Clapping',\n",
              " 'Normal_Clapping',\n",
              " 'Aggressive_Pulling',\n",
              " 'Aggressive_Headering',\n",
              " 'Aggressive_Slapping',\n",
              " 'Aggressive_Punching',\n",
              " 'Normal_Handshaking',\n",
              " 'Normal_Running',\n",
              " 'Normal_Walking',\n",
              " 'Aggressive_Slapping',\n",
              " 'Aggressive_Kneeing',\n",
              " 'Normal_Clapping',\n",
              " 'Aggressive_Headering',\n",
              " 'Normal_Jumping',\n",
              " 'Aggressive_Punching',\n",
              " 'Normal_Jumping',\n",
              " 'Aggressive_Sidekicking',\n",
              " 'Normal_Handshaking',\n",
              " 'Aggressive_Sidekicking',\n",
              " 'Normal_Jumping',\n",
              " 'Normal_Clapping',\n",
              " 'Aggressive_Pushing',\n",
              " 'Aggressive_Elbowing',\n",
              " 'Normal_Hugging',\n",
              " 'Aggressive_Frontkicking',\n",
              " 'Normal_Walking',\n",
              " 'Aggressive_Sidekicking',\n",
              " 'Aggressive_Headering',\n",
              " 'Aggressive_Kneeing',\n",
              " 'Normal_Hugging',\n",
              " 'Aggressive_Headering',\n",
              " 'Normal_Bowing',\n",
              " 'Normal_Standing',\n",
              " 'Normal_Handshaking',\n",
              " 'Aggressive_Kneeing',\n",
              " 'Aggressive_Punching',\n",
              " 'Normal_Running',\n",
              " 'Aggressive_Punching',\n",
              " 'Normal_Hugging',\n",
              " 'Aggressive_Headering',\n",
              " 'Aggressive_Slapping',\n",
              " 'Aggressive_Kneeing',\n",
              " 'Aggressive_Elbowing',\n",
              " 'Aggressive_Sidekicking',\n",
              " 'Normal_Running',\n",
              " 'Aggressive_Kneeing',\n",
              " 'Normal_Clapping',\n",
              " 'Aggressive_Slapping',\n",
              " 'Aggressive_Pulling',\n",
              " 'Aggressive_Headering',\n",
              " 'Aggressive_Elbowing',\n",
              " 'Aggressive_Headering',\n",
              " 'Aggressive_Punching',\n",
              " 'Normal_Seating',\n",
              " 'Normal_Walking',\n",
              " 'Normal_Jumping',\n",
              " 'Normal_Seating',\n",
              " 'Normal_Hugging',\n",
              " 'Aggressive_Sidekicking',\n",
              " 'Aggressive_Hamering',\n",
              " 'Aggressive_Frontkicking',\n",
              " 'Aggressive_Headering',\n",
              " 'Normal_Waving',\n",
              " 'Normal_Seating',\n",
              " 'Aggressive_Sidekicking',\n",
              " 'Normal_Standing',\n",
              " 'Aggressive_Frontkicking',\n",
              " 'Normal_Walking',\n",
              " 'Aggressive_Kneeing',\n",
              " 'Aggressive_Kneeing',\n",
              " 'Aggressive_Headering',\n",
              " 'Normal_Standing',\n",
              " 'Normal_Walking',\n",
              " 'Aggressive_Hamering',\n",
              " 'Aggressive_Hamering',\n",
              " 'Normal_Hugging',\n",
              " 'Aggressive_Punching',\n",
              " 'Aggressive_Pushing',\n",
              " 'Aggressive_Headering',\n",
              " 'Aggressive_Kneeing',\n",
              " 'Aggressive_Kneeing',\n",
              " 'Aggressive_Elbowing',\n",
              " 'Normal_Clapping',\n",
              " 'Aggressive_Punching',\n",
              " 'Normal_Standing',\n",
              " 'Aggressive_Elbowing',\n",
              " 'Normal_Walking',\n",
              " 'Normal_Standing',\n",
              " 'Normal_Handshaking',\n",
              " 'Aggressive_Sidekicking',\n",
              " 'Normal_Jumping',\n",
              " 'Normal_Jumping',\n",
              " 'Normal_Standing',\n",
              " 'Aggressive_Pulling',\n",
              " 'Aggressive_Sidekicking',\n",
              " 'Aggressive_Kneeing',\n",
              " 'Aggressive_Hamering',\n",
              " 'Aggressive_Hamering',\n",
              " 'Aggressive_Sidekicking',\n",
              " 'Aggressive_Hamering',\n",
              " 'Aggressive_Slapping',\n",
              " 'Normal_Handshaking',\n",
              " 'Aggressive_Sidekicking',\n",
              " 'Normal_Running',\n",
              " 'Aggressive_Slapping',\n",
              " 'Aggressive_Punching',\n",
              " 'Aggressive_Headering',\n",
              " 'Normal_Jumping',\n",
              " 'Aggressive_Hamering',\n",
              " 'Aggressive_Slapping',\n",
              " 'Aggressive_Sidekicking',\n",
              " 'Normal_Handshaking',\n",
              " 'Normal_Seating',\n",
              " 'Normal_Handshaking',\n",
              " 'Aggressive_Frontkicking',\n",
              " 'Aggressive_Frontkicking',\n",
              " 'Aggressive_Elbowing',\n",
              " 'Aggressive_Elbowing',\n",
              " 'Aggressive_Sidekicking',\n",
              " 'Normal_Walking',\n",
              " 'Normal_Handshaking',\n",
              " 'Aggressive_Elbowing',\n",
              " 'Normal_Walking',\n",
              " 'Aggressive_Sidekicking',\n",
              " 'Aggressive_Headering',\n",
              " 'Normal_Jumping',\n",
              " 'Normal_Clapping',\n",
              " 'Normal_Clapping',\n",
              " 'Normal_Handshaking',\n",
              " 'Normal_Clapping',\n",
              " 'Aggressive_Hamering',\n",
              " 'Aggressive_Punching',\n",
              " 'Normal_Standing',\n",
              " 'Normal_Waving',\n",
              " 'Aggressive_Pushing',\n",
              " 'Aggressive_Hamering',\n",
              " 'Aggressive_Pulling',\n",
              " 'Normal_Standing',\n",
              " 'Normal_Walking',\n",
              " 'Normal_Hugging',\n",
              " 'Normal_Bowing',\n",
              " 'Normal_Standing',\n",
              " 'Normal_Handshaking',\n",
              " 'Normal_Running',\n",
              " 'Aggressive_Kneeing',\n",
              " 'Normal_Clapping',\n",
              " 'Aggressive_Frontkicking',\n",
              " 'Normal_Standing',\n",
              " 'Normal_Bowing',\n",
              " 'Aggressive_Punching',\n",
              " 'Aggressive_Kneeing',\n",
              " 'Aggressive_Punching',\n",
              " 'Aggressive_Pushing',\n",
              " 'Aggressive_Pulling',\n",
              " 'Aggressive_Elbowing',\n",
              " 'Aggressive_Pulling',\n",
              " 'Normal_Standing',\n",
              " 'Aggressive_Punching',\n",
              " 'Aggressive_Headering',\n",
              " 'Normal_Running',\n",
              " 'Aggressive_Frontkicking',\n",
              " 'Aggressive_Hamering',\n",
              " 'Aggressive_Hamering',\n",
              " 'Aggressive_Hamering',\n",
              " 'Aggressive_Pulling',\n",
              " 'Normal_Waving',\n",
              " 'Aggressive_Slapping',\n",
              " 'Aggressive_Slapping',\n",
              " 'Normal_Walking',\n",
              " 'Aggressive_Punching',\n",
              " 'Aggressive_Punching',\n",
              " 'Normal_Hugging',\n",
              " 'Aggressive_Pushing',\n",
              " 'Aggressive_Punching',\n",
              " 'Normal_Jumping',\n",
              " 'Normal_Jumping',\n",
              " 'Aggressive_Headering',\n",
              " 'Normal_Hugging',\n",
              " 'Aggressive_Sidekicking',\n",
              " 'Normal_Handshaking',\n",
              " 'Normal_Bowing',\n",
              " 'Aggressive_Pulling',\n",
              " 'Normal_Jumping',\n",
              " 'Aggressive_Hamering',\n",
              " 'Normal_Jumping',\n",
              " 'Normal_Bowing',\n",
              " 'Normal_Walking',\n",
              " 'Normal_Running',\n",
              " 'Aggressive_Punching',\n",
              " 'Normal_Handshaking',\n",
              " 'Normal_Clapping',\n",
              " 'Aggressive_Punching',\n",
              " 'Aggressive_Headering',\n",
              " 'Aggressive_Elbowing',\n",
              " 'Aggressive_Punching',\n",
              " 'Normal_Waving',\n",
              " 'Normal_Clapping',\n",
              " 'Aggressive_Kneeing',\n",
              " 'Aggressive_Elbowing',\n",
              " 'Aggressive_Punching',\n",
              " 'Aggressive_Frontkicking',\n",
              " 'Aggressive_Slapping',\n",
              " 'Aggressive_Elbowing',\n",
              " 'Normal_Handshaking',\n",
              " 'Aggressive_Elbowing',\n",
              " 'Aggressive_Slapping',\n",
              " 'Aggressive_Slapping',\n",
              " 'Normal_Handshaking',\n",
              " 'Normal_Running',\n",
              " 'Normal_Handshaking',\n",
              " 'Normal_Standing',\n",
              " 'Aggressive_Frontkicking',\n",
              " 'Normal_Hugging',\n",
              " 'Normal_Standing',\n",
              " 'Normal_Hugging',\n",
              " 'Normal_Standing',\n",
              " 'Aggressive_Sidekicking',\n",
              " 'Aggressive_Frontkicking',\n",
              " 'Normal_Hugging',\n",
              " 'Aggressive_Pushing',\n",
              " 'Aggressive_Elbowing',\n",
              " 'Normal_Running',\n",
              " 'Normal_Standing',\n",
              " 'Aggressive_Headering',\n",
              " 'Normal_Running',\n",
              " 'Aggressive_Kneeing',\n",
              " 'Normal_Jumping',\n",
              " 'Normal_Bowing',\n",
              " 'Aggressive_Headering',\n",
              " 'Aggressive_Headering',\n",
              " 'Normal_Walking',\n",
              " 'Normal_Walking',\n",
              " 'Aggressive_Sidekicking',\n",
              " 'Normal_Bowing',\n",
              " 'Normal_Clapping',\n",
              " 'Normal_Running',\n",
              " 'Normal_Standing',\n",
              " 'Normal_Running',\n",
              " 'Aggressive_Elbowing',\n",
              " 'Normal_Handshaking',\n",
              " 'Aggressive_Frontkicking',\n",
              " 'Normal_Walking',\n",
              " 'Normal_Bowing',\n",
              " 'Normal_Handshaking',\n",
              " 'Normal_Bowing',\n",
              " 'Normal_Handshaking',\n",
              " 'Normal_Handshaking',\n",
              " 'Normal_Running',\n",
              " 'Normal_Clapping',\n",
              " 'Aggressive_Hamering',\n",
              " 'Normal_Standing',\n",
              " 'Aggressive_Frontkicking',\n",
              " 'Aggressive_Kneeing',\n",
              " 'Aggressive_Elbowing',\n",
              " 'Aggressive_Hamering',\n",
              " 'Aggressive_Slapping',\n",
              " 'Aggressive_Pushing',\n",
              " 'Aggressive_Punching',\n",
              " 'Aggressive_Elbowing',\n",
              " 'Normal_Jumping',\n",
              " 'Normal_Walking',\n",
              " 'Aggressive_Elbowing',\n",
              " 'Normal_Hugging',\n",
              " 'Aggressive_Pushing',\n",
              " 'Normal_Walking',\n",
              " 'Normal_Running',\n",
              " 'Aggressive_Kneeing',\n",
              " 'Aggressive_Elbowing',\n",
              " 'Aggressive_Sidekicking',\n",
              " 'Aggressive_Slapping',\n",
              " 'Normal_Standing',\n",
              " 'Aggressive_Pushing',\n",
              " 'Aggressive_Pushing',\n",
              " 'Aggressive_Elbowing',\n",
              " 'Aggressive_Pulling',\n",
              " 'Normal_Handshaking',\n",
              " 'Normal_Clapping',\n",
              " 'Aggressive_Elbowing',\n",
              " 'Normal_Handshaking',\n",
              " 'Normal_Seating',\n",
              " 'Normal_Clapping',\n",
              " 'Aggressive_Punching',\n",
              " 'Normal_Hugging',\n",
              " 'Normal_Jumping',\n",
              " 'Aggressive_Headering',\n",
              " 'Normal_Jumping',\n",
              " 'Aggressive_Slapping',\n",
              " 'Aggressive_Headering',\n",
              " 'Normal_Walking',\n",
              " 'Normal_Bowing',\n",
              " 'Normal_Handshaking',\n",
              " 'Normal_Waving',\n",
              " 'Normal_Seating',\n",
              " 'Normal_Standing',\n",
              " 'Normal_Handshaking',\n",
              " 'Normal_Running',\n",
              " 'Normal_Seating',\n",
              " 'Aggressive_Sidekicking',\n",
              " 'Normal_Bowing',\n",
              " 'Normal_Waving',\n",
              " 'Aggressive_Elbowing',\n",
              " 'Normal_Seating',\n",
              " 'Normal_Seating',\n",
              " 'Aggressive_Pulling',\n",
              " 'Aggressive_Headering',\n",
              " 'Aggressive_Pushing',\n",
              " 'Normal_Clapping',\n",
              " 'Aggressive_Sidekicking',\n",
              " 'Aggressive_Kneeing',\n",
              " 'Normal_Hugging',\n",
              " 'Normal_Standing',\n",
              " 'Aggressive_Slapping',\n",
              " 'Aggressive_Hamering',\n",
              " 'Normal_Standing',\n",
              " 'Aggressive_Headering',\n",
              " 'Aggressive_Sidekicking',\n",
              " 'Aggressive_Pushing',\n",
              " 'Normal_Standing',\n",
              " 'Aggressive_Pulling',\n",
              " 'Aggressive_Slapping',\n",
              " 'Normal_Bowing',\n",
              " 'Aggressive_Slapping',\n",
              " 'Aggressive_Slapping',\n",
              " 'Aggressive_Headering',\n",
              " 'Aggressive_Slapping',\n",
              " 'Aggressive_Kneeing',\n",
              " 'Aggressive_Punching',\n",
              " 'Normal_Handshaking',\n",
              " 'Aggressive_Slapping',\n",
              " 'Aggressive_Headering',\n",
              " 'Aggressive_Hamering',\n",
              " 'Aggressive_Frontkicking',\n",
              " 'Normal_Waving',\n",
              " 'Normal_Running',\n",
              " 'Aggressive_Elbowing',\n",
              " 'Aggressive_Kneeing',\n",
              " 'Normal_Waving',\n",
              " 'Aggressive_Punching',\n",
              " 'Normal_Hugging',\n",
              " 'Aggressive_Kneeing',\n",
              " 'Normal_Handshaking',\n",
              " 'Normal_Hugging',\n",
              " 'Aggressive_Punching',\n",
              " 'Aggressive_Headering',\n",
              " 'Aggressive_Pushing',\n",
              " 'Normal_Standing',\n",
              " 'Aggressive_Kneeing',\n",
              " 'Aggressive_Punching',\n",
              " 'Normal_Waving',\n",
              " 'Normal_Standing',\n",
              " 'Aggressive_Hamering',\n",
              " 'Normal_Running',\n",
              " 'Aggressive_Pulling',\n",
              " 'Normal_Waving',\n",
              " 'Normal_Hugging',\n",
              " 'Aggressive_Frontkicking',\n",
              " 'Normal_Standing',\n",
              " 'Aggressive_Punching',\n",
              " 'Aggressive_Pulling',\n",
              " 'Normal_Bowing',\n",
              " 'Normal_Walking',\n",
              " 'Normal_Hugging',\n",
              " 'Normal_Bowing',\n",
              " 'Normal_Handshaking',\n",
              " 'Normal_Bowing',\n",
              " 'Normal_Clapping',\n",
              " 'Aggressive_Kneeing',\n",
              " 'Aggressive_Kneeing',\n",
              " 'Aggressive_Slapping',\n",
              " 'Aggressive_Elbowing',\n",
              " 'Aggressive_Elbowing',\n",
              " 'Normal_Running',\n",
              " 'Normal_Walking',\n",
              " 'Aggressive_Punching',\n",
              " 'Normal_Handshaking',\n",
              " 'Normal_Hugging',\n",
              " 'Aggressive_Punching',\n",
              " 'Normal_Standing',\n",
              " 'Aggressive_Frontkicking',\n",
              " 'Aggressive_Headering',\n",
              " 'Aggressive_Slapping',\n",
              " 'Normal_Walking',\n",
              " 'Aggressive_Kneeing',\n",
              " 'Aggressive_Frontkicking',\n",
              " 'Normal_Walking',\n",
              " 'Aggressive_Slapping',\n",
              " 'Normal_Walking',\n",
              " 'Normal_Clapping',\n",
              " 'Aggressive_Headering',\n",
              " 'Normal_Running',\n",
              " 'Aggressive_Kneeing',\n",
              " 'Aggressive_Sidekicking',\n",
              " 'Normal_Clapping',\n",
              " 'Aggressive_Hamering',\n",
              " 'Normal_Jumping',\n",
              " 'Aggressive_Sidekicking',\n",
              " 'Aggressive_Frontkicking',\n",
              " 'Aggressive_Slapping',\n",
              " 'Normal_Standing',\n",
              " 'Normal_Running',\n",
              " 'Aggressive_Sidekicking',\n",
              " 'Normal_Bowing',\n",
              " 'Aggressive_Kneeing',\n",
              " 'Aggressive_Pushing',\n",
              " 'Aggressive_Punching',\n",
              " 'Normal_Standing',\n",
              " 'Aggressive_Headering',\n",
              " 'Normal_Walking',\n",
              " 'Normal_Seating',\n",
              " 'Aggressive_Slapping',\n",
              " 'Aggressive_Hamering',\n",
              " 'Aggressive_Punching',\n",
              " 'Normal_Seating',\n",
              " 'Aggressive_Headering',\n",
              " 'Aggressive_Pulling',\n",
              " 'Normal_Running',\n",
              " 'Normal_Running',\n",
              " 'Aggressive_Punching',\n",
              " 'Normal_Handshaking',\n",
              " 'Normal_Standing',\n",
              " 'Aggressive_Pushing',\n",
              " 'Normal_Hugging',\n",
              " 'Aggressive_Pulling',\n",
              " 'Aggressive_Frontkicking',\n",
              " 'Normal_Seating',\n",
              " 'Aggressive_Elbowing',\n",
              " 'Aggressive_Elbowing',\n",
              " 'Aggressive_Pulling',\n",
              " 'Aggressive_Hamering',\n",
              " 'Normal_Standing',\n",
              " 'Aggressive_Punching',\n",
              " 'Aggressive_Elbowing',\n",
              " 'Normal_Handshaking',\n",
              " 'Aggressive_Headering',\n",
              " 'Aggressive_Hamering',\n",
              " 'Aggressive_Pushing',\n",
              " 'Normal_Standing',\n",
              " 'Normal_Standing',\n",
              " 'Aggressive_Frontkicking',\n",
              " 'Aggressive_Pulling',\n",
              " 'Aggressive_Elbowing',\n",
              " 'Normal_Standing',\n",
              " 'Aggressive_Headering',\n",
              " 'Normal_Bowing',\n",
              " 'Normal_Walking',\n",
              " 'Aggressive_Headering',\n",
              " 'Normal_Clapping',\n",
              " 'Aggressive_Elbowing',\n",
              " 'Normal_Running',\n",
              " 'Aggressive_Headering',\n",
              " 'Aggressive_Frontkicking',\n",
              " 'Aggressive_Headering',\n",
              " 'Aggressive_Slapping',\n",
              " 'Aggressive_Pulling',\n",
              " 'Normal_Bowing',\n",
              " 'Normal_Walking',\n",
              " 'Normal_Clapping',\n",
              " 'Aggressive_Pushing',\n",
              " 'Aggressive_Headering',\n",
              " 'Aggressive_Pushing',\n",
              " 'Normal_Jumping',\n",
              " 'Aggressive_Punching',\n",
              " 'Aggressive_Pushing',\n",
              " 'Normal_Handshaking',\n",
              " 'Normal_Waving',\n",
              " 'Aggressive_Headering',\n",
              " 'Normal_Handshaking',\n",
              " 'Aggressive_Frontkicking',\n",
              " 'Aggressive_Punching',\n",
              " 'Aggressive_Kneeing',\n",
              " 'Normal_Hugging',\n",
              " 'Normal_Seating',\n",
              " 'Normal_Jumping',\n",
              " 'Aggressive_Frontkicking',\n",
              " 'Normal_Standing',\n",
              " 'Normal_Clapping',\n",
              " 'Aggressive_Slapping',\n",
              " 'Aggressive_Headering',\n",
              " 'Aggressive_Sidekicking',\n",
              " 'Aggressive_Pulling',\n",
              " 'Aggressive_Punching',\n",
              " 'Aggressive_Punching',\n",
              " 'Aggressive_Frontkicking',\n",
              " 'Normal_Walking',\n",
              " 'Aggressive_Kneeing',\n",
              " 'Aggressive_Pushing',\n",
              " 'Normal_Running',\n",
              " 'Aggressive_Headering',\n",
              " 'Normal_Running',\n",
              " 'Aggressive_Hamering',\n",
              " 'Normal_Running',\n",
              " 'Normal_Waving',\n",
              " 'Normal_Bowing',\n",
              " 'Aggressive_Headering',\n",
              " 'Aggressive_Headering',\n",
              " 'Normal_Standing',\n",
              " 'Aggressive_Punching',\n",
              " 'Aggressive_Hamering',\n",
              " 'Aggressive_Pushing',\n",
              " 'Normal_Jumping',\n",
              " 'Normal_Hugging',\n",
              " 'Aggressive_Sidekicking',\n",
              " 'Aggressive_Sidekicking',\n",
              " 'Aggressive_Pulling',\n",
              " 'Aggressive_Headering',\n",
              " 'Normal_Clapping',\n",
              " 'Normal_Bowing',\n",
              " 'Aggressive_Punching',\n",
              " 'Aggressive_Headering',\n",
              " 'Normal_Bowing',\n",
              " 'Normal_Seating',\n",
              " 'Aggressive_Sidekicking',\n",
              " 'Aggressive_Elbowing',\n",
              " 'Aggressive_Hamering',\n",
              " 'Normal_Bowing',\n",
              " 'Aggressive_Pushing',\n",
              " 'Aggressive_Punching',\n",
              " 'Normal_Handshaking',\n",
              " 'Aggressive_Pushing',\n",
              " 'Aggressive_Punching',\n",
              " 'Normal_Waving',\n",
              " 'Aggressive_Frontkicking',\n",
              " 'Normal_Running',\n",
              " 'Aggressive_Pulling',\n",
              " 'Normal_Clapping',\n",
              " 'Normal_Waving',\n",
              " 'Aggressive_Punching',\n",
              " 'Normal_Bowing',\n",
              " 'Normal_Standing',\n",
              " 'Normal_Handshaking',\n",
              " 'Normal_Walking',\n",
              " 'Aggressive_Punching',\n",
              " 'Normal_Clapping',\n",
              " 'Aggressive_Pulling',\n",
              " 'Normal_Running',\n",
              " 'Aggressive_Punching',\n",
              " 'Normal_Seating',\n",
              " 'Aggressive_Headering',\n",
              " 'Aggressive_Frontkicking',\n",
              " 'Aggressive_Slapping',\n",
              " 'Aggressive_Punching',\n",
              " 'Normal_Handshaking',\n",
              " 'Aggressive_Slapping',\n",
              " 'Normal_Walking',\n",
              " 'Aggressive_Hamering',\n",
              " 'Aggressive_Frontkicking',\n",
              " 'Aggressive_Sidekicking',\n",
              " 'Normal_Hugging',\n",
              " 'Aggressive_Elbowing',\n",
              " 'Aggressive_Punching',\n",
              " 'Aggressive_Slapping',\n",
              " 'Normal_Seating',\n",
              " 'Aggressive_Sidekicking',\n",
              " 'Aggressive_Slapping',\n",
              " 'Aggressive_Hamering',\n",
              " 'Aggressive_Punching',\n",
              " 'Aggressive_Headering',\n",
              " 'Aggressive_Kneeing',\n",
              " 'Aggressive_Elbowing',\n",
              " 'Aggressive_Hamering',\n",
              " 'Aggressive_Slapping',\n",
              " 'Normal_Seating',\n",
              " 'Normal_Waving',\n",
              " 'Normal_Running',\n",
              " 'Aggressive_Headering',\n",
              " 'Aggressive_Punching',\n",
              " 'Normal_Running',\n",
              " 'Normal_Running',\n",
              " 'Normal_Hugging',\n",
              " 'Normal_Standing',\n",
              " 'Aggressive_Sidekicking',\n",
              " 'Normal_Clapping',\n",
              " 'Normal_Handshaking',\n",
              " 'Normal_Jumping',\n",
              " 'Aggressive_Pulling',\n",
              " 'Aggressive_Punching',\n",
              " 'Aggressive_Headering',\n",
              " 'Normal_Bowing',\n",
              " 'Aggressive_Slapping',\n",
              " 'Normal_Standing',\n",
              " 'Normal_Running',\n",
              " 'Aggressive_Headering',\n",
              " 'Aggressive_Hamering',\n",
              " 'Aggressive_Elbowing',\n",
              " 'Normal_Standing',\n",
              " 'Normal_Bowing',\n",
              " 'Normal_Clapping',\n",
              " 'Aggressive_Pulling',\n",
              " 'Aggressive_Pulling',\n",
              " 'Aggressive_Headering',\n",
              " 'Aggressive_Headering',\n",
              " 'Aggressive_Pulling',\n",
              " 'Normal_Jumping',\n",
              " 'Normal_Walking',\n",
              " 'Normal_Waving',\n",
              " 'Aggressive_Headering',\n",
              " 'Aggressive_Pulling',\n",
              " 'Aggressive_Sidekicking',\n",
              " 'Aggressive_Pulling',\n",
              " 'Aggressive_Headering',\n",
              " 'Normal_Standing',\n",
              " 'Normal_Walking',\n",
              " 'Aggressive_Slapping',\n",
              " 'Aggressive_Headering',\n",
              " 'Normal_Jumping',\n",
              " 'Aggressive_Sidekicking',\n",
              " 'Aggressive_Pulling',\n",
              " 'Normal_Jumping',\n",
              " 'Aggressive_Headering',\n",
              " 'Normal_Standing',\n",
              " 'Aggressive_Hamering',\n",
              " 'Normal_Standing',\n",
              " 'Aggressive_Elbowing',\n",
              " 'Aggressive_Frontkicking',\n",
              " 'Aggressive_Hamering',\n",
              " 'Normal_Running',\n",
              " 'Normal_Waving',\n",
              " 'Normal_Walking',\n",
              " 'Aggressive_Frontkicking',\n",
              " 'Aggressive_Hamering',\n",
              " ...]"
            ]
          },
          "metadata": {},
          "execution_count": 100
        }
      ]
    },
    {
      "cell_type": "code",
      "metadata": {
        "id": "cIlW6eZQHGNe"
      },
      "source": [
        ""
      ],
      "execution_count": null,
      "outputs": []
    },
    {
      "cell_type": "code",
      "metadata": {
        "id": "4l_YlEKLdrfI"
      },
      "source": [
        ""
      ],
      "execution_count": null,
      "outputs": []
    },
    {
      "cell_type": "code",
      "metadata": {
        "id": "rIaQBSvHdrhk"
      },
      "source": [
        ""
      ],
      "execution_count": null,
      "outputs": []
    },
    {
      "cell_type": "code",
      "metadata": {
        "id": "kQL0blTldrkx"
      },
      "source": [
        ""
      ],
      "execution_count": null,
      "outputs": []
    },
    {
      "cell_type": "code",
      "metadata": {
        "colab": {
          "base_uri": "https://localhost:8080/"
        },
        "id": "2i4VlX8pdroX",
        "outputId": "5295c019-81e5-424a-fd07-d3eb09b33309"
      },
      "source": [
        "! git clone https://github.com/kvoyager/GmdhPy.git"
      ],
      "execution_count": null,
      "outputs": [
        {
          "output_type": "stream",
          "name": "stdout",
          "text": [
            "fatal: destination path 'GmdhPy' already exists and is not an empty directory.\n"
          ]
        }
      ]
    },
    {
      "cell_type": "code",
      "metadata": {
        "id": "y7nW9YjkdsqX"
      },
      "source": [
        "os.chdir('GmdhPy')\n"
      ],
      "execution_count": null,
      "outputs": []
    },
    {
      "cell_type": "code",
      "metadata": {
        "colab": {
          "base_uri": "https://localhost:8080/"
        },
        "id": "q4ldCFy7dzLj",
        "outputId": "51b526d9-c31e-460d-fd6e-e90f97b93951"
      },
      "source": [
        "! python setup.py install"
      ],
      "execution_count": null,
      "outputs": [
        {
          "output_type": "stream",
          "name": "stdout",
          "text": [
            "/usr/local/lib/python3.7/dist-packages/setuptools/dist.py:700: UserWarning: Usage of dash-separated 'description-file' will not be supported in future versions. Please use the underscore name 'description_file' instead\n",
            "  % (opt, underscore_opt))\n",
            "running install\n",
            "running bdist_egg\n",
            "running egg_info\n",
            "writing GmdhPy.egg-info/PKG-INFO\n",
            "writing dependency_links to GmdhPy.egg-info/dependency_links.txt\n",
            "writing requirements to GmdhPy.egg-info/requires.txt\n",
            "writing top-level names to GmdhPy.egg-info/top_level.txt\n",
            "adding license file 'LICENSE.txt'\n",
            "writing manifest file 'GmdhPy.egg-info/SOURCES.txt'\n",
            "installing library code to build/bdist.linux-x86_64/egg\n",
            "running install_lib\n",
            "running build_py\n",
            "creating build/bdist.linux-x86_64/egg\n",
            "creating build/bdist.linux-x86_64/egg/gmdhpy\n",
            "copying build/lib/gmdhpy/neuron.py -> build/bdist.linux-x86_64/egg/gmdhpy\n",
            "copying build/lib/gmdhpy/data_preprocessing.py -> build/bdist.linux-x86_64/egg/gmdhpy\n",
            "copying build/lib/gmdhpy/gmdh.py -> build/bdist.linux-x86_64/egg/gmdhpy\n",
            "copying build/lib/gmdhpy/plot_model.py -> build/bdist.linux-x86_64/egg/gmdhpy\n",
            "copying build/lib/gmdhpy/__init__.py -> build/bdist.linux-x86_64/egg/gmdhpy\n",
            "creating build/bdist.linux-x86_64/egg/tests\n",
            "copying build/lib/tests/test_model.py -> build/bdist.linux-x86_64/egg/tests\n",
            "copying build/lib/tests/test_neuron.py -> build/bdist.linux-x86_64/egg/tests\n",
            "copying build/lib/tests/__init__.py -> build/bdist.linux-x86_64/egg/tests\n",
            "byte-compiling build/bdist.linux-x86_64/egg/gmdhpy/neuron.py to neuron.cpython-37.pyc\n",
            "byte-compiling build/bdist.linux-x86_64/egg/gmdhpy/data_preprocessing.py to data_preprocessing.cpython-37.pyc\n",
            "byte-compiling build/bdist.linux-x86_64/egg/gmdhpy/gmdh.py to gmdh.cpython-37.pyc\n",
            "byte-compiling build/bdist.linux-x86_64/egg/gmdhpy/plot_model.py to plot_model.cpython-37.pyc\n",
            "byte-compiling build/bdist.linux-x86_64/egg/gmdhpy/__init__.py to __init__.cpython-37.pyc\n",
            "byte-compiling build/bdist.linux-x86_64/egg/tests/test_model.py to test_model.cpython-37.pyc\n",
            "byte-compiling build/bdist.linux-x86_64/egg/tests/test_neuron.py to test_neuron.cpython-37.pyc\n",
            "byte-compiling build/bdist.linux-x86_64/egg/tests/__init__.py to __init__.cpython-37.pyc\n",
            "creating build/bdist.linux-x86_64/egg/EGG-INFO\n",
            "copying GmdhPy.egg-info/PKG-INFO -> build/bdist.linux-x86_64/egg/EGG-INFO\n",
            "copying GmdhPy.egg-info/SOURCES.txt -> build/bdist.linux-x86_64/egg/EGG-INFO\n",
            "copying GmdhPy.egg-info/dependency_links.txt -> build/bdist.linux-x86_64/egg/EGG-INFO\n",
            "copying GmdhPy.egg-info/requires.txt -> build/bdist.linux-x86_64/egg/EGG-INFO\n",
            "copying GmdhPy.egg-info/top_level.txt -> build/bdist.linux-x86_64/egg/EGG-INFO\n",
            "zip_safe flag not set; analyzing archive contents...\n",
            "creating 'dist/GmdhPy-2.0-py3.7.egg' and adding 'build/bdist.linux-x86_64/egg' to it\n",
            "removing 'build/bdist.linux-x86_64/egg' (and everything under it)\n",
            "Processing GmdhPy-2.0-py3.7.egg\n",
            "Removing /usr/local/lib/python3.7/dist-packages/GmdhPy-2.0-py3.7.egg\n",
            "Copying GmdhPy-2.0-py3.7.egg to /usr/local/lib/python3.7/dist-packages\n",
            "GmdhPy 2.0 is already the active version in easy-install.pth\n",
            "\n",
            "Installed /usr/local/lib/python3.7/dist-packages/GmdhPy-2.0-py3.7.egg\n",
            "Processing dependencies for GmdhPy==2.0\n",
            "Searching for pandas==1.1.5\n",
            "Best match: pandas 1.1.5\n",
            "Adding pandas 1.1.5 to easy-install.pth file\n",
            "\n",
            "Using /usr/local/lib/python3.7/dist-packages\n",
            "Searching for scikit-learn==1.0.1\n",
            "Best match: scikit-learn 1.0.1\n",
            "Adding scikit-learn 1.0.1 to easy-install.pth file\n",
            "\n",
            "Using /usr/local/lib/python3.7/dist-packages\n",
            "Searching for six==1.15.0\n",
            "Best match: six 1.15.0\n",
            "Adding six 1.15.0 to easy-install.pth file\n",
            "\n",
            "Using /usr/local/lib/python3.7/dist-packages\n",
            "Searching for numpy==1.19.5\n",
            "Best match: numpy 1.19.5\n",
            "Adding numpy 1.19.5 to easy-install.pth file\n",
            "Installing f2py script to /usr/local/bin\n",
            "Installing f2py3 script to /usr/local/bin\n",
            "Installing f2py3.7 script to /usr/local/bin\n",
            "\n",
            "Using /usr/local/lib/python3.7/dist-packages\n",
            "Searching for pytz==2018.9\n",
            "Best match: pytz 2018.9\n",
            "Adding pytz 2018.9 to easy-install.pth file\n",
            "\n",
            "Using /usr/local/lib/python3.7/dist-packages\n",
            "Searching for python-dateutil==2.8.2\n",
            "Best match: python-dateutil 2.8.2\n",
            "Adding python-dateutil 2.8.2 to easy-install.pth file\n",
            "\n",
            "Using /usr/local/lib/python3.7/dist-packages\n",
            "Searching for threadpoolctl==3.0.0\n",
            "Best match: threadpoolctl 3.0.0\n",
            "Adding threadpoolctl 3.0.0 to easy-install.pth file\n",
            "\n",
            "Using /usr/local/lib/python3.7/dist-packages\n",
            "Searching for scipy==1.4.1\n",
            "Best match: scipy 1.4.1\n",
            "Adding scipy 1.4.1 to easy-install.pth file\n",
            "\n",
            "Using /usr/local/lib/python3.7/dist-packages\n",
            "Searching for joblib==1.1.0\n",
            "Best match: joblib 1.1.0\n",
            "Adding joblib 1.1.0 to easy-install.pth file\n",
            "\n",
            "Using /usr/local/lib/python3.7/dist-packages\n",
            "Finished processing dependencies for GmdhPy==2.0\n"
          ]
        }
      ]
    },
    {
      "cell_type": "code",
      "metadata": {
        "colab": {
          "base_uri": "https://localhost:8080/"
        },
        "id": "GW1lkmSMd8n_",
        "outputId": "56bdfe5a-75a4-487d-d446-16aabc1bb97c"
      },
      "source": [
        "! ls /content/GmdhPy/"
      ],
      "execution_count": null,
      "outputs": [
        {
          "output_type": "stream",
          "name": "stdout",
          "text": [
            "build  examples  GmdhPy.egg-info  LICENSE.txt  README.md  setup.py\n",
            "dist   gmdhpy\t __init__.py\t  __pycache__  setup.cfg  tests\n"
          ]
        }
      ]
    },
    {
      "cell_type": "code",
      "metadata": {
        "id": "Ge-1rBgvd-a9"
      },
      "source": [
        ""
      ],
      "execution_count": null,
      "outputs": []
    },
    {
      "cell_type": "code",
      "metadata": {
        "colab": {
          "base_uri": "https://localhost:8080/",
          "height": 36
        },
        "id": "-53lVC0XfxtS",
        "outputId": "f48eca57-18e8-48ab-9790-e8fcb5f2a618"
      },
      "source": [
        "#os.chdir(\"/content/\")\n",
        "os.getcwd()"
      ],
      "execution_count": null,
      "outputs": [
        {
          "output_type": "execute_result",
          "data": {
            "application/vnd.google.colaboratory.intrinsic+json": {
              "type": "string"
            },
            "text/plain": [
              "'/content/GmdhPy'"
            ]
          },
          "metadata": {},
          "execution_count": 20
        }
      ]
    },
    {
      "cell_type": "code",
      "metadata": {
        "id": "BBZwfMxXkUnO"
      },
      "source": [
        "df = pd.read_csv(\"/content/drive/MyDrive/Dataset/EMG_Signals/EMG_Dataset/emg_dataset.csv\")\n"
      ],
      "execution_count": null,
      "outputs": []
    },
    {
      "cell_type": "code",
      "metadata": {
        "id": "aYj_-YWpkR6S"
      },
      "source": [
        "################################################### ONLY ON ONE SUB TILL MORE MEMORY\n",
        "mask = (df[\"sub_id\"]==\"sub1\") & ((df[\"type_cls_name\"]==\"Aggressive_Elbowing\") | (df[\"type_cls_name\"]==\"Normal_Bowing\"))\n",
        "df = df[mask]\n",
        "################################################### ONLY ON ONE SUB TILL MORE MEMORY"
      ],
      "execution_count": null,
      "outputs": []
    },
    {
      "cell_type": "code",
      "metadata": {
        "id": "kwwxBN-ExWQl"
      },
      "source": [
        ""
      ],
      "execution_count": null,
      "outputs": []
    },
    {
      "cell_type": "code",
      "metadata": {
        "id": "-KYyT_twgM_z"
      },
      "source": [
        "n_steps_in = 96\n",
        "\n",
        "with tf.device('/device:GPU:0'):\n",
        "  X_dataset, y_dataset = load_x_y_dataset_windowing(df, n_steps_in)"
      ],
      "execution_count": null,
      "outputs": []
    },
    {
      "cell_type": "code",
      "metadata": {
        "id": "vp2hn78wh_9_"
      },
      "source": [
        "del df"
      ],
      "execution_count": null,
      "outputs": []
    },
    {
      "cell_type": "code",
      "metadata": {
        "id": "SZlWvY6xxR4Q"
      },
      "source": [
        ""
      ],
      "execution_count": null,
      "outputs": []
    },
    {
      "cell_type": "code",
      "metadata": {
        "id": "HVwBmqIdganP"
      },
      "source": [
        "from sklearn.model_selection import train_test_split\n",
        "\n",
        "X_train, X_test, y_train, y_test = train_test_split(X_dataset, y_dataset, shuffle=True, \n",
        "                                                    test_size=0.2, random_state=1, stratify=y_dataset)"
      ],
      "execution_count": null,
      "outputs": []
    },
    {
      "cell_type": "code",
      "metadata": {
        "id": "NU4NPuUrgisI"
      },
      "source": [
        "del X_dataset\n",
        "del y_dataset"
      ],
      "execution_count": null,
      "outputs": []
    },
    {
      "cell_type": "code",
      "metadata": {
        "id": "_evfFsg4ghMc"
      },
      "source": [
        "from sklearn.preprocessing import LabelEncoder\n",
        "\n",
        "label_encoder = LabelEncoder()\n",
        "y_train = label_encoder.fit_transform(y_train)\n",
        "y_test = label_encoder.transform(y_test)"
      ],
      "execution_count": null,
      "outputs": []
    },
    {
      "cell_type": "code",
      "metadata": {
        "colab": {
          "base_uri": "https://localhost:8080/"
        },
        "id": "HolP6Lu-jL_l",
        "outputId": "8f1c76d9-ee1b-4342-d88f-3111e4429d8b"
      },
      "source": [
        "X_train.shape, X_test.shape, y_train.shape, y_test.shape"
      ],
      "execution_count": null,
      "outputs": [
        {
          "output_type": "execute_result",
          "data": {
            "text/plain": [
              "((15529, 96, 8), (3883, 96, 8), (15529,), (3883,))"
            ]
          },
          "metadata": {},
          "execution_count": 28
        }
      ]
    },
    {
      "cell_type": "code",
      "metadata": {
        "id": "1jnBhD7VjSX-"
      },
      "source": [
        "X_train = X_train.reshape(-1, X_train.shape[1]*X_train.shape[2])\n",
        "X_test = X_test.reshape(-1, X_test.shape[1]*X_test.shape[2])"
      ],
      "execution_count": null,
      "outputs": []
    },
    {
      "cell_type": "code",
      "metadata": {
        "colab": {
          "base_uri": "https://localhost:8080/"
        },
        "id": "LBs407FSjgn6",
        "outputId": "dd15e29b-9f67-4a3a-ce0d-09f1ed71fe1a"
      },
      "source": [
        "X_train.shape, X_test.shape, y_train.shape, y_test.shape"
      ],
      "execution_count": null,
      "outputs": [
        {
          "output_type": "execute_result",
          "data": {
            "text/plain": [
              "((15529, 768), (3883, 768), (15529,), (3883,))"
            ]
          },
          "metadata": {},
          "execution_count": 30
        }
      ]
    },
    {
      "cell_type": "code",
      "metadata": {
        "colab": {
          "base_uri": "https://localhost:8080/"
        },
        "id": "6qi5GQlHeFN3",
        "outputId": "865fdac8-2c02-46fd-d873-fbb5b2fe51f1"
      },
      "source": [
        "from __future__ import print_function\n",
        "from gmdhpy.gmdh import Classifier\n",
        "\n",
        "model = Classifier(ref_functions=('linear_cov', 'quad'),\n",
        "                      manual_best_neurons_selection=True,\n",
        "                      min_best_neurons_count=30,\n",
        "                      n_jobs='max')\n",
        "\n",
        "with tf.device('/device:GPU:0'):\n",
        "  model.fit(X_train, y_train)"
      ],
      "execution_count": null,
      "outputs": [
        {
          "output_type": "stream",
          "name": "stderr",
          "text": [
            "/content/GmdhPy/gmdhpy/neuron.py:153: RuntimeWarning: overflow encountered in exp\n",
            "  return 1.0 / (1.0 + np.exp(-x))\n",
            "/content/GmdhPy/gmdhpy/neuron.py:153: RuntimeWarning: overflow encountered in exp\n",
            "  return 1.0 / (1.0 + np.exp(-x))\n",
            "/content/GmdhPy/gmdhpy/neuron.py:153: RuntimeWarning: overflow encountered in exp\n",
            "  return 1.0 / (1.0 + np.exp(-x))\n",
            "/content/GmdhPy/gmdhpy/neuron.py:153: RuntimeWarning: overflow encountered in exp\n",
            "  return 1.0 / (1.0 + np.exp(-x))\n",
            "/content/GmdhPy/gmdhpy/neuron.py:153: RuntimeWarning: overflow encountered in exp\n",
            "  return 1.0 / (1.0 + np.exp(-x))\n",
            "/content/GmdhPy/gmdhpy/neuron.py:153: RuntimeWarning: overflow encountered in exp\n",
            "  return 1.0 / (1.0 + np.exp(-x))\n",
            "/content/GmdhPy/gmdhpy/neuron.py:153: RuntimeWarning: overflow encountered in exp\n",
            "  return 1.0 / (1.0 + np.exp(-x))\n",
            "/content/GmdhPy/gmdhpy/neuron.py:153: RuntimeWarning: overflow encountered in exp\n",
            "  return 1.0 / (1.0 + np.exp(-x))\n",
            "/content/GmdhPy/gmdhpy/neuron.py:153: RuntimeWarning: overflow encountered in exp\n",
            "  return 1.0 / (1.0 + np.exp(-x))\n",
            "/content/GmdhPy/gmdhpy/neuron.py:153: RuntimeWarning: overflow encountered in exp\n",
            "  return 1.0 / (1.0 + np.exp(-x))\n",
            "/content/GmdhPy/gmdhpy/neuron.py:153: RuntimeWarning: overflow encountered in exp\n",
            "  return 1.0 / (1.0 + np.exp(-x))\n",
            "/content/GmdhPy/gmdhpy/neuron.py:153: RuntimeWarning: overflow encountered in exp\n",
            "  return 1.0 / (1.0 + np.exp(-x))\n",
            "/content/GmdhPy/gmdhpy/neuron.py:153: RuntimeWarning: overflow encountered in exp\n",
            "  return 1.0 / (1.0 + np.exp(-x))\n",
            "/content/GmdhPy/gmdhpy/neuron.py:153: RuntimeWarning: overflow encountered in exp\n",
            "  return 1.0 / (1.0 + np.exp(-x))\n",
            "/content/GmdhPy/gmdhpy/neuron.py:153: RuntimeWarning: overflow encountered in exp\n",
            "  return 1.0 / (1.0 + np.exp(-x))\n",
            "/content/GmdhPy/gmdhpy/neuron.py:153: RuntimeWarning: overflow encountered in exp\n",
            "  return 1.0 / (1.0 + np.exp(-x))\n",
            "/content/GmdhPy/gmdhpy/neuron.py:153: RuntimeWarning: overflow encountered in exp\n",
            "  return 1.0 / (1.0 + np.exp(-x))\n",
            "/content/GmdhPy/gmdhpy/neuron.py:153: RuntimeWarning: overflow encountered in exp\n",
            "  return 1.0 / (1.0 + np.exp(-x))\n",
            "/content/GmdhPy/gmdhpy/neuron.py:153: RuntimeWarning: overflow encountered in exp\n",
            "  return 1.0 / (1.0 + np.exp(-x))\n",
            "/content/GmdhPy/gmdhpy/neuron.py:153: RuntimeWarning: overflow encountered in exp\n",
            "  return 1.0 / (1.0 + np.exp(-x))\n",
            "/content/GmdhPy/gmdhpy/neuron.py:153: RuntimeWarning: overflow encountered in exp\n",
            "  return 1.0 / (1.0 + np.exp(-x))\n",
            "/content/GmdhPy/gmdhpy/neuron.py:153: RuntimeWarning: overflow encountered in exp\n",
            "  return 1.0 / (1.0 + np.exp(-x))\n",
            "/content/GmdhPy/gmdhpy/neuron.py:153: RuntimeWarning: overflow encountered in exp\n",
            "  return 1.0 / (1.0 + np.exp(-x))\n",
            "/content/GmdhPy/gmdhpy/neuron.py:153: RuntimeWarning: overflow encountered in exp\n",
            "  return 1.0 / (1.0 + np.exp(-x))\n",
            "/content/GmdhPy/gmdhpy/neuron.py:153: RuntimeWarning: overflow encountered in exp\n",
            "  return 1.0 / (1.0 + np.exp(-x))\n",
            "/content/GmdhPy/gmdhpy/neuron.py:153: RuntimeWarning: overflow encountered in exp\n",
            "  return 1.0 / (1.0 + np.exp(-x))\n",
            "/content/GmdhPy/gmdhpy/neuron.py:153: RuntimeWarning: overflow encountered in exp\n",
            "  return 1.0 / (1.0 + np.exp(-x))\n",
            "/content/GmdhPy/gmdhpy/neuron.py:153: RuntimeWarning: overflow encountered in exp\n",
            "  return 1.0 / (1.0 + np.exp(-x))\n",
            "/content/GmdhPy/gmdhpy/neuron.py:153: RuntimeWarning: overflow encountered in exp\n",
            "  return 1.0 / (1.0 + np.exp(-x))\n",
            "/content/GmdhPy/gmdhpy/neuron.py:153: RuntimeWarning: overflow encountered in exp\n",
            "  return 1.0 / (1.0 + np.exp(-x))\n",
            "/content/GmdhPy/gmdhpy/neuron.py:153: RuntimeWarning: overflow encountered in exp\n",
            "  return 1.0 / (1.0 + np.exp(-x))\n",
            "/content/GmdhPy/gmdhpy/neuron.py:153: RuntimeWarning: overflow encountered in exp\n",
            "  return 1.0 / (1.0 + np.exp(-x))\n",
            "/content/GmdhPy/gmdhpy/neuron.py:153: RuntimeWarning: overflow encountered in exp\n",
            "  return 1.0 / (1.0 + np.exp(-x))\n",
            "/content/GmdhPy/gmdhpy/neuron.py:153: RuntimeWarning: overflow encountered in exp\n",
            "  return 1.0 / (1.0 + np.exp(-x))\n",
            "/content/GmdhPy/gmdhpy/neuron.py:153: RuntimeWarning: overflow encountered in exp\n",
            "  return 1.0 / (1.0 + np.exp(-x))\n",
            "/content/GmdhPy/gmdhpy/neuron.py:153: RuntimeWarning: overflow encountered in exp\n",
            "  return 1.0 / (1.0 + np.exp(-x))\n",
            "/content/GmdhPy/gmdhpy/neuron.py:153: RuntimeWarning: overflow encountered in exp\n",
            "  return 1.0 / (1.0 + np.exp(-x))\n",
            "/content/GmdhPy/gmdhpy/neuron.py:153: RuntimeWarning: overflow encountered in exp\n",
            "  return 1.0 / (1.0 + np.exp(-x))\n",
            "/content/GmdhPy/gmdhpy/neuron.py:153: RuntimeWarning: overflow encountered in exp\n",
            "  return 1.0 / (1.0 + np.exp(-x))\n",
            "/content/GmdhPy/gmdhpy/neuron.py:153: RuntimeWarning: overflow encountered in exp\n",
            "  return 1.0 / (1.0 + np.exp(-x))\n",
            "/content/GmdhPy/gmdhpy/neuron.py:153: RuntimeWarning: overflow encountered in exp\n",
            "  return 1.0 / (1.0 + np.exp(-x))\n",
            "/content/GmdhPy/gmdhpy/neuron.py:153: RuntimeWarning: overflow encountered in exp\n",
            "  return 1.0 / (1.0 + np.exp(-x))\n",
            "/content/GmdhPy/gmdhpy/neuron.py:153: RuntimeWarning: overflow encountered in exp\n",
            "  return 1.0 / (1.0 + np.exp(-x))\n",
            "/content/GmdhPy/gmdhpy/neuron.py:153: RuntimeWarning: overflow encountered in exp\n",
            "  return 1.0 / (1.0 + np.exp(-x))\n",
            "/content/GmdhPy/gmdhpy/neuron.py:153: RuntimeWarning: overflow encountered in exp\n",
            "  return 1.0 / (1.0 + np.exp(-x))\n",
            "/content/GmdhPy/gmdhpy/neuron.py:153: RuntimeWarning: overflow encountered in exp\n",
            "  return 1.0 / (1.0 + np.exp(-x))\n",
            "/content/GmdhPy/gmdhpy/neuron.py:153: RuntimeWarning: overflow encountered in exp\n",
            "  return 1.0 / (1.0 + np.exp(-x))\n",
            "/content/GmdhPy/gmdhpy/neuron.py:153: RuntimeWarning: overflow encountered in exp\n",
            "  return 1.0 / (1.0 + np.exp(-x))\n",
            "/content/GmdhPy/gmdhpy/neuron.py:153: RuntimeWarning: overflow encountered in exp\n",
            "  return 1.0 / (1.0 + np.exp(-x))\n",
            "/content/GmdhPy/gmdhpy/neuron.py:153: RuntimeWarning: overflow encountered in exp\n",
            "  return 1.0 / (1.0 + np.exp(-x))\n",
            "/content/GmdhPy/gmdhpy/neuron.py:153: RuntimeWarning: overflow encountered in exp\n",
            "  return 1.0 / (1.0 + np.exp(-x))\n",
            "/content/GmdhPy/gmdhpy/neuron.py:153: RuntimeWarning: overflow encountered in exp\n",
            "  return 1.0 / (1.0 + np.exp(-x))\n",
            "/content/GmdhPy/gmdhpy/neuron.py:153: RuntimeWarning: overflow encountered in exp\n",
            "  return 1.0 / (1.0 + np.exp(-x))\n",
            "/content/GmdhPy/gmdhpy/neuron.py:153: RuntimeWarning: overflow encountered in exp\n",
            "  return 1.0 / (1.0 + np.exp(-x))\n",
            "/content/GmdhPy/gmdhpy/neuron.py:153: RuntimeWarning: overflow encountered in exp\n",
            "  return 1.0 / (1.0 + np.exp(-x))\n",
            "/content/GmdhPy/gmdhpy/neuron.py:153: RuntimeWarning: overflow encountered in exp\n",
            "  return 1.0 / (1.0 + np.exp(-x))\n",
            "/content/GmdhPy/gmdhpy/neuron.py:153: RuntimeWarning: overflow encountered in exp\n",
            "  return 1.0 / (1.0 + np.exp(-x))\n",
            "/content/GmdhPy/gmdhpy/neuron.py:153: RuntimeWarning: overflow encountered in exp\n",
            "  return 1.0 / (1.0 + np.exp(-x))\n"
          ]
        }
      ]
    },
    {
      "cell_type": "code",
      "metadata": {
        "id": "f2LMinuregwf"
      },
      "source": [
        "y_hat = model.predict(X_test)\n",
        "\n",
        "get_classification_report(y_test, y_hat)"
      ],
      "execution_count": null,
      "outputs": []
    },
    {
      "cell_type": "code",
      "metadata": {
        "id": "28sNm1RyvqOG"
      },
      "source": [
        ""
      ],
      "execution_count": null,
      "outputs": []
    }
  ]
}